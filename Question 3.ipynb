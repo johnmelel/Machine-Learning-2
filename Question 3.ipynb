{
 "cells": [
  {
   "cell_type": "markdown",
   "id": "0530642a-ad85-49bf-ace4-e537dd4e6dca",
   "metadata": {},
   "source": [
    "### Question 03\n",
    "Dataset regression-v1.csv contains actuals and predictions from a normally distributed response variable with a varying mean but constant variance."
   ]
  },
  {
   "cell_type": "markdown",
   "id": "d2f1b23e-2035-4992-ab29-8402925888bb",
   "metadata": {},
   "source": [
    "1. Manually compute mean absolute error, mean squared error, r2, explained variance score, and mean absolute percentage error"
   ]
  },
  {
   "cell_type": "code",
   "execution_count": 10,
   "id": "dc58f33e-d823-462d-bbc5-4400977d6a16",
   "metadata": {},
   "outputs": [
    {
     "name": "stdout",
     "output_type": "stream",
     "text": [
      "Mean Absolute Error: 0.12176198368693504\n",
      "Mean Squared Error: 0.022933380701432377\n",
      "R-squared: 0.9074006311244875\n",
      "Explained Variance Score: 0.9075476866547145\n",
      "Mean Absolute Percentage Error: 264.1838975226423 %\n"
     ]
    }
   ],
   "source": [
    "import pandas as pd\n",
    "import numpy as np\n",
    "data4=pd.read_csv(\"regression-v1.csv\")\n",
    "n=len(data4)\n",
    "y=data4[\"y\"]\n",
    "yh=data4[\"yhat\"]\n",
    "ybar=np.mean(y)\n",
    "mse = (1/n) * np.sum((data4[\"y\"] - data4[\"yhat\"]) ** 2)\n",
    "mae= (1/n) * np.sum(np.abs(data4[\"y\"] - data4[\"yhat\"]))\n",
    "r2 = 1 - (np.sum((data4[\"y\"] - data4[\"yhat\"])**2)) / (np.sum((data4[\"y\"] - ybar)**2))\n",
    "ev=1-((np.var(y-yh))/(np.var(y)))\n",
    "mape=(1/n)*np.sum(np.abs((y-yh)/y))*100\n",
    "print(\"Mean Absolute Error:\",mae)\n",
    "print(\"Mean Squared Error:\", mse)\n",
    "print(\"R-squared:\",r2)\n",
    "print(\"Explained Variance Score:\",ev)\n",
    "print(\"Mean Absolute Percentage Error:\",mape,\"%\")"
   ]
  },
  {
   "cell_type": "markdown",
   "id": "67471bc2-e2f0-4a53-b1e5-73ea706cc261",
   "metadata": {},
   "source": [
    "2. Compute the metrics in item 2 using sklearn and tensorflow"
   ]
  },
  {
   "cell_type": "code",
   "execution_count": 12,
   "id": "315a98ad-e2ca-4c84-bb5b-bee0fd06e63f",
   "metadata": {},
   "outputs": [
    {
     "name": "stderr",
     "output_type": "stream",
     "text": [
      "2025-03-29 12:58:06.393681: I tensorflow/core/platform/cpu_feature_guard.cc:210] This TensorFlow binary is optimized to use available CPU instructions in performance-critical operations.\n",
      "To enable the following instructions: AVX2 AVX512F AVX512_VNNI FMA, in other operations, rebuild TensorFlow with the appropriate compiler flags.\n"
     ]
    },
    {
     "name": "stdout",
     "output_type": "stream",
     "text": [
      "Using Sklearn:\n",
      "Mean Absolute Error (MAE): 0.1218\n",
      "Mean Squared Error (MSE): 0.0229\n",
      "R-squared (R²): 0.9074\n",
      "Explained Variance Score: 0.9075\n",
      "Mean Absolute Percentage Error (MAPE): 264.1839%\n",
      "\n",
      "\n",
      "Using TensorFlow:\n",
      "Mean Absolute Error (MAE): 0.1218\n",
      "Mean Squared Error (MSE): 0.0229\n",
      "R2 Score: 0.9074\n",
      "Explained Variance Score: 0.9075\n",
      "Mean Absolute Percentage Error (MAPE): 264.1839\n"
     ]
    }
   ],
   "source": [
    "from sklearn.metrics import mean_absolute_error, mean_squared_error, r2_score, explained_variance_score, mean_absolute_percentage_error\n",
    "import tensorflow as tf\n",
    "\n",
    "# Extract actual and predicted values\n",
    "y_true = data4['y'].values\n",
    "y_pred = data4['yhat'].values\n",
    "\n",
    "# Calculate metrics using Sklearn\n",
    "mse_sklearn = mean_squared_error(y_true, y_pred)\n",
    "mae_sklearn = mean_absolute_error(y_true, y_pred)\n",
    "r2_sklearn = r2_score(y_true, y_pred)\n",
    "explained_variance_sklearn = explained_variance_score(y_true, y_pred)\n",
    "mape_sklearn = mean_absolute_percentage_error(y_true, y_pred)*100\n",
    "\n",
    "# Print Sklearn results\n",
    "print(\"Using Sklearn:\")\n",
    "print(f\"Mean Absolute Error (MAE): {mae_sklearn:.4f}\")\n",
    "print(f\"Mean Squared Error (MSE): {mse_sklearn:.4f}\")\n",
    "print(f\"R-squared (R²): {r2_sklearn:.4f}\")\n",
    "print(f\"Explained Variance Score: {explained_variance_sklearn:.4f}\")\n",
    "print(f\"Mean Absolute Percentage Error (MAPE): {mape_sklearn:.4f}%\")\n",
    "print(\"\\n\")\n",
    "\n",
    "# Calculate metrics using TensorFlow\n",
    "mae_tf = tf.reduce_mean(tf.abs(y_true - y_pred)).numpy()\n",
    "mse_tf = tf.reduce_mean(tf.square(y_true - y_pred)).numpy()\n",
    "r2_tf = r2_score(y_true, y_pred)\n",
    "explained_variance_tf = explained_variance_score(y_true, y_pred)\n",
    "mape_tf = tf.reduce_mean(tf.abs((y_true - y_pred) / y_true)*100).numpy()\n",
    "\n",
    "# Prepare results\n",
    "metrics_tf = {\n",
    "    \"Mean Absolute Error (MAE)\": mae_tf,\n",
    "    \"Mean Squared Error (MSE)\": mse_tf,\n",
    "    \"R2 Score\": r2_tf,\n",
    "    \"Explained Variance Score\": explained_variance_tf,\n",
    "    \"Mean Absolute Percentage Error (MAPE)\": mape_tf,\n",
    "}\n",
    "\n",
    "# Print TensorFlow results\n",
    "print(\"Using TensorFlow:\")\n",
    "for metric, value in metrics_tf.items():\n",
    "    print(f\"{metric}: {value:.4f}\")"
   ]
  },
  {
   "cell_type": "markdown",
   "id": "3ef6e131-947b-4c1c-b8fb-f93f7a18e9fd",
   "metadata": {},
   "source": [
    "3. Document that the values match across all three computing approaches"
   ]
  },
  {
   "cell_type": "code",
   "execution_count": null,
   "id": "a080c74c-1f89-4c73-91e6-2b7cdc908532",
   "metadata": {},
   "outputs": [],
   "source": []
  }
 ],
 "metadata": {
  "kernelspec": {
   "display_name": "Python 3 (ipykernel)",
   "language": "python",
   "name": "python3"
  },
  "language_info": {
   "codemirror_mode": {
    "name": "ipython",
    "version": 3
   },
   "file_extension": ".py",
   "mimetype": "text/x-python",
   "name": "python",
   "nbconvert_exporter": "python",
   "pygments_lexer": "ipython3",
   "version": "3.11.5"
  }
 },
 "nbformat": 4,
 "nbformat_minor": 5
}
