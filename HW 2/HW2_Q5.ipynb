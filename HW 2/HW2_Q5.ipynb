{
  "nbformat": 4,
  "nbformat_minor": 0,
  "metadata": {
    "colab": {
      "provenance": [],
      "gpuType": "T4"
    },
    "kernelspec": {
      "name": "python3",
      "display_name": "Python 3"
    },
    "language_info": {
      "name": "python"
    },
    "accelerator": "GPU"
  },
  "cells": [
    {
      "cell_type": "markdown",
      "source": [
        "# Assignment 2\n",
        "\n",
        "Veera Anand, Aarav Dewangan, Samuel Martinez Koss, and John Melel."
      ],
      "metadata": {
        "id": "hFTErbQ8We-N"
      }
    },
    {
      "cell_type": "markdown",
      "source": [
        "## Setup + RAPIDS"
      ],
      "metadata": {
        "id": "97GXjjt7q7zI"
      }
    },
    {
      "cell_type": "code",
      "source": [
        "!pip install -q condacolab\n",
        "import condacolab\n",
        "condacolab.install()"
      ],
      "metadata": {
        "colab": {
          "base_uri": "https://localhost:8080/"
        },
        "id": "O2wnp4U4q-K2",
        "outputId": "4c96f440-e9b5-4125-ba97-135ce5b6b7a4"
      },
      "execution_count": 1,
      "outputs": [
        {
          "output_type": "stream",
          "name": "stdout",
          "text": [
            "✨🍰✨ Everything looks OK!\n"
          ]
        }
      ]
    },
    {
      "cell_type": "code",
      "source": [
        "!mamba create -n rapidsai python=3.10 -y"
      ],
      "metadata": {
        "colab": {
          "base_uri": "https://localhost:8080/"
        },
        "collapsed": true,
        "id": "imx9Gs8LrF7I",
        "outputId": "995857a2-1f20-425a-c281-687b0ef6c79b"
      },
      "execution_count": 2,
      "outputs": [
        {
          "output_type": "stream",
          "name": "stdout",
          "text": [
            "\n",
            "Looking for: ['python=3.10']\n",
            "\n",
            "\u001b[?25l\u001b[2K\u001b[0G[+] 0.0s\n",
            "conda-forge/linux-64  ⣾  \u001b[2K\u001b[1A\u001b[2K\u001b[0G[+] 0.1s\n",
            "conda-forge/linux-64   1%\n",
            "conda-forge/noarch    ⣾  \u001b[2K\u001b[1A\u001b[2K\u001b[1A\u001b[2K\u001b[0G[+] 0.2s\n",
            "conda-forge/linux-64  11%\n",
            "conda-forge/noarch    19%\u001b[2K\u001b[1A\u001b[2K\u001b[1A\u001b[2K\u001b[0G[+] 0.3s\n",
            "conda-forge/linux-64  20%\n",
            "conda-forge/noarch    40%\u001b[2K\u001b[1A\u001b[2K\u001b[1A\u001b[2K\u001b[0G[+] 0.4s\n",
            "conda-forge/linux-64  27%\n",
            "conda-forge/noarch    55%\u001b[2K\u001b[1A\u001b[2K\u001b[1A\u001b[2K\u001b[0G[+] 0.5s\n",
            "conda-forge/linux-64  30%\n",
            "conda-forge/noarch    62%\u001b[2K\u001b[1A\u001b[2K\u001b[1A\u001b[2K\u001b[0G[+] 0.6s\n",
            "conda-forge/linux-64  30%\n",
            "conda-forge/noarch    62%\u001b[2K\u001b[1A\u001b[2K\u001b[1A\u001b[2K\u001b[0G[+] 0.7s\n",
            "conda-forge/linux-64  30%\n",
            "conda-forge/noarch    62%\u001b[2K\u001b[1A\u001b[2K\u001b[1A\u001b[2K\u001b[0G[+] 0.8s\n",
            "conda-forge/linux-64  33%\n",
            "conda-forge/noarch    62%\u001b[2K\u001b[1A\u001b[2K\u001b[1A\u001b[2K\u001b[0G[+] 0.9s\n",
            "conda-forge/linux-64  33%\n",
            "conda-forge/noarch    68%\u001b[2K\u001b[1A\u001b[2K\u001b[1A\u001b[2K\u001b[0G[+] 1.0s\n",
            "conda-forge/linux-64  34%\n",
            "conda-forge/noarch    69%\u001b[2K\u001b[1A\u001b[2K\u001b[1A\u001b[2K\u001b[0G[+] 1.1s\n",
            "conda-forge/linux-64  35%\n",
            "conda-forge/noarch    71%\u001b[2K\u001b[1A\u001b[2K\u001b[1A\u001b[2K\u001b[0G[+] 1.2s\n",
            "conda-forge/linux-64  35%\n",
            "conda-forge/noarch    73%\u001b[2K\u001b[1A\u001b[2K\u001b[1A\u001b[2K\u001b[0G[+] 1.3s\n",
            "conda-forge/linux-64  36%\n",
            "conda-forge/noarch    74%\u001b[2K\u001b[1A\u001b[2K\u001b[1A\u001b[2K\u001b[0G[+] 1.4s\n",
            "conda-forge/linux-64  38%\n",
            "conda-forge/noarch    78%\u001b[2K\u001b[1A\u001b[2K\u001b[1A\u001b[2K\u001b[0G[+] 1.5s\n",
            "conda-forge/linux-64  40%\n",
            "conda-forge/noarch    84%\u001b[2K\u001b[1A\u001b[2K\u001b[1A\u001b[2K\u001b[0G[+] 1.6s\n",
            "conda-forge/linux-64  41%\n",
            "conda-forge/noarch    87%\u001b[2K\u001b[1A\u001b[2K\u001b[1A\u001b[2K\u001b[0G[+] 1.7s\n",
            "conda-forge/linux-64  42%\n",
            "conda-forge/noarch    87%\u001b[2K\u001b[1A\u001b[2K\u001b[1A\u001b[2K\u001b[0G[+] 1.8s\n",
            "conda-forge/linux-64  42%\n",
            "conda-forge/noarch    89%\u001b[2K\u001b[1A\u001b[2K\u001b[1A\u001b[2K\u001b[0G[+] 1.9s\n",
            "conda-forge/linux-64  43%\n",
            "conda-forge/noarch    89%\u001b[2K\u001b[1A\u001b[2K\u001b[1A\u001b[2K\u001b[0G[+] 2.0s\n",
            "conda-forge/linux-64  43%\n",
            "conda-forge/noarch    89%\u001b[2K\u001b[1A\u001b[2K\u001b[1A\u001b[2K\u001b[0G[+] 2.1s\n",
            "conda-forge/linux-64  43%\n",
            "conda-forge/noarch    89%\u001b[2K\u001b[1A\u001b[2K\u001b[1A\u001b[2K\u001b[0G[+] 2.2s\n",
            "conda-forge/linux-64  43%\n",
            "conda-forge/noarch    89%\u001b[2K\u001b[1A\u001b[2K\u001b[1A\u001b[2K\u001b[0G[+] 2.3s\n",
            "conda-forge/linux-64  43%\n",
            "conda-forge/noarch    89%\u001b[2K\u001b[1A\u001b[2K\u001b[1A\u001b[2K\u001b[0G[+] 2.4s\n",
            "conda-forge/linux-64  43%\n",
            "conda-forge/noarch    89%\u001b[2K\u001b[1A\u001b[2K\u001b[1A\u001b[2K\u001b[0G[+] 2.5s\n",
            "conda-forge/linux-64  43%\n",
            "conda-forge/noarch    90%\u001b[2K\u001b[1A\u001b[2K\u001b[1A\u001b[2K\u001b[0G[+] 2.6s\n",
            "conda-forge/linux-64  43%\n",
            "conda-forge/noarch    90%\u001b[2K\u001b[1A\u001b[2K\u001b[1A\u001b[2K\u001b[0G[+] 2.7s\n",
            "conda-forge/linux-64  43%\n",
            "conda-forge/noarch    90%\u001b[2K\u001b[1A\u001b[2K\u001b[1A\u001b[2K\u001b[0G[+] 2.8s\n",
            "conda-forge/linux-64  43%\n",
            "conda-forge/noarch    90%\u001b[2K\u001b[1A\u001b[2K\u001b[1A\u001b[2K\u001b[0G[+] 2.9s\n",
            "conda-forge/linux-64  43%\n",
            "conda-forge/noarch    90%\u001b[2K\u001b[1A\u001b[2K\u001b[1A\u001b[2K\u001b[0G[+] 3.0s\n",
            "conda-forge/linux-64  43%\n",
            "conda-forge/noarch    90%\u001b[2K\u001b[1A\u001b[2K\u001b[1A\u001b[2K\u001b[0G[+] 3.1s\n",
            "conda-forge/linux-64  43%\n",
            "conda-forge/noarch    90%\u001b[2K\u001b[1A\u001b[2K\u001b[1A\u001b[2K\u001b[0G[+] 3.2s\n",
            "conda-forge/linux-64  43%\n",
            "conda-forge/noarch    90%\u001b[2K\u001b[1A\u001b[2K\u001b[1A\u001b[2K\u001b[0G[+] 3.3s\n",
            "conda-forge/linux-64  43%\n",
            "conda-forge/noarch    90%\u001b[2K\u001b[1A\u001b[2K\u001b[1A\u001b[2K\u001b[0G[+] 3.4s\n",
            "conda-forge/linux-64  43%\n",
            "conda-forge/noarch    90%\u001b[2K\u001b[1A\u001b[2K\u001b[1A\u001b[2K\u001b[0G[+] 3.5s\n",
            "conda-forge/linux-64  43%\n",
            "conda-forge/noarch    90%\u001b[2K\u001b[1A\u001b[2K\u001b[1A\u001b[2K\u001b[0G[+] 3.6s\n",
            "conda-forge/linux-64  43%\n",
            "conda-forge/noarch    90%\u001b[2K\u001b[1A\u001b[2K\u001b[1A\u001b[2K\u001b[0G[+] 3.7s\n",
            "conda-forge/linux-64  43%\n",
            "conda-forge/noarch    90%\u001b[2K\u001b[1A\u001b[2K\u001b[1A\u001b[2K\u001b[0G[+] 3.8s\n",
            "conda-forge/linux-64  43%\n",
            "conda-forge/noarch    90%\u001b[2K\u001b[1A\u001b[2K\u001b[1A\u001b[2K\u001b[0G[+] 3.9s\n",
            "conda-forge/linux-64  43%\n",
            "conda-forge/noarch    90%\u001b[2K\u001b[1A\u001b[2K\u001b[1A\u001b[2K\u001b[0Gconda-forge/noarch                                \n",
            "[+] 4.0s\n",
            "conda-forge/linux-64  48%\u001b[2K\u001b[1A\u001b[2K\u001b[0G[+] 4.1s\n",
            "conda-forge/linux-64  60%\u001b[2K\u001b[1A\u001b[2K\u001b[0G[+] 4.2s\n",
            "conda-forge/linux-64  72%\u001b[2K\u001b[1A\u001b[2K\u001b[0G[+] 4.3s\n",
            "conda-forge/linux-64  82%\u001b[2K\u001b[1A\u001b[2K\u001b[0G[+] 4.4s\n",
            "conda-forge/linux-64  93%\u001b[2K\u001b[1A\u001b[2K\u001b[0G[+] 4.5s\n",
            "conda-forge/linux-64  97%\u001b[2K\u001b[1A\u001b[2K\u001b[0Gconda-forge/linux-64                              \n",
            "\u001b[?25hTransaction\n",
            "\n",
            "  Prefix: /usr/local/envs/rapidsai\n",
            "\n",
            "  Updating specs:\n",
            "\n",
            "   - python=3.10\n",
            "\n",
            "\n",
            "  Package               Version  Build               Channel           Size\n",
            "─────────────────────────────────────────────────────────────────────────────\n",
            "  Install:\n",
            "─────────────────────────────────────────────────────────────────────────────\n",
            "\n",
            "  \u001b[32m+ ld_impl_linux-64\u001b[0m       2.43  h712a8e2_4          conda-forge\u001b[32m     Cached\u001b[0m\n",
            "  \u001b[32m+ ca-certificates \u001b[0m  2025.1.31  hbcca054_0          conda-forge\u001b[32m     Cached\u001b[0m\n",
            "  \u001b[32m+ _libgcc_mutex   \u001b[0m        0.1  conda_forge         conda-forge\u001b[32m     Cached\u001b[0m\n",
            "  \u001b[32m+ libgomp         \u001b[0m     14.2.0  h767d61c_2          conda-forge\u001b[32m     Cached\u001b[0m\n",
            "  \u001b[32m+ _openmp_mutex   \u001b[0m        4.5  2_gnu               conda-forge\u001b[32m     Cached\u001b[0m\n",
            "  \u001b[32m+ libgcc          \u001b[0m     14.2.0  h767d61c_2          conda-forge\u001b[32m     Cached\u001b[0m\n",
            "  \u001b[32m+ ncurses         \u001b[0m        6.5  h2d0b736_3          conda-forge\u001b[32m     Cached\u001b[0m\n",
            "  \u001b[32m+ libzlib         \u001b[0m      1.3.1  hb9d3cd8_2          conda-forge\u001b[32m     Cached\u001b[0m\n",
            "  \u001b[32m+ liblzma         \u001b[0m      5.8.1  hb9d3cd8_0          conda-forge\u001b[32m     Cached\u001b[0m\n",
            "  \u001b[32m+ libgcc-ng       \u001b[0m     14.2.0  h69a702a_2          conda-forge\u001b[32m     Cached\u001b[0m\n",
            "  \u001b[32m+ libffi          \u001b[0m      3.4.6  h2dba641_1          conda-forge\u001b[32m     Cached\u001b[0m\n",
            "  \u001b[32m+ openssl         \u001b[0m      3.4.1  h7b32b05_0          conda-forge\u001b[32m     Cached\u001b[0m\n",
            "  \u001b[32m+ readline        \u001b[0m        8.2  h8c095d6_2          conda-forge\u001b[32m     Cached\u001b[0m\n",
            "  \u001b[32m+ libsqlite       \u001b[0m     3.49.1  hee588c1_2          conda-forge\u001b[32m     Cached\u001b[0m\n",
            "  \u001b[32m+ tk              \u001b[0m     8.6.13  noxft_h4845f30_101  conda-forge\u001b[32m     Cached\u001b[0m\n",
            "  \u001b[32m+ libxcrypt       \u001b[0m     4.4.36  hd590300_1          conda-forge\u001b[32m     Cached\u001b[0m\n",
            "  \u001b[32m+ bzip2           \u001b[0m      1.0.8  h4bc722e_7          conda-forge\u001b[32m     Cached\u001b[0m\n",
            "  \u001b[32m+ libuuid         \u001b[0m     2.38.1  h0b41bf4_0          conda-forge\u001b[32m     Cached\u001b[0m\n",
            "  \u001b[32m+ libnsl          \u001b[0m      2.0.1  hd590300_0          conda-forge\u001b[32m     Cached\u001b[0m\n",
            "  \u001b[32m+ tzdata          \u001b[0m      2025b  h78e105d_0          conda-forge\u001b[32m     Cached\u001b[0m\n",
            "  \u001b[32m+ python          \u001b[0m    3.10.16  habfa6aa_2_cpython  conda-forge\u001b[32m     Cached\u001b[0m\n",
            "  \u001b[32m+ wheel           \u001b[0m     0.45.1  pyhd8ed1ab_1        conda-forge\u001b[32m     Cached\u001b[0m\n",
            "  \u001b[32m+ setuptools      \u001b[0m     78.1.0  pyhff2d567_0        conda-forge\u001b[32m     Cached\u001b[0m\n",
            "  \u001b[32m+ pip             \u001b[0m     25.0.1  pyh8b19718_0        conda-forge\u001b[32m     Cached\u001b[0m\n",
            "\n",
            "  Summary:\n",
            "\n",
            "  Install: 24 packages\n",
            "\n",
            "  Total download: 0 B\n",
            "\n",
            "─────────────────────────────────────────────────────────────────────────────\n",
            "\n",
            "\n",
            "\u001b[?25l\u001b[2K\u001b[0G\u001b[?25h\n",
            "Downloading and Extracting Packages:\n",
            "\n",
            "Preparing transaction: - \b\b\\ \b\b| \b\bdone\n",
            "Verifying transaction: - \b\b\\ \b\b| \b\b/ \b\b- \b\b\\ \b\b| \b\b/ \b\b- \b\b\\ \b\b| \b\b/ \b\b- \b\b\\ \b\b| \b\b/ \b\b- \b\bdone\n",
            "Executing transaction: | \b\b/ \b\b- \b\b\\ \b\b| \b\b/ \b\b- \b\b\\ \b\b| \b\b/ \b\b- \b\b\\ \b\b| \b\b/ \b\b- \b\b\\ \b\b| \b\b/ \b\b- \b\b\\ \b\b| \b\b/ \b\b- \b\b\\ \b\b| \b\b/ \b\b- \b\b\\ \b\b| \b\b/ \b\b- \b\b\\ \b\b| \b\bdone\n",
            "\n",
            "To activate this environment, use\n",
            "\n",
            "     $ mamba activate rapidsai\n",
            "\n",
            "To deactivate an active environment, use\n",
            "\n",
            "     $ mamba deactivate\n",
            "\n"
          ]
        }
      ]
    },
    {
      "cell_type": "code",
      "source": [
        "import os\n",
        "os._exit(00)"
      ],
      "metadata": {
        "id": "bG6RdMABrGsS"
      },
      "execution_count": null,
      "outputs": []
    },
    {
      "cell_type": "code",
      "source": [
        "!source activate rapidsai && mamba install -c rapidsai -c conda-forge -c nvidia rapids=23.10 python=3.10 cudatoolkit=11.8 -y"
      ],
      "metadata": {
        "colab": {
          "base_uri": "https://localhost:8080/"
        },
        "collapsed": true,
        "id": "CaCIIHMcrGmS",
        "outputId": "ce8a9584-b719-41bc-f456-1240cc3066b0"
      },
      "execution_count": 1,
      "outputs": [
        {
          "output_type": "stream",
          "name": "stdout",
          "text": [
            "\n",
            "Looking for: ['rapids=23.10', 'python=3.10', 'cudatoolkit=11.8']\n",
            "\n",
            "conda-forge/linux-64                                        Using cache\n",
            "conda-forge/noarch                                          Using cache\n",
            "\u001b[?25l\u001b[2K\u001b[0G[+] 0.0s\n",
            "rapidsai/linux-64  ⣾  \u001b[2K\u001b[1A\u001b[2K\u001b[0Grapidsai/linux-64                                             No change\n",
            "nvidia/noarch                                                 No change\n",
            "rapidsai/noarch                                               No change\n",
            "nvidia/linux-64                                               No change\n",
            "\u001b[?25hTransaction\n",
            "\n",
            "  Prefix: /usr/local/envs/rapidsai\n",
            "\n",
            "  Updating specs:\n",
            "\n",
            "   - rapids=23.10\n",
            "   - python=3.10\n",
            "   - cudatoolkit=11.8\n",
            "   - ca-certificates\n",
            "   - openssl\n",
            "\n",
            "\n",
            "  Package                                 Version  Build                              Channel           Size\n",
            "──────────────────────────────────────────────────────────────────────────────────────────────────────────────\n",
            "  Install:\n",
            "──────────────────────────────────────────────────────────────────────────────────────────────────────────────\n",
            "\n",
            "  \u001b[32m+ cuda-profiler-api            \u001b[0m         11.8.86  0                                  nvidia     \u001b[32m     Cached\u001b[0m\n",
            "  \u001b[32m+ libcublas                    \u001b[0m       11.11.3.6  0                                  nvidia     \u001b[32m     Cached\u001b[0m\n",
            "  \u001b[32m+ libcurand                    \u001b[0m       10.3.0.86  0                                  nvidia     \u001b[32m     Cached\u001b[0m\n",
            "  \u001b[32m+ libcusolver                  \u001b[0m       11.4.1.48  0                                  nvidia     \u001b[32m     Cached\u001b[0m\n",
            "  \u001b[32m+ libcusparse                  \u001b[0m       11.7.5.86  0                                  nvidia     \u001b[32m     Cached\u001b[0m\n",
            "  \u001b[32m+ libcufile                    \u001b[0m        1.4.0.31  0                                  nvidia     \u001b[32m     Cached\u001b[0m\n",
            "  \u001b[32m+ libcufft                     \u001b[0m       10.9.0.58  0                                  nvidia     \u001b[32m     Cached\u001b[0m\n",
            "  \u001b[32m+ libcublas-dev                \u001b[0m       11.11.3.6  0                                  nvidia     \u001b[32m     Cached\u001b[0m\n",
            "  \u001b[32m+ libcurand-dev                \u001b[0m       10.3.0.86  0                                  nvidia     \u001b[32m     Cached\u001b[0m\n",
            "  \u001b[32m+ libcusolver-dev              \u001b[0m       11.4.1.48  0                                  nvidia     \u001b[32m     Cached\u001b[0m\n",
            "  \u001b[32m+ libcusparse-dev              \u001b[0m       11.7.5.86  0                                  nvidia     \u001b[32m     Cached\u001b[0m\n",
            "  \u001b[32m+ libcufile-dev                \u001b[0m        1.4.0.31  0                                  nvidia     \u001b[32m     Cached\u001b[0m\n",
            "  \u001b[32m+ libstdcxx                    \u001b[0m          14.2.0  h8f9b012_2                         conda-forge\u001b[32m     Cached\u001b[0m\n",
            "  \u001b[32m+ python_abi                   \u001b[0m            3.10  6_cp310                            conda-forge\u001b[32m     Cached\u001b[0m\n",
            "  \u001b[32m+ jbig                         \u001b[0m             2.1  h7f98852_2003                      conda-forge\u001b[32m     Cached\u001b[0m\n",
            "  \u001b[32m+ liblzma-devel                \u001b[0m           5.8.1  hb9d3cd8_0                         conda-forge\u001b[32m     Cached\u001b[0m\n",
            "  \u001b[32m+ xz-gpl-tools                 \u001b[0m           5.8.1  hbcc6ac9_0                         conda-forge\u001b[32m     Cached\u001b[0m\n",
            "  \u001b[32m+ xz-tools                     \u001b[0m           5.8.1  hb9d3cd8_0                         conda-forge\u001b[32m     Cached\u001b[0m\n",
            "  \u001b[32m+ libwebp-base                 \u001b[0m           1.3.2  hd590300_1                         conda-forge\u001b[32m     Cached\u001b[0m\n",
            "  \u001b[32m+ libdeflate                   \u001b[0m            1.19  hd590300_0                         conda-forge\u001b[32m     Cached\u001b[0m\n",
            "  \u001b[32m+ libjpeg-turbo                \u001b[0m           3.0.0  hd590300_1                         conda-forge\u001b[32m     Cached\u001b[0m\n",
            "  \u001b[32m+ libiconv                     \u001b[0m            1.18  h4ce23a2_1                         conda-forge\u001b[32m     Cached\u001b[0m\n",
            "  \u001b[32m+ pthread-stubs                \u001b[0m             0.4  hb9d3cd8_1002                      conda-forge\u001b[32m     Cached\u001b[0m\n",
            "  \u001b[32m+ xorg-libxau                  \u001b[0m          1.0.12  hb9d3cd8_0                         conda-forge\u001b[32m     Cached\u001b[0m\n",
            "  \u001b[32m+ xorg-libxdmcp                \u001b[0m           1.1.5  hb9d3cd8_0                         conda-forge\u001b[32m     Cached\u001b[0m\n",
            "  \u001b[32m+ giflib                       \u001b[0m           5.2.2  hd590300_0                         conda-forge\u001b[32m     Cached\u001b[0m\n",
            "  \u001b[32m+ keyutils                     \u001b[0m           1.6.1  h166bdaf_0                         conda-forge\u001b[32m     Cached\u001b[0m\n",
            "  \u001b[32m+ libgfortran5                 \u001b[0m          14.2.0  hf1ad2bd_2                         conda-forge\u001b[32m     Cached\u001b[0m\n",
            "  \u001b[32m+ gettext-tools                \u001b[0m          0.23.1  h5888daf_0                         conda-forge\u001b[32m     Cached\u001b[0m\n",
            "  \u001b[32m+ libgettextpo                 \u001b[0m          0.23.1  h5888daf_0                         conda-forge\u001b[32m     Cached\u001b[0m\n",
            "  \u001b[32m+ libutf8proc                  \u001b[0m           2.8.0  hf23e847_1                         conda-forge\u001b[32m     Cached\u001b[0m\n",
            "  \u001b[32m+ aws-c-common                 \u001b[0m           0.9.3  hd590300_0                         conda-forge\u001b[32m     Cached\u001b[0m\n",
            "  \u001b[32m+ s2n                          \u001b[0m          1.3.54  h06160fa_0                         conda-forge\u001b[32m     Cached\u001b[0m\n",
            "  \u001b[32m+ libuv                        \u001b[0m          1.48.0  hd590300_0                         conda-forge\u001b[32m     Cached\u001b[0m\n",
            "  \u001b[32m+ xorg-renderproto             \u001b[0m          0.11.1  hb9d3cd8_1003                      conda-forge\u001b[32m     Cached\u001b[0m\n",
            "  \u001b[32m+ xorg-kbproto                 \u001b[0m           1.0.7  hb9d3cd8_1003                      conda-forge\u001b[32m     Cached\u001b[0m\n",
            "  \u001b[32m+ xorg-xextproto               \u001b[0m           7.3.0  hb9d3cd8_1004                      conda-forge\u001b[32m     Cached\u001b[0m\n",
            "  \u001b[32m+ xorg-xproto                  \u001b[0m          7.0.31  hb9d3cd8_1008                      conda-forge\u001b[32m     Cached\u001b[0m\n",
            "  \u001b[32m+ libnuma                      \u001b[0m          2.0.18  h4ab18f5_2                         conda-forge\u001b[32m     Cached\u001b[0m\n",
            "  \u001b[32m+ yaml                         \u001b[0m           0.2.5  h7f98852_2                         conda-forge\u001b[32m     Cached\u001b[0m\n",
            "  \u001b[32m+ libev                        \u001b[0m            4.33  hd590300_2                         conda-forge\u001b[32m     Cached\u001b[0m\n",
            "  \u001b[32m+ c-ares                       \u001b[0m          1.34.4  hb9d3cd8_0                         conda-forge\u001b[32m     Cached\u001b[0m\n",
            "  \u001b[32m+ json-c                       \u001b[0m            0.17  h1220068_1                         conda-forge\u001b[32m     Cached\u001b[0m\n",
            "  \u001b[32m+ libexpat                     \u001b[0m           2.7.0  h5888daf_0                         conda-forge\u001b[32m     Cached\u001b[0m\n",
            "  \u001b[32m+ libbrotlicommon              \u001b[0m           1.1.0  hb9d3cd8_2                         conda-forge\u001b[32m     Cached\u001b[0m\n",
            "  \u001b[32m+ lzo                          \u001b[0m            2.10  hd590300_1001                      conda-forge\u001b[32m     Cached\u001b[0m\n",
            "  \u001b[32m+ libedit                      \u001b[0m    3.1.20250104  pl5321h7949ede_0                   conda-forge\u001b[32m     Cached\u001b[0m\n",
            "  \u001b[32m+ libntlm                      \u001b[0m             1.8  hb9d3cd8_0                         conda-forge\u001b[32m     Cached\u001b[0m\n",
            "  \u001b[32m+ xorg-libice                  \u001b[0m           1.1.2  hb9d3cd8_0                         conda-forge\u001b[32m     Cached\u001b[0m\n",
            "  \u001b[32m+ tzcode                       \u001b[0m           2025b  hb9d3cd8_0                         conda-forge\u001b[32m     Cached\u001b[0m\n",
            "  \u001b[32m+ libevent                     \u001b[0m          2.1.12  hf998b51_1                         conda-forge\u001b[32m     Cached\u001b[0m\n",
            "  \u001b[32m+ libboost-headers             \u001b[0m          1.87.0  ha770c72_2                         conda-forge\u001b[32m     Cached\u001b[0m\n",
            "  \u001b[32m+ libsodium                    \u001b[0m          1.0.20  h4ab18f5_0                         conda-forge\u001b[32m     Cached\u001b[0m\n",
            "  \u001b[32m+ jxrlib                       \u001b[0m             1.1  hd590300_3                         conda-forge\u001b[32m     Cached\u001b[0m\n",
            "  \u001b[32m+ zlib-ng                      \u001b[0m           2.0.7  h0b41bf4_0                         conda-forge\u001b[32m     Cached\u001b[0m\n",
            "  \u001b[32m+ dav1d                        \u001b[0m           1.2.1  hd590300_0                         conda-forge\u001b[32m     Cached\u001b[0m\n",
            "  \u001b[32m+ rav1e                        \u001b[0m           0.6.6  he8a937b_2                         conda-forge\u001b[32m     Cached\u001b[0m\n",
            "  \u001b[32m+ libzip                       \u001b[0m          1.10.1  h2629f0a_3                         conda-forge\u001b[32m     Cached\u001b[0m\n",
            "  \u001b[32m+ libssh2                      \u001b[0m          1.11.0  h0841786_0                         conda-forge\u001b[32m     Cached\u001b[0m\n",
            "  \u001b[32m+ libpng                       \u001b[0m          1.6.43  h2797004_0                         conda-forge\u001b[32m     Cached\u001b[0m\n",
            "  \u001b[32m+ pcre2                        \u001b[0m           10.42  hcad00b1_0                         conda-forge\u001b[32m     Cached\u001b[0m\n",
            "  \u001b[32m+ zlib                         \u001b[0m          1.2.13  h4ab18f5_6                         conda-forge\u001b[32m     Cached\u001b[0m\n",
            "  \u001b[32m+ zfp                          \u001b[0m           1.0.1  h5888daf_2                         conda-forge\u001b[32m     Cached\u001b[0m\n",
            "  \u001b[32m+ svt-av1                      \u001b[0m           3.0.2  h5888daf_0                         conda-forge\u001b[32m     Cached\u001b[0m\n",
            "  \u001b[32m+ pixman                       \u001b[0m          0.44.2  h29eaf8c_0                         conda-forge\u001b[32m     Cached\u001b[0m\n",
            "  \u001b[32m+ nspr                         \u001b[0m            4.36  h5888daf_0                         conda-forge\u001b[32m     Cached\u001b[0m\n",
            "  \u001b[32m+ gflags                       \u001b[0m           2.2.2  h5888daf_1005                      conda-forge\u001b[32m     Cached\u001b[0m\n",
            "  \u001b[32m+ libasprintf                  \u001b[0m          0.23.1  h8e693c7_0                         conda-forge\u001b[32m     Cached\u001b[0m\n",
            "  \u001b[32m+ gtest                        \u001b[0m          1.16.0  h84d6215_0                         conda-forge\u001b[32m     Cached\u001b[0m\n",
            "  \u001b[32m+ libstdcxx-ng                 \u001b[0m          14.2.0  h4852527_2                         conda-forge\u001b[32m     Cached\u001b[0m\n",
            "  \u001b[32m+ xz                           \u001b[0m           5.8.1  hbcc6ac9_0                         conda-forge\u001b[32m     Cached\u001b[0m\n",
            "  \u001b[32m+ libxcb                       \u001b[0m            1.15  h0b41bf4_0                         conda-forge\u001b[32m     Cached\u001b[0m\n",
            "  \u001b[32m+ libgfortran                  \u001b[0m          14.2.0  h69a702a_2                         conda-forge\u001b[32m     Cached\u001b[0m\n",
            "  \u001b[32m+ libgettextpo-devel           \u001b[0m          0.23.1  h5888daf_0                         conda-forge\u001b[32m     Cached\u001b[0m\n",
            "  \u001b[32m+ aws-c-compression            \u001b[0m          0.2.17  h184a658_3                         conda-forge\u001b[32m     Cached\u001b[0m\n",
            "  \u001b[32m+ aws-checksums                \u001b[0m          0.1.17  h184a658_2                         conda-forge\u001b[32m     Cached\u001b[0m\n",
            "  \u001b[32m+ aws-c-cal                    \u001b[0m           0.6.2  h09139f6_2                         conda-forge\u001b[32m     Cached\u001b[0m\n",
            "  \u001b[32m+ aws-c-sdkutils               \u001b[0m          0.1.12  h184a658_2                         conda-forge\u001b[32m     Cached\u001b[0m\n",
            "  \u001b[32m+ expat                        \u001b[0m           2.7.0  h5888daf_0                         conda-forge\u001b[32m     Cached\u001b[0m\n",
            "  \u001b[32m+ libbrotlienc                 \u001b[0m           1.1.0  hb9d3cd8_2                         conda-forge\u001b[32m     Cached\u001b[0m\n",
            "  \u001b[32m+ libbrotlidec                 \u001b[0m           1.1.0  hb9d3cd8_2                         conda-forge\u001b[32m     Cached\u001b[0m\n",
            "  \u001b[32m+ xorg-libsm                   \u001b[0m           1.2.6  he73a12e_0                         conda-forge\u001b[32m     Cached\u001b[0m\n",
            "  \u001b[32m+ freetype                     \u001b[0m          2.12.1  h267a509_2                         conda-forge\u001b[32m     Cached\u001b[0m\n",
            "  \u001b[32m+ sqlite                       \u001b[0m          3.46.0  h6d4b2fc_0                         conda-forge\u001b[32m     Cached\u001b[0m\n",
            "  \u001b[32m+ libasprintf-devel            \u001b[0m          0.23.1  h8e693c7_0                         conda-forge\u001b[32m     Cached\u001b[0m\n",
            "  \u001b[32m+ gmock                        \u001b[0m          1.16.0  ha770c72_0                         conda-forge\u001b[32m     Cached\u001b[0m\n",
            "  \u001b[32m+ libzopfli                    \u001b[0m           1.0.3  h9c3ff4c_0                         conda-forge\u001b[32m     Cached\u001b[0m\n",
            "  \u001b[32m+ libhwy                       \u001b[0m           1.1.0  h00ab1b0_0                         conda-forge\u001b[32m     Cached\u001b[0m\n",
            "  \u001b[32m+ aom                          \u001b[0m           3.9.1  hac33072_0                         conda-forge\u001b[32m     Cached\u001b[0m\n",
            "  \u001b[32m+ charls                       \u001b[0m           2.4.2  h59595ed_0                         conda-forge\u001b[32m     Cached\u001b[0m\n",
            "  \u001b[32m+ uriparser                    \u001b[0m           0.9.8  hac33072_0                         conda-forge\u001b[32m     Cached\u001b[0m\n",
            "  \u001b[32m+ libthrift                    \u001b[0m          0.19.0  hb90f79a_1                         conda-forge\u001b[32m     Cached\u001b[0m\n",
            "  \u001b[32m+ libaec                       \u001b[0m           1.1.3  h59595ed_0                         conda-forge\u001b[32m     Cached\u001b[0m\n",
            "  \u001b[32m+ qhull                        \u001b[0m          2020.2  h434a139_5                         conda-forge\u001b[32m     Cached\u001b[0m\n",
            "  \u001b[32m+ snappy                       \u001b[0m          1.1.10  hdb0a2a9_1                         conda-forge\u001b[32m     Cached\u001b[0m\n",
            "  \u001b[32m+ nss                          \u001b[0m           3.100  hca3bf56_0                         conda-forge\u001b[32m     Cached\u001b[0m\n",
            "  \u001b[32m+ geos                         \u001b[0m          3.12.1  h59595ed_0                         conda-forge\u001b[32m     Cached\u001b[0m\n",
            "  \u001b[32m+ hdf4                         \u001b[0m          4.2.15  h2a13503_7                         conda-forge\u001b[32m     Cached\u001b[0m\n",
            "  \u001b[32m+ rdma-core                    \u001b[0m            28.9  h59595ed_1                         conda-forge\u001b[32m     Cached\u001b[0m\n",
            "  \u001b[32m+ libnghttp2                   \u001b[0m          1.58.0  h47da74e_1                         conda-forge\u001b[32m     Cached\u001b[0m\n",
            "  \u001b[32m+ krb5                         \u001b[0m          1.21.3  h659f571_0                         conda-forge\u001b[32m     Cached\u001b[0m\n",
            "  \u001b[32m+ lz4-c                        \u001b[0m           1.9.4  hcb278e6_0                         conda-forge\u001b[32m     Cached\u001b[0m\n",
            "  \u001b[32m+ libllvm14                    \u001b[0m          14.0.6  hcd5def8_4                         conda-forge\u001b[32m     Cached\u001b[0m\n",
            "  \u001b[32m+ lerc                         \u001b[0m           4.0.0  h27087fc_0                         conda-forge\u001b[32m     Cached\u001b[0m\n",
            "  \u001b[32m+ zstd                         \u001b[0m           1.5.6  ha6fb4c9_0                         conda-forge\u001b[32m     Cached\u001b[0m\n",
            "  \u001b[32m+ icu                          \u001b[0m            73.2  h59595ed_0                         conda-forge\u001b[32m     Cached\u001b[0m\n",
            "  \u001b[32m+ libcrc32c                    \u001b[0m           1.1.2  h9c3ff4c_0                         conda-forge\u001b[32m     Cached\u001b[0m\n",
            "  \u001b[32m+ re2                          \u001b[0m      2023.03.02  h8c504da_0                         conda-forge\u001b[32m     Cached\u001b[0m\n",
            "  \u001b[32m+ libabseil                    \u001b[0m      20230802.1  cxx17_h59595ed_0                   conda-forge\u001b[32m     Cached\u001b[0m\n",
            "  \u001b[32m+ glog                         \u001b[0m           0.6.0  h6f12383_0                         conda-forge\u001b[32m     Cached\u001b[0m\n",
            "  \u001b[32m+ dlpack                       \u001b[0m             0.5  h9c3ff4c_0                         conda-forge\u001b[32m     Cached\u001b[0m\n",
            "  \u001b[32m+ fmt                          \u001b[0m           9.1.0  h924138e_0                         conda-forge\u001b[32m     Cached\u001b[0m\n",
            "  \u001b[32m+ cudatoolkit                  \u001b[0m          11.8.0  h4ba93d1_13                        conda-forge\u001b[32m     Cached\u001b[0m\n",
            "  \u001b[32m+ xorg-libx11                  \u001b[0m           1.8.9  h8ee46fc_0                         conda-forge\u001b[32m     Cached\u001b[0m\n",
            "  \u001b[32m+ libgfortran-ng               \u001b[0m          14.2.0  h69a702a_2                         conda-forge\u001b[32m     Cached\u001b[0m\n",
            "  \u001b[32m+ libopenblas                  \u001b[0m          0.3.29  pthreads_h94d23a6_0                conda-forge\u001b[32m     Cached\u001b[0m\n",
            "  \u001b[32m+ aws-c-io                     \u001b[0m         0.13.32  h161b759_6                         conda-forge\u001b[32m     Cached\u001b[0m\n",
            "  \u001b[32m+ brotli-bin                   \u001b[0m           1.1.0  hb9d3cd8_2                         conda-forge\u001b[32m     Cached\u001b[0m\n",
            "  \u001b[32m+ fontconfig                   \u001b[0m          2.14.2  h14ed4e7_0                         conda-forge\u001b[32m     Cached\u001b[0m\n",
            "  \u001b[32m+ gettext                      \u001b[0m          0.23.1  h5888daf_0                         conda-forge\u001b[32m     Cached\u001b[0m\n",
            "  \u001b[32m+ libjxl                       \u001b[0m          0.10.3  h66b40c8_0                         conda-forge\u001b[32m     Cached\u001b[0m\n",
            "  \u001b[32m+ libavif16                    \u001b[0m           1.2.1  hbb36593_2                         conda-forge\u001b[32m     Cached\u001b[0m\n",
            "  \u001b[32m+ libkml                       \u001b[0m           1.3.0  h01aab08_1018                      conda-forge\u001b[32m     Cached\u001b[0m\n",
            "  \u001b[32m+ librttopo                    \u001b[0m           1.1.0  h8917695_15                        conda-forge\u001b[32m     Cached\u001b[0m\n",
            "  \u001b[32m+ ucx                          \u001b[0m          1.14.1  h64cca9d_5                         conda-forge\u001b[32m     Cached\u001b[0m\n",
            "  \u001b[32m+ zeromq                       \u001b[0m           4.3.5  h3b0a872_7                         conda-forge\u001b[32m     Cached\u001b[0m\n",
            "  \u001b[32m+ libpq                        \u001b[0m            16.3  ha72fbe1_0                         conda-forge\u001b[32m     Cached\u001b[0m\n",
            "  \u001b[32m+ cyrus-sasl                   \u001b[0m          2.1.27  h54b06d7_7                         conda-forge\u001b[32m     Cached\u001b[0m\n",
            "  \u001b[32m+ c-blosc2                     \u001b[0m          2.14.3  hb4ffafa_0                         conda-forge\u001b[32m     Cached\u001b[0m\n",
            "  \u001b[32m+ minizip                      \u001b[0m           4.0.6  h9d307f2_0                         conda-forge\u001b[32m     Cached\u001b[0m\n",
            "  \u001b[32m+ blosc                        \u001b[0m          1.21.5  h0f2a231_0                         conda-forge\u001b[32m     Cached\u001b[0m\n",
            "  \u001b[32m+ libcurl                      \u001b[0m           8.8.0  hca28451_1                         conda-forge\u001b[32m     Cached\u001b[0m\n",
            "  \u001b[32m+ libtiff                      \u001b[0m           4.6.0  ha9c0a0a_2                         conda-forge\u001b[32m     Cached\u001b[0m\n",
            "  \u001b[32m+ nodejs                       \u001b[0m         20.12.2  hb753e55_0                         conda-forge\u001b[32m     Cached\u001b[0m\n",
            "  \u001b[32m+ libxml2                      \u001b[0m          2.12.7  hc051c1a_1                         conda-forge\u001b[32m     Cached\u001b[0m\n",
            "  \u001b[32m+ libprotobuf                  \u001b[0m          4.23.4  hf27288f_6                         conda-forge\u001b[32m     Cached\u001b[0m\n",
            "  \u001b[32m+ spdlog                       \u001b[0m          1.11.0  h9b3ece8_1                         conda-forge\u001b[32m     Cached\u001b[0m\n",
            "  \u001b[32m+ rpds-py                      \u001b[0m          0.24.0  py310hc1293b2_0                    conda-forge\u001b[32m     Cached\u001b[0m\n",
            "  \u001b[32m+ jsonpointer                  \u001b[0m           3.0.0  py310hff52083_1                    conda-forge\u001b[32m     Cached\u001b[0m\n",
            "  \u001b[32m+ propcache                    \u001b[0m           0.2.1  py310h89163eb_1                    conda-forge\u001b[32m     Cached\u001b[0m\n",
            "  \u001b[32m+ frozenlist                   \u001b[0m           1.5.0  py310h89163eb_1                    conda-forge\u001b[32m     Cached\u001b[0m\n",
            "  \u001b[32m+ markupsafe                   \u001b[0m           3.0.2  py310h89163eb_1                    conda-forge\u001b[32m     Cached\u001b[0m\n",
            "  \u001b[32m+ websockets                   \u001b[0m            10.4  py310h5764c6d_1                    conda-forge\u001b[32m     Cached\u001b[0m\n",
            "  \u001b[32m+ brotli-python                \u001b[0m           1.1.0  py310hf71b8c6_2                    conda-forge\u001b[32m     Cached\u001b[0m\n",
            "  \u001b[32m+ fastrlock                    \u001b[0m           0.8.3  py310h8c668a6_1                    conda-forge\u001b[32m     Cached\u001b[0m\n",
            "  \u001b[32m+ unicodedata2                 \u001b[0m          16.0.0  py310ha75aee5_0                    conda-forge\u001b[32m     Cached\u001b[0m\n",
            "  \u001b[32m+ kiwisolver                   \u001b[0m           1.4.7  py310h3788b33_0                    conda-forge\u001b[32m     Cached\u001b[0m\n",
            "  \u001b[32m+ lz4                          \u001b[0m           4.3.3  py310hb259640_1                    conda-forge\u001b[32m     Cached\u001b[0m\n",
            "  \u001b[32m+ tornado                      \u001b[0m           6.4.2  py310ha75aee5_0                    conda-forge\u001b[32m     Cached\u001b[0m\n",
            "  \u001b[32m+ pyyaml                       \u001b[0m           6.0.2  py310h89163eb_2                    conda-forge\u001b[32m     Cached\u001b[0m\n",
            "  \u001b[32m+ psutil                       \u001b[0m           7.0.0  py310ha75aee5_0                    conda-forge\u001b[32m     Cached\u001b[0m\n",
            "  \u001b[32m+ msgpack-python               \u001b[0m           1.1.0  py310h3788b33_0                    conda-forge\u001b[32m     Cached\u001b[0m\n",
            "  \u001b[32m+ llvmlite                     \u001b[0m          0.40.1  py310h1b8f574_0                    conda-forge\u001b[32m     Cached\u001b[0m\n",
            "  \u001b[32m+ ptxcompiler                  \u001b[0m           0.8.1  py310hda4ad70_4                    conda-forge\u001b[32m     Cached\u001b[0m\n",
            "  \u001b[32m+ nvtx                         \u001b[0m          0.2.11  py310ha75aee5_0                    conda-forge\u001b[32m     Cached\u001b[0m\n",
            "  \u001b[32m+ xorg-libxext                 \u001b[0m           1.3.4  h0b41bf4_2                         conda-forge\u001b[32m     Cached\u001b[0m\n",
            "  \u001b[32m+ xorg-libxrender              \u001b[0m          0.9.11  hd590300_0                         conda-forge\u001b[32m     Cached\u001b[0m\n",
            "  \u001b[32m+ libblas                      \u001b[0m           3.9.0  31_h59b9bed_openblas               conda-forge\u001b[32m     Cached\u001b[0m\n",
            "  \u001b[32m+ aws-c-event-stream           \u001b[0m           0.3.2  hd6ebb48_1                         conda-forge\u001b[32m     Cached\u001b[0m\n",
            "  \u001b[32m+ aws-c-http                   \u001b[0m          0.7.13  hc690213_1                         conda-forge\u001b[32m     Cached\u001b[0m\n",
            "  \u001b[32m+ brotli                       \u001b[0m           1.1.0  hb9d3cd8_2                         conda-forge\u001b[32m     Cached\u001b[0m\n",
            "  \u001b[32m+ libglib                      \u001b[0m          2.78.4  h783c2da_0                         conda-forge\u001b[32m     Cached\u001b[0m\n",
            "  \u001b[32m+ pyzmq                        \u001b[0m          26.4.0  py310h71f11fc_0                    conda-forge\u001b[32m     Cached\u001b[0m\n",
            "  \u001b[32m+ freexl                       \u001b[0m           2.0.0  h743c826_0                         conda-forge\u001b[32m     Cached\u001b[0m\n",
            "  \u001b[32m+ azure-core-cpp               \u001b[0m          1.11.1  h91d86a7_1                         conda-forge\u001b[32m     Cached\u001b[0m\n",
            "  \u001b[32m+ hdf5                         \u001b[0m          1.14.3  nompi_hdf9ad27_105                 conda-forge\u001b[32m     Cached\u001b[0m\n",
            "  \u001b[32m+ xerces-c                     \u001b[0m           3.2.5  hac6953d_0                         conda-forge\u001b[32m     Cached\u001b[0m\n",
            "  \u001b[32m+ cfitsio                      \u001b[0m           4.3.1  hbdc6101_0                         conda-forge\u001b[32m     Cached\u001b[0m\n",
            "  \u001b[32m+ librdkafka                   \u001b[0m           1.9.2  ha5a0de0_2                         conda-forge\u001b[32m     Cached\u001b[0m\n",
            "  \u001b[32m+ openjpeg                     \u001b[0m           2.5.2  h488ebb8_0                         conda-forge\u001b[32m     Cached\u001b[0m\n",
            "  \u001b[32m+ lcms2                        \u001b[0m            2.16  hb7c19ff_0                         conda-forge\u001b[32m     Cached\u001b[0m\n",
            "  \u001b[32m+ libwebp                      \u001b[0m           1.3.2  h658648e_1                         conda-forge\u001b[32m     Cached\u001b[0m\n",
            "  \u001b[32m+ proj                         \u001b[0m           9.3.0  h1d62c97_2                         conda-forge\u001b[32m     Cached\u001b[0m\n",
            "  \u001b[32m+ libarchive                   \u001b[0m           3.7.4  hfca40fe_0                         conda-forge\u001b[32m     Cached\u001b[0m\n",
            "  \u001b[32m+ postgresql                   \u001b[0m            16.3  h8e811e2_0                         conda-forge\u001b[32m     Cached\u001b[0m\n",
            "  \u001b[32m+ protobuf                     \u001b[0m          4.23.4  py310h620c231_3                    conda-forge\u001b[32m     Cached\u001b[0m\n",
            "  \u001b[32m+ libgrpc                      \u001b[0m          1.57.0  ha4d0f93_2                         conda-forge\u001b[32m     Cached\u001b[0m\n",
            "  \u001b[32m+ orc                          \u001b[0m           1.9.0  h52d3b3c_2                         conda-forge\u001b[32m     Cached\u001b[0m\n",
            "  \u001b[32m+ libcblas                     \u001b[0m           3.9.0  31_he106b2a_openblas               conda-forge\u001b[32m     Cached\u001b[0m\n",
            "  \u001b[32m+ liblapack                    \u001b[0m           3.9.0  31_h7ac8fdf_openblas               conda-forge\u001b[32m     Cached\u001b[0m\n",
            "  \u001b[32m+ aws-c-auth                   \u001b[0m           0.7.4  hc8144f4_1                         conda-forge\u001b[32m     Cached\u001b[0m\n",
            "  \u001b[32m+ aws-c-mqtt                   \u001b[0m           0.9.6  h32970c0_2                         conda-forge\u001b[32m     Cached\u001b[0m\n",
            "  \u001b[32m+ brunsli                      \u001b[0m             0.1  h9c3ff4c_0                         conda-forge\u001b[32m     Cached\u001b[0m\n",
            "  \u001b[32m+ gdk-pixbuf                   \u001b[0m         2.42.10  h829c605_5                         conda-forge\u001b[32m     Cached\u001b[0m\n",
            "  \u001b[32m+ azure-storage-common-cpp     \u001b[0m          12.5.0  h94269e2_4                         conda-forge\u001b[32m     Cached\u001b[0m\n",
            "  \u001b[32m+ libnetcdf                    \u001b[0m           4.9.2  nompi_h135f659_114                 conda-forge\u001b[32m     Cached\u001b[0m\n",
            "  \u001b[32m+ kealib                       \u001b[0m           1.5.3  hf8d3e68_2                         conda-forge\u001b[32m     Cached\u001b[0m\n",
            "  \u001b[32m+ python-confluent-kafka       \u001b[0m           1.9.2  py310h5764c6d_2                    conda-forge\u001b[32m     Cached\u001b[0m\n",
            "  \u001b[32m+ pillow                       \u001b[0m          10.3.0  py310hf73ecf8_0                    conda-forge\u001b[32m     Cached\u001b[0m\n",
            "  \u001b[32m+ libspatialite                \u001b[0m           5.1.0  h72606ae_3                         conda-forge\u001b[32m     Cached\u001b[0m\n",
            "  \u001b[32m+ geotiff                      \u001b[0m           1.7.1  hf074850_14                        conda-forge\u001b[32m     Cached\u001b[0m\n",
            "  \u001b[32m+ libgoogle-cloud              \u001b[0m          2.12.0  h8d7e28b_2                         conda-forge\u001b[32m     Cached\u001b[0m\n",
            "  \u001b[32m+ numpy                        \u001b[0m          1.24.4  py310ha4c1d20_0                    conda-forge\u001b[32m     Cached\u001b[0m\n",
            "  \u001b[32m+ aws-c-s3                     \u001b[0m          0.3.17  hb5e3142_3                         conda-forge\u001b[32m     Cached\u001b[0m\n",
            "  \u001b[32m+ azure-storage-blobs-cpp      \u001b[0m         12.10.0  h00ab1b0_1                         conda-forge\u001b[32m     Cached\u001b[0m\n",
            "  \u001b[32m+ imagecodecs                  \u001b[0m        2024.1.1  py310h0c5f7e8_2                    conda-forge\u001b[32m     Cached\u001b[0m\n",
            "  \u001b[32m+ pywavelets                   \u001b[0m           1.8.0  py310hf462985_0                    conda-forge\u001b[32m     Cached\u001b[0m\n",
            "  \u001b[32m+ shapely                      \u001b[0m           2.0.4  py310hec8f0c1_1                    conda-forge\u001b[32m     Cached\u001b[0m\n",
            "  \u001b[32m+ contourpy                    \u001b[0m           1.3.1  py310h3788b33_0                    conda-forge\u001b[32m     Cached\u001b[0m\n",
            "  \u001b[32m+ cupy-core                    \u001b[0m          13.4.1  py310h5da974a_0                    conda-forge\u001b[32m     Cached\u001b[0m\n",
            "  \u001b[32m+ numba                        \u001b[0m          0.57.1  py310h0f6aa51_0                    conda-forge\u001b[32m     Cached\u001b[0m\n",
            "  \u001b[32m+ scipy                        \u001b[0m          1.15.2  py310h1d65ade_0                    conda-forge\u001b[32m     Cached\u001b[0m\n",
            "  \u001b[32m+ aws-crt-cpp                  \u001b[0m          0.23.1  h94c364a_5                         conda-forge\u001b[32m     Cached\u001b[0m\n",
            "  \u001b[32m+ tiledb                       \u001b[0m          2.18.5  h4386cac_0                         conda-forge\u001b[32m     Cached\u001b[0m\n",
            "  \u001b[32m+ aws-sdk-cpp                  \u001b[0m        1.11.156  h6600424_3                         conda-forge\u001b[32m     Cached\u001b[0m\n",
            "  \u001b[32m+ libarrow                     \u001b[0m          12.0.1  h1935d02_14_cpu                    conda-forge\u001b[32m     Cached\u001b[0m\n",
            "  \u001b[32m+ pyarrow                      \u001b[0m          12.0.1  py310hf9e7431_14_cpu               conda-forge\u001b[32m     Cached\u001b[0m\n",
            "  \u001b[32m+ cuda-version                 \u001b[0m            11.8  h70ddcb2_3                         conda-forge\u001b[32m     Cached\u001b[0m\n",
            "  \u001b[32m+ font-ttf-dejavu-sans-mono    \u001b[0m            2.37  hab24e00_0                         conda-forge\u001b[32m     Cached\u001b[0m\n",
            "  \u001b[32m+ font-ttf-inconsolata         \u001b[0m           3.000  h77eed37_0                         conda-forge\u001b[32m     Cached\u001b[0m\n",
            "  \u001b[32m+ font-ttf-source-code-pro     \u001b[0m           2.038  h77eed37_0                         conda-forge\u001b[32m     Cached\u001b[0m\n",
            "  \u001b[32m+ font-ttf-ubuntu              \u001b[0m            0.83  h77eed37_3                         conda-forge\u001b[32m     Cached\u001b[0m\n",
            "  \u001b[32m+ poppler-data                 \u001b[0m          0.4.12  hd8ed1ab_0                         conda-forge\u001b[32m     Cached\u001b[0m\n",
            "  \u001b[32m+ pyee                         \u001b[0m           8.1.0  pyhd8ed1ab_0                       conda-forge\u001b[32m     Cached\u001b[0m\n",
            "  \u001b[32m+ pycparser                    \u001b[0m            2.22  pyh29332c3_1                       conda-forge\u001b[32m     Cached\u001b[0m\n",
            "  \u001b[32m+ soupsieve                    \u001b[0m             2.5  pyhd8ed1ab_1                       conda-forge\u001b[32m     Cached\u001b[0m\n",
            "  \u001b[32m+ pandocfilters                \u001b[0m           1.5.0  pyhd8ed1ab_0                       conda-forge\u001b[32m     Cached\u001b[0m\n",
            "  \u001b[32m+ defusedxml                   \u001b[0m           0.7.1  pyhd8ed1ab_0                       conda-forge\u001b[32m     Cached\u001b[0m\n",
            "  \u001b[32m+ python-fastjsonschema        \u001b[0m          2.21.1  pyhd8ed1ab_0                       conda-forge\u001b[32m     Cached\u001b[0m\n",
            "  \u001b[32m+ typing_utils                 \u001b[0m           0.1.0  pyhd8ed1ab_1                       conda-forge\u001b[32m     Cached\u001b[0m\n",
            "  \u001b[32m+ ptyprocess                   \u001b[0m           0.7.0  pyhd8ed1ab_1                       conda-forge\u001b[32m     Cached\u001b[0m\n",
            "  \u001b[32m+ cached_property              \u001b[0m           1.5.2  pyha770c72_1                       conda-forge\u001b[32m     Cached\u001b[0m\n",
            "  \u001b[32m+ exceptiongroup               \u001b[0m           1.2.2  pyhd8ed1ab_1                       conda-forge\u001b[32m     Cached\u001b[0m\n",
            "  \u001b[32m+ sniffio                      \u001b[0m           1.3.1  pyhd8ed1ab_1                       conda-forge\u001b[32m     Cached\u001b[0m\n",
            "  \u001b[32m+ types-python-dateutil        \u001b[0m  2.9.0.20241206  pyhd8ed1ab_0                       conda-forge\u001b[32m     Cached\u001b[0m\n",
            "  \u001b[32m+ pkgutil-resolve-name         \u001b[0m          1.3.10  pyhd8ed1ab_2                       conda-forge\u001b[32m     Cached\u001b[0m\n",
            "  \u001b[32m+ webcolors                    \u001b[0m         24.11.1  pyhd8ed1ab_0                       conda-forge\u001b[32m     Cached\u001b[0m\n",
            "  \u001b[32m+ uri-template                 \u001b[0m           1.3.0  pyhd8ed1ab_1                       conda-forge\u001b[32m     Cached\u001b[0m\n",
            "  \u001b[32m+ platformdirs                 \u001b[0m           4.3.7  pyh29332c3_0                       conda-forge\u001b[32m     Cached\u001b[0m\n",
            "  \u001b[32m+ python-json-logger           \u001b[0m           2.0.7  pyhd8ed1ab_0                       conda-forge\u001b[32m     Cached\u001b[0m\n",
            "  \u001b[32m+ websocket-client             \u001b[0m           1.8.0  pyhd8ed1ab_1                       conda-forge\u001b[32m     Cached\u001b[0m\n",
            "  \u001b[32m+ send2trash                   \u001b[0m           1.8.3  pyh0d859eb_1                       conda-forge\u001b[32m     Cached\u001b[0m\n",
            "  \u001b[32m+ rfc3986-validator            \u001b[0m           0.1.1  pyh9f0ad1d_0                       conda-forge\u001b[32m     Cached\u001b[0m\n",
            "  \u001b[32m+ prometheus_client            \u001b[0m          0.21.1  pyhd8ed1ab_0                       conda-forge\u001b[32m     Cached\u001b[0m\n",
            "  \u001b[32m+ colorama                     \u001b[0m           0.4.6  pyhd8ed1ab_1                       conda-forge\u001b[32m     Cached\u001b[0m\n",
            "  \u001b[32m+ aiohappyeyeballs             \u001b[0m           2.6.1  pyhd8ed1ab_0                       conda-forge\u001b[32m     Cached\u001b[0m\n",
            "  \u001b[32m+ attrs                        \u001b[0m          25.3.0  pyh71513ae_0                       conda-forge\u001b[32m     Cached\u001b[0m\n",
            "  \u001b[32m+ async-timeout                \u001b[0m           5.0.1  pyhd8ed1ab_1                       conda-forge\u001b[32m     Cached\u001b[0m\n",
            "  \u001b[32m+ webencodings                 \u001b[0m           0.5.1  pyhd8ed1ab_3                       conda-forge\u001b[32m     Cached\u001b[0m\n",
            "  \u001b[32m+ colorcet                     \u001b[0m           3.1.0  pyhd8ed1ab_1                       conda-forge\u001b[32m     Cached\u001b[0m\n",
            "  \u001b[32m+ zipp                         \u001b[0m          3.21.0  pyhd8ed1ab_1                       conda-forge\u001b[32m     Cached\u001b[0m\n",
            "  \u001b[32m+ simpervisor                  \u001b[0m           1.0.0  pyhd8ed1ab_1                       conda-forge\u001b[32m     Cached\u001b[0m\n",
            "  \u001b[32m+ traitlets                    \u001b[0m          5.14.3  pyhd8ed1ab_1                       conda-forge\u001b[32m     Cached\u001b[0m\n",
            "  \u001b[32m+ uc-micro-py                  \u001b[0m           1.0.3  pyhd8ed1ab_1                       conda-forge\u001b[32m     Cached\u001b[0m\n",
            "  \u001b[32m+ mdurl                        \u001b[0m           0.1.2  pyhd8ed1ab_1                       conda-forge\u001b[32m     Cached\u001b[0m\n",
            "  \u001b[32m+ param                        \u001b[0m           2.2.0  pyhd8ed1ab_0                       conda-forge\u001b[32m     Cached\u001b[0m\n",
            "  \u001b[32m+ appdirs                      \u001b[0m           1.4.4  pyhd8ed1ab_1                       conda-forge\u001b[32m     Cached\u001b[0m\n",
            "  \u001b[32m+ charset-normalizer           \u001b[0m           3.4.1  pyhd8ed1ab_0                       conda-forge\u001b[32m     Cached\u001b[0m\n",
            "  \u001b[32m+ idna                         \u001b[0m            3.10  pyhd8ed1ab_1                       conda-forge\u001b[32m     Cached\u001b[0m\n",
            "  \u001b[32m+ pygments                     \u001b[0m          2.19.1  pyhd8ed1ab_0                       conda-forge\u001b[32m     Cached\u001b[0m\n",
            "  \u001b[32m+ six                          \u001b[0m          1.17.0  pyhd8ed1ab_0                       conda-forge\u001b[32m     Cached\u001b[0m\n",
            "  \u001b[32m+ pysocks                      \u001b[0m           1.7.1  pyha55dd90_7                       conda-forge\u001b[32m     Cached\u001b[0m\n",
            "  \u001b[32m+ typing_extensions            \u001b[0m          4.13.1  pyh29332c3_0                       conda-forge\u001b[32m     Cached\u001b[0m\n",
            "  \u001b[32m+ cachetools                   \u001b[0m           5.5.2  pyhd8ed1ab_0                       conda-forge\u001b[32m     Cached\u001b[0m\n",
            "  \u001b[32m+ munkres                      \u001b[0m           1.1.4  pyh9f0ad1d_0                       conda-forge\u001b[32m     Cached\u001b[0m\n",
            "  \u001b[32m+ pyparsing                    \u001b[0m           3.2.3  pyhd8ed1ab_1                       conda-forge\u001b[32m     Cached\u001b[0m\n",
            "  \u001b[32m+ cycler                       \u001b[0m          0.12.1  pyhd8ed1ab_1                       conda-forge\u001b[32m     Cached\u001b[0m\n",
            "  \u001b[32m+ pytz                         \u001b[0m          2025.2  pyhd8ed1ab_0                       conda-forge\u001b[32m     Cached\u001b[0m\n",
            "  \u001b[32m+ certifi                      \u001b[0m       2025.1.31  pyhd8ed1ab_0                       conda-forge\u001b[32m     Cached\u001b[0m\n",
            "  \u001b[32m+ threadpoolctl                \u001b[0m           3.6.0  pyhecae5ae_0                       conda-forge\u001b[32m     Cached\u001b[0m\n",
            "  \u001b[32m+ narwhals                     \u001b[0m          1.33.0  pyhd8ed1ab_0                       conda-forge\u001b[32m     Cached\u001b[0m\n",
            "  \u001b[32m+ fsspec                       \u001b[0m        2025.3.2  pyhd8ed1ab_0                       conda-forge\u001b[32m     Cached\u001b[0m\n",
            "  \u001b[32m+ toolz                        \u001b[0m           1.0.0  pyhd8ed1ab_1                       conda-forge\u001b[32m     Cached\u001b[0m\n",
            "  \u001b[32m+ tblib                        \u001b[0m           3.1.0  pyhd8ed1ab_0                       conda-forge\u001b[32m     Cached\u001b[0m\n",
            "  \u001b[32m+ sortedcontainers             \u001b[0m           2.4.0  pyhd8ed1ab_1                       conda-forge\u001b[32m     Cached\u001b[0m\n",
            "  \u001b[32m+ cloudpickle                  \u001b[0m           3.1.1  pyhd8ed1ab_0                       conda-forge\u001b[32m     Cached\u001b[0m\n",
            "  \u001b[32m+ click                        \u001b[0m           8.1.8  pyh707e725_0                       conda-forge\u001b[32m     Cached\u001b[0m\n",
            "  \u001b[32m+ xyzservices                  \u001b[0m        2025.1.0  pyhd8ed1ab_0                       conda-forge\u001b[32m     Cached\u001b[0m\n",
            "  \u001b[32m+ packaging                    \u001b[0m            24.2  pyhd8ed1ab_2                       conda-forge\u001b[32m     Cached\u001b[0m\n",
            "  \u001b[32m+ zict                         \u001b[0m           3.0.0  pyhd8ed1ab_1                       conda-forge\u001b[32m     Cached\u001b[0m\n",
            "  \u001b[32m+ joblib                       \u001b[0m           1.4.2  pyhd8ed1ab_1                       conda-forge\u001b[32m     Cached\u001b[0m\n",
            "  \u001b[32m+ networkx                     \u001b[0m             3.4  pyhd8ed1ab_0                       conda-forge\u001b[32m     Cached\u001b[0m\n",
            "  \u001b[32m+ pynvml                       \u001b[0m          11.4.1  pyhd8ed1ab_0                       conda-forge\u001b[32m     Cached\u001b[0m\n",
            "  \u001b[32m+ locket                       \u001b[0m           1.0.0  pyhd8ed1ab_0                       conda-forge\u001b[32m     Cached\u001b[0m\n",
            "  \u001b[32m+ aiosignal                    \u001b[0m           1.3.2  pyhd8ed1ab_0                       conda-forge\u001b[32m     Cached\u001b[0m\n",
            "  \u001b[32m+ jinja2                       \u001b[0m           3.1.6  pyhd8ed1ab_0                       conda-forge\u001b[32m     Cached\u001b[0m\n",
            "  \u001b[32m+ imageio                      \u001b[0m          2.37.0  pyhfb79c49_0                       conda-forge\u001b[32m     Cached\u001b[0m\n",
            "  \u001b[32m+ tifffile                     \u001b[0m      2024.12.12  pyhd8ed1ab_0                       conda-forge\u001b[32m     Cached\u001b[0m\n",
            "  \u001b[32m+ fonts-conda-forge            \u001b[0m               1  0                                  conda-forge\u001b[32m     Cached\u001b[0m\n",
            "  \u001b[32m+ overrides                    \u001b[0m           7.7.0  pyhd8ed1ab_1                       conda-forge\u001b[32m     Cached\u001b[0m\n",
            "  \u001b[32m+ terminado                    \u001b[0m          0.18.1  pyh0d859eb_0                       conda-forge\u001b[32m     Cached\u001b[0m\n",
            "  \u001b[32m+ cached-property              \u001b[0m           1.5.2  hd8ed1ab_1                         conda-forge\u001b[32m     Cached\u001b[0m\n",
            "  \u001b[32m+ tqdm                         \u001b[0m          4.67.1  pyhd8ed1ab_1                       conda-forge\u001b[32m     Cached\u001b[0m\n",
            "  \u001b[32m+ tinycss2                     \u001b[0m           1.4.0  pyhd8ed1ab_0                       conda-forge\u001b[32m     Cached\u001b[0m\n",
            "  \u001b[32m+ bleach                       \u001b[0m           6.2.0  pyh29332c3_4                       conda-forge\u001b[32m     Cached\u001b[0m\n",
            "  \u001b[32m+ importlib_resources          \u001b[0m           6.5.2  pyhd8ed1ab_0                       conda-forge\u001b[32m     Cached\u001b[0m\n",
            "  \u001b[32m+ importlib-metadata           \u001b[0m           8.6.1  pyha770c72_0                       conda-forge\u001b[32m     Cached\u001b[0m\n",
            "  \u001b[32m+ jupyter_core                 \u001b[0m           5.7.2  pyh31011fe_1                       conda-forge\u001b[32m     Cached\u001b[0m\n",
            "  \u001b[32m+ linkify-it-py                \u001b[0m           2.0.3  pyhd8ed1ab_1                       conda-forge\u001b[32m     Cached\u001b[0m\n",
            "  \u001b[32m+ markdown-it-py               \u001b[0m           3.0.0  pyhd8ed1ab_1                       conda-forge\u001b[32m     Cached\u001b[0m\n",
            "  \u001b[32m+ pyviz_comms                  \u001b[0m           3.0.4  pyhd8ed1ab_1                       conda-forge\u001b[32m     Cached\u001b[0m\n",
            "  \u001b[32m+ jupyterlab_pygments          \u001b[0m           0.3.0  pyhd8ed1ab_2                       conda-forge\u001b[32m     Cached\u001b[0m\n",
            "  \u001b[32m+ rfc3339-validator            \u001b[0m           0.1.4  pyhd8ed1ab_1                       conda-forge\u001b[32m     Cached\u001b[0m\n",
            "  \u001b[32m+ multipledispatch             \u001b[0m           0.6.0  pyhd8ed1ab_1                       conda-forge\u001b[32m     Cached\u001b[0m\n",
            "  \u001b[32m+ python-dateutil              \u001b[0m     2.9.0.post0  pyhff2d567_1                       conda-forge\u001b[32m     Cached\u001b[0m\n",
            "  \u001b[32m+ urllib3                      \u001b[0m         1.26.19  pyhd8ed1ab_0                       conda-forge\u001b[32m     Cached\u001b[0m\n",
            "  \u001b[32m+ mistune                      \u001b[0m           3.1.3  pyh29332c3_0                       conda-forge\u001b[32m     Cached\u001b[0m\n",
            "  \u001b[32m+ referencing                  \u001b[0m          0.36.2  pyh29332c3_0                       conda-forge\u001b[32m     Cached\u001b[0m\n",
            "  \u001b[32m+ anyio                        \u001b[0m           4.9.0  pyh29332c3_0                       conda-forge\u001b[32m     Cached\u001b[0m\n",
            "  \u001b[32m+ typing-extensions            \u001b[0m          4.13.1  hf5ce1d7_0                         conda-forge\u001b[32m     Cached\u001b[0m\n",
            "  \u001b[32m+ streamz                      \u001b[0m           0.6.4  pyhd8ed1ab_1                       conda-forge\u001b[32m     Cached\u001b[0m\n",
            "  \u001b[32m+ partd                        \u001b[0m           1.4.2  pyhd8ed1ab_0                       conda-forge\u001b[32m     Cached\u001b[0m\n",
            "  \u001b[32m+ branca                       \u001b[0m           0.8.1  pyhd8ed1ab_0                       conda-forge\u001b[32m     Cached\u001b[0m\n",
            "  \u001b[32m+ fonts-conda-ecosystem        \u001b[0m               1  0                                  conda-forge\u001b[32m     Cached\u001b[0m\n",
            "  \u001b[32m+ jupyter_server_terminals     \u001b[0m           0.5.3  pyhd8ed1ab_1                       conda-forge\u001b[32m     Cached\u001b[0m\n",
            "  \u001b[32m+ fqdn                         \u001b[0m           1.5.1  pyhd8ed1ab_1                       conda-forge\u001b[32m     Cached\u001b[0m\n",
            "  \u001b[32m+ bleach-with-css              \u001b[0m           6.2.0  h82add2a_4                         conda-forge\u001b[32m     Cached\u001b[0m\n",
            "  \u001b[32m+ markdown                     \u001b[0m             3.6  pyhd8ed1ab_0                       conda-forge\u001b[32m     Cached\u001b[0m\n",
            "  \u001b[32m+ lazy-loader                  \u001b[0m             0.4  pyhd8ed1ab_2                       conda-forge\u001b[32m     Cached\u001b[0m\n",
            "  \u001b[32m+ importlib_metadata           \u001b[0m           8.6.1  hd8ed1ab_0                         conda-forge\u001b[32m     Cached\u001b[0m\n",
            "  \u001b[32m+ mdit-py-plugins              \u001b[0m           0.4.2  pyhd8ed1ab_1                       conda-forge\u001b[32m     Cached\u001b[0m\n",
            "  \u001b[32m+ rich                         \u001b[0m          14.0.0  pyh29332c3_0                       conda-forge\u001b[32m     Cached\u001b[0m\n",
            "  \u001b[32m+ arrow                        \u001b[0m           1.3.0  pyhd8ed1ab_1                       conda-forge\u001b[32m     Cached\u001b[0m\n",
            "  \u001b[32m+ jupyter_client               \u001b[0m           8.6.3  pyhd8ed1ab_1                       conda-forge\u001b[32m     Cached\u001b[0m\n",
            "  \u001b[32m+ pyppeteer                    \u001b[0m           1.0.2  pyhd8ed1ab_1                       conda-forge\u001b[32m     Cached\u001b[0m\n",
            "  \u001b[32m+ requests                     \u001b[0m          2.32.3  pyhd8ed1ab_1                       conda-forge\u001b[32m     Cached\u001b[0m\n",
            "  \u001b[32m+ jsonschema-specifications    \u001b[0m       2024.10.1  pyhd8ed1ab_1                       conda-forge\u001b[32m     Cached\u001b[0m\n",
            "  \u001b[32m+ beautifulsoup4               \u001b[0m          4.13.3  pyha770c72_0                       conda-forge\u001b[32m     Cached\u001b[0m\n",
            "  \u001b[32m+ lazy_loader                  \u001b[0m             0.4  pyhd8ed1ab_2                       conda-forge\u001b[32m     Cached\u001b[0m\n",
            "  \u001b[32m+ dask-core                    \u001b[0m        2023.9.2  pyhd8ed1ab_0                       conda-forge\u001b[32m     Cached\u001b[0m\n",
            "  \u001b[32m+ isoduration                  \u001b[0m         20.11.0  pyhd8ed1ab_1                       conda-forge\u001b[32m     Cached\u001b[0m\n",
            "  \u001b[32m+ pyct                         \u001b[0m           0.5.0  pyhd8ed1ab_1                       conda-forge\u001b[32m     Cached\u001b[0m\n",
            "  \u001b[32m+ folium                       \u001b[0m          0.19.5  pyhd8ed1ab_0                       conda-forge\u001b[32m     Cached\u001b[0m\n",
            "  \u001b[32m+ jsonschema                   \u001b[0m          4.23.0  pyhd8ed1ab_1                       conda-forge\u001b[32m     Cached\u001b[0m\n",
            "  \u001b[32m+ jsonschema-with-format-nongpl\u001b[0m          4.23.0  hd8ed1ab_1                         conda-forge\u001b[32m     Cached\u001b[0m\n",
            "  \u001b[32m+ nbformat                     \u001b[0m          5.10.4  pyhd8ed1ab_1                       conda-forge\u001b[32m     Cached\u001b[0m\n",
            "  \u001b[32m+ jupyter_events               \u001b[0m          0.12.0  pyh29332c3_0                       conda-forge\u001b[32m     Cached\u001b[0m\n",
            "  \u001b[32m+ nbclient                     \u001b[0m          0.10.2  pyhd8ed1ab_0                       conda-forge\u001b[32m     Cached\u001b[0m\n",
            "  \u001b[32m+ nbconvert-core               \u001b[0m          7.16.6  pyh29332c3_0                       conda-forge\u001b[32m     Cached\u001b[0m\n",
            "  \u001b[32m+ ucx-proc                     \u001b[0m           1.0.0  gpu                                rapidsai   \u001b[32m     Cached\u001b[0m\n",
            "  \u001b[32m+ cubinlinker                  \u001b[0m           0.3.0  py310hfdf336d_1                    rapidsai   \u001b[32m     Cached\u001b[0m\n",
            "  \u001b[32m+ libkvikio                    \u001b[0m        23.10.00  cuda11_231011_g5ea0525_0           rapidsai   \u001b[32m     Cached\u001b[0m\n",
            "  \u001b[32m+ librmm                       \u001b[0m        23.10.00  cuda11_231011_gf8ac6f8e_0          rapidsai   \u001b[32m     Cached\u001b[0m\n",
            "  \u001b[32m+ ucx-py                       \u001b[0m         0.34.00  py310_231011_g17dceab_0            rapidsai   \u001b[32m     Cached\u001b[0m\n",
            "  \u001b[32m+ libraft-headers-only         \u001b[0m        23.10.00  cuda11_231011_gafdddfb3_0          rapidsai   \u001b[32m     Cached\u001b[0m\n",
            "  \u001b[32m+ libraft-headers              \u001b[0m        23.10.00  cuda11_231011_gafdddfb3_0          rapidsai   \u001b[32m     Cached\u001b[0m\n",
            "  \u001b[32m+ libraft                      \u001b[0m        23.10.00  cuda11_231011_gafdddfb3_0          rapidsai   \u001b[32m     Cached\u001b[0m\n",
            "  \u001b[32m+ cuda-bindings                \u001b[0m          11.8.6  py310h629b23f_0                    conda-forge\u001b[32m     Cached\u001b[0m\n",
            "  \u001b[32m+ nvcomp                       \u001b[0m           2.6.1  h838ba91_3                         conda-forge\u001b[32m     Cached\u001b[0m\n",
            "  \u001b[32m+ cupy                         \u001b[0m          13.4.1  py310h386154f_0                    conda-forge\u001b[32m     Cached\u001b[0m\n",
            "  \u001b[32m+ nccl                         \u001b[0m        2.26.2.1  h03a54cd_0                         conda-forge\u001b[32m     Cached\u001b[0m\n",
            "  \u001b[32m+ cffi                         \u001b[0m          1.17.1  py310h8deb56e_0                    conda-forge\u001b[32m     Cached\u001b[0m\n",
            "  \u001b[32m+ fonttools                    \u001b[0m          4.57.0  py310h89163eb_0                    conda-forge\u001b[32m     Cached\u001b[0m\n",
            "  \u001b[32m+ pyproj                       \u001b[0m           3.6.1  py310h32c33b7_4                    conda-forge\u001b[32m     Cached\u001b[0m\n",
            "  \u001b[32m+ cytoolz                      \u001b[0m           1.0.1  py310ha75aee5_0                    conda-forge\u001b[32m     Cached\u001b[0m\n",
            "  \u001b[32m+ treelite                     \u001b[0m           3.9.1  py310h4a6579d_0                    conda-forge\u001b[32m     Cached\u001b[0m\n",
            "  \u001b[32m+ scikit-learn                 \u001b[0m           1.6.1  py310h27f47ee_0                    conda-forge\u001b[32m     Cached\u001b[0m\n",
            "  \u001b[32m+ pandas                       \u001b[0m           1.5.3  py310h9b08913_1                    conda-forge\u001b[32m     Cached\u001b[0m\n",
            "  \u001b[32m+ multidict                    \u001b[0m           6.3.2  py310h89163eb_0                    conda-forge\u001b[32m     Cached\u001b[0m\n",
            "  \u001b[32m+ cairo                        \u001b[0m          1.18.0  h3faef2a_0                         conda-forge\u001b[32m     Cached\u001b[0m\n",
            "  \u001b[32m+ scikit-image                 \u001b[0m          0.21.0  py310hc6cd4ac_0                    conda-forge\u001b[32m     Cached\u001b[0m\n",
            "  \u001b[32m+ argon2-cffi-bindings         \u001b[0m          21.2.0  py310ha75aee5_5                    conda-forge\u001b[32m     Cached\u001b[0m\n",
            "  \u001b[32m+ matplotlib-base              \u001b[0m          3.10.1  py310h68603db_0                    conda-forge\u001b[32m     Cached\u001b[0m\n",
            "  \u001b[32m+ yarl                         \u001b[0m          1.18.3  py310h89163eb_1                    conda-forge\u001b[32m     Cached\u001b[0m\n",
            "  \u001b[32m+ poppler                      \u001b[0m         23.12.0  h590f24d_0                         conda-forge\u001b[32m     Cached\u001b[0m\n",
            "  \u001b[32m+ openslide                    \u001b[0m           3.4.1  h58ba908_12                        conda-forge\u001b[32m     Cached\u001b[0m\n",
            "  \u001b[32m+ aiohttp                      \u001b[0m         3.11.16  py310h89163eb_0                    conda-forge\u001b[32m     Cached\u001b[0m\n",
            "  \u001b[32m+ libgdal                      \u001b[0m           3.8.1  h4b8bffa_3                         conda-forge\u001b[32m     Cached\u001b[0m\n",
            "  \u001b[32m+ gdal                         \u001b[0m           3.8.1  py310haaa150b_3                    conda-forge\u001b[32m     Cached\u001b[0m\n",
            "  \u001b[32m+ pyogrio                      \u001b[0m           0.7.2  py310h0a1e91f_1                    conda-forge\u001b[32m     Cached\u001b[0m\n",
            "  \u001b[32m+ libcugraphops                \u001b[0m        23.10.00  cuda11_231011_gca4b54ac_0          nvidia     \u001b[32m     Cached\u001b[0m\n",
            "  \u001b[32m+ libcumlprims                 \u001b[0m        23.10.00  cuda11_231011_ge818397_0           nvidia     \u001b[32m     Cached\u001b[0m\n",
            "  \u001b[32m+ cuda-python                  \u001b[0m          11.8.6  pyha6e82b0_1                       conda-forge\u001b[32m     Cached\u001b[0m\n",
            "  \u001b[32m+ distributed                  \u001b[0m        2023.9.2  pyhd8ed1ab_0                       conda-forge\u001b[32m     Cached\u001b[0m\n",
            "  \u001b[32m+ xarray                       \u001b[0m        2024.3.0  pyhd8ed1ab_0                       conda-forge\u001b[32m     Cached\u001b[0m\n",
            "  \u001b[32m+ bokeh                        \u001b[0m           3.7.2  pyhd8ed1ab_1                       conda-forge\u001b[32m     Cached\u001b[0m\n",
            "  \u001b[32m+ mapclassify                  \u001b[0m           2.8.1  pyhd8ed1ab_1                       conda-forge\u001b[32m     Cached\u001b[0m\n",
            "  \u001b[32m+ geopandas-base               \u001b[0m           1.0.1  pyha770c72_3                       conda-forge\u001b[32m     Cached\u001b[0m\n",
            "  \u001b[32m+ argon2-cffi                  \u001b[0m          23.1.0  pyhd8ed1ab_1                       conda-forge\u001b[32m     Cached\u001b[0m\n",
            "  \u001b[32m+ datashader                   \u001b[0m          0.17.0  pyhd8ed1ab_0                       conda-forge\u001b[32m     Cached\u001b[0m\n",
            "  \u001b[32m+ panel                        \u001b[0m           1.6.2  pyhd8ed1ab_0                       conda-forge\u001b[32m     Cached\u001b[0m\n",
            "  \u001b[32m+ dask                         \u001b[0m        2023.9.2  pyhd8ed1ab_0                       conda-forge\u001b[32m     Cached\u001b[0m\n",
            "  \u001b[32m+ geopandas                    \u001b[0m           1.0.1  pyhd8ed1ab_3                       conda-forge\u001b[32m     Cached\u001b[0m\n",
            "  \u001b[32m+ jupyter_server               \u001b[0m          2.15.0  pyhd8ed1ab_0                       conda-forge\u001b[32m     Cached\u001b[0m\n",
            "  \u001b[32m+ holoviews                    \u001b[0m          1.20.2  pyhd8ed1ab_0                       conda-forge\u001b[32m     Cached\u001b[0m\n",
            "  \u001b[32m+ jupyter-server-proxy         \u001b[0m           4.4.0  pyhd8ed1ab_1                       conda-forge\u001b[32m     Cached\u001b[0m\n",
            "  \u001b[32m+ libcudf                      \u001b[0m        23.10.02  cuda11_231116_gece2b2c524_0        rapidsai   \u001b[32m     Cached\u001b[0m\n",
            "  \u001b[32m+ libxgboost                   \u001b[0m           1.7.6  rapidsai_h795055c_2310             rapidsai   \u001b[32m     Cached\u001b[0m\n",
            "  \u001b[32m+ libcucim                     \u001b[0m        23.10.00  cuda11_231011_g8dd1727_0           rapidsai   \u001b[32m     Cached\u001b[0m\n",
            "  \u001b[32m+ libcugraph                   \u001b[0m        23.10.00  cuda11_231011_gc3dc860d_0          rapidsai   \u001b[32m     Cached\u001b[0m\n",
            "  \u001b[32m+ libcuml                      \u001b[0m        23.10.00  cuda11_231011_g623996072_0         rapidsai   \u001b[32m     Cached\u001b[0m\n",
            "  \u001b[32m+ rmm                          \u001b[0m        23.10.00  cuda11_py310_231011_gf8ac6f8e_0    rapidsai   \u001b[32m     Cached\u001b[0m\n",
            "  \u001b[32m+ dask-cuda                    \u001b[0m        23.10.00  py310_231011_gdc811d3_0            rapidsai   \u001b[32m     Cached\u001b[0m\n",
            "  \u001b[32m+ libcudf_kafka                \u001b[0m        23.10.02  cuda11_231116_gece2b2c524_0        rapidsai   \u001b[32m     Cached\u001b[0m\n",
            "  \u001b[32m+ libcuspatial                 \u001b[0m        23.10.00  cuda11_231011_g29cddcdc_0          rapidsai   \u001b[32m     Cached\u001b[0m\n",
            "  \u001b[32m+ py-xgboost                   \u001b[0m           1.7.6  rapidsai_py310h1395376_2310        rapidsai   \u001b[32m     Cached\u001b[0m\n",
            "  \u001b[32m+ cucim                        \u001b[0m        23.10.00  cuda11_py310_231011_g8dd1727_0     rapidsai   \u001b[32m     Cached\u001b[0m\n",
            "  \u001b[32m+ libcugraph_etl               \u001b[0m        23.10.00  cuda11_231011_gc3dc860d_0          rapidsai   \u001b[32m     Cached\u001b[0m\n",
            "  \u001b[32m+ pylibcugraph                 \u001b[0m        23.10.00  cuda11_py310_231011_gc3dc860d_0    rapidsai   \u001b[32m     Cached\u001b[0m\n",
            "  \u001b[32m+ cudf                         \u001b[0m        23.10.02  cuda11_py310_231116_gece2b2c524_0  rapidsai   \u001b[32m     Cached\u001b[0m\n",
            "  \u001b[32m+ pylibraft                    \u001b[0m        23.10.00  cuda11_py310_231011_gafdddfb3_0    rapidsai   \u001b[32m     Cached\u001b[0m\n",
            "  \u001b[32m+ cuproj                       \u001b[0m        23.10.00  cuda11_py310_231011_g29cddcdc_0    rapidsai   \u001b[32m     Cached\u001b[0m\n",
            "  \u001b[32m+ xgboost                      \u001b[0m           1.7.6  rapidsai_py310h1395376_2310        rapidsai   \u001b[32m     Cached\u001b[0m\n",
            "  \u001b[32m+ cudf_kafka                   \u001b[0m        23.10.02  cuda11_py310_231116_gece2b2c524_0  rapidsai   \u001b[32m     Cached\u001b[0m\n",
            "  \u001b[32m+ dask-cudf                    \u001b[0m        23.10.02  cuda11_py310_231116_gece2b2c524_0  rapidsai   \u001b[32m     Cached\u001b[0m\n",
            "  \u001b[32m+ cuspatial                    \u001b[0m        23.10.00  cuda11_py310_231011_g29cddcdc_0    rapidsai   \u001b[32m     Cached\u001b[0m\n",
            "  \u001b[32m+ raft-dask                    \u001b[0m        23.10.00  cuda11_py310_231011_gafdddfb3_0    rapidsai   \u001b[32m     Cached\u001b[0m\n",
            "  \u001b[32m+ rapids-xgboost               \u001b[0m        23.10.00  cuda11_py310_231011_gd3958fe_0     rapidsai   \u001b[32m     Cached\u001b[0m\n",
            "  \u001b[32m+ custreamz                    \u001b[0m        23.10.02  cuda11_py310_231116_gece2b2c524_0  rapidsai   \u001b[32m     Cached\u001b[0m\n",
            "  \u001b[32m+ cuxfilter                    \u001b[0m        23.10.00  cuda11_py310_231011_g6600aff_0     rapidsai   \u001b[32m     Cached\u001b[0m\n",
            "  \u001b[32m+ cugraph                      \u001b[0m        23.10.00  cuda11_py310_231011_gc3dc860d_0    rapidsai   \u001b[32m     Cached\u001b[0m\n",
            "  \u001b[32m+ cuml                         \u001b[0m        23.10.00  cuda11_py310_231011_g623996072_0   rapidsai   \u001b[32m     Cached\u001b[0m\n",
            "  \u001b[32m+ rapids                       \u001b[0m        23.10.00  cuda11_py310_231011_gd3958fe_0     rapidsai   \u001b[32m     Cached\u001b[0m\n",
            "\n",
            "  Downgrade:\n",
            "──────────────────────────────────────────────────────────────────────────────────────────────────────────────\n",
            "\n",
            "  \u001b[31m- libzlib                      \u001b[0m           1.3.1  hb9d3cd8_2                         conda-forge\u001b[32m     Cached\u001b[0m\n",
            "  \u001b[32m+ libzlib                      \u001b[0m          1.2.13  h4ab18f5_6                         conda-forge\u001b[32m     Cached\u001b[0m\n",
            "  \u001b[31m- libsqlite                    \u001b[0m          3.49.1  hee588c1_2                         conda-forge\u001b[32m     Cached\u001b[0m\n",
            "  \u001b[32m+ libsqlite                    \u001b[0m          3.46.0  hde9e2c9_0                         conda-forge\u001b[32m     Cached\u001b[0m\n",
            "  \u001b[31m- python                       \u001b[0m         3.10.16  habfa6aa_2_cpython                 conda-forge\u001b[32m     Cached\u001b[0m\n",
            "  \u001b[32m+ python                       \u001b[0m         3.10.14  hd12c33a_0_cpython                 conda-forge\u001b[32m     Cached\u001b[0m\n",
            "\n",
            "  Summary:\n",
            "\n",
            "  Install: 403 packages\n",
            "  Downgrade: 3 packages\n",
            "\n",
            "  Total download: 0 B\n",
            "\n",
            "──────────────────────────────────────────────────────────────────────────────────────────────────────────────\n",
            "\n",
            "\n",
            "\u001b[?25l\u001b[2K\u001b[0G\u001b[?25h\n",
            "Downloading and Extracting Packages:\n",
            "\n",
            "Preparing transaction: - \b\b\\ \b\b| \b\b/ \b\b- \b\b\\ \b\b| \b\b/ \b\b- \b\b\\ \b\b| \b\b/ \b\b- \b\b\\ \b\b| \b\b/ \b\b- \b\b\\ \b\b| \b\b/ \b\bdone\n",
            "Verifying transaction: \\ \b\b| \b\b/ \b\b- \b\b\\ \b\b| \b\b/ \b\b- \b\b\\ \b\b| \b\b/ \b\b- \b\b\\ \b\b| \b\b/ \b\b- \b\b\\ \b\b| \b\b/ \b\b- \b\b\\ \b\b| \b\b/ \b\b- \b\b\\ \b\b| \b\b/ \b\b- \b\b\\ \b\b| \b\b/ \b\b- \b\b\\ \b\b| \b\b/ \b\b- \b\b\\ \b\b| \b\b/ \b\b- \b\b\\ \b\b| \b\b/ \b\b- \b\b\\ \b\b| \b\b/ \b\b- \b\b\\ \b\b| \b\b/ \b\b- \b\b\\ \b\b| \b\b/ \b\b- \b\b\\ \b\b| \b\b/ \b\b- \b\b\\ \b\b| \b\b/ \b\b- \b\b\\ \b\b| \b\b/ \b\b- \b\b\\ \b\b| \b\b/ \b\b- \b\b\\ \b\b| \b\b/ \b\b- \b\b\\ \b\b| \b\b/ \b\b- \b\b\\ \b\b| \b\b/ \b\b- \b\b\\ \b\b| \b\b/ \b\b- \b\b\\ \b\b| \b\b/ \b\b- \b\b\\ \b\b| \b\b/ \b\b- \b\b\\ \b\b| \b\b/ \b\b- \b\b\\ \b\b| \b\b/ \b\b- \b\b\\ \b\b| \b\b/ \b\b- \b\b\\ \b\b| \b\b/ \b\b- \b\b\\ \b\b| \b\b/ \b\b- \b\b\\ \b\b| \b\b/ \b\b- \b\b\\ \b\b| \b\b/ \b\b- \b\b\\ \b\b| \b\b/ \b\b- \b\b\\ \b\b| \b\b/ \b\b- \b\b\\ \b\b| \b\b/ \b\b- \b\b\\ \b\b| \b\b/ \b\b- \b\b\\ \b\b| \b\b/ \b\b- \b\b\\ \b\b| \b\b/ \b\b- \b\b\\ \b\b| \b\b/ \b\b- \b\b\\ \b\b| \b\b/ \b\b- \b\b\\ \b\b| \b\b/ \b\b- \b\b\\ \b\b| \b\b/ \b\b- \b\b\\ \b\b| \b\b/ \b\b- \b\b\\ \b\b| \b\b/ \b\b- \b\b\\ \b\b| \b\b/ \b\b- \b\b\\ \b\b| \b\b/ \b\b- \b\b\\ \b\b| \b\b/ \b\b- \b\b\\ \b\b| \b\b/ \b\b- \b\b\\ \b\b| \b\b/ \b\b- \b\b\\ \b\b| \b\b/ \b\b- \b\b\\ \b\b| \b\b/ \b\b- \b\b\\ \b\b| \b\b/ \b\b- \b\b\\ \b\b| \b\b/ \b\b- \b\b\\ \b\b| \b\b/ \b\b- \b\b\\ \b\b| \b\b/ \b\b- \b\b\\ \b\b| \b\b/ \b\b- \b\b\\ \b\b| \b\b/ \b\b- \b\b\\ \b\b| \b\b/ \b\b- \b\b\\ \b\b| \b\b/ \b\b- \b\b\\ \b\b| \b\b/ \b\b- \b\b\\ \b\b| \b\b/ \b\b- \b\b\\ \b\b| \b\b/ \b\b- \b\b\\ \b\b| \b\b/ \b\b- \b\b\\ \b\b| \b\b/ \b\b- \b\b\\ \b\b| \b\b/ \b\b- \b\b\\ \b\b| \b\b/ \b\b- \b\b\\ \b\b| \b\b/ \b\b- \b\b\\ \b\b| \b\b/ \b\b- \b\b\\ \b\b| \b\b/ \b\b- \b\b\\ \b\b| \b\b/ \b\b- \b\b\\ \b\b| \b\b/ \b\b- \b\b\\ \b\b| \b\b/ \b\b- \b\b\\ \b\b| \b\b/ \b\b- \b\b\\ \b\b| \b\b/ \b\b- \b\b\\ \b\b| \b\b/ \b\b- \b\b\\ \b\b| \b\b/ \b\b- \b\b\\ \b\b| \b\b/ \b\b- \b\b\\ \b\b| \b\b/ \b\b- \b\b\\ \b\b| \b\b/ \b\b- \b\b\\ \b\b| \b\b/ \b\b- \b\b\\ \b\b| \b\b/ \b\b- \b\b\\ \b\b| \b\b/ \b\b- \b\b\\ \b\b| \b\b/ \b\b- \b\b\\ \b\b| \b\b/ \b\b- \b\b\\ \b\b| \b\b/ \b\b- \b\b\\ \b\b| \b\b/ \b\b- \b\b\\ \b\b| \b\b/ \b\b- \b\b\\ \b\b| \b\b/ \b\b- \b\b\\ \b\b| \b\b/ \b\b- \b\b\\ \b\b| \b\b/ \b\b- \b\b\\ \b\b| \b\b/ \b\b- \b\b\\ \b\b| \b\b/ \b\b- \b\b\\ \b\b| \b\b/ \b\b- \b\b\\ \b\b| \b\b/ \b\b- \b\b\\ \b\b| \b\b/ \b\b- \b\b\\ \b\b| \b\b/ \b\b- \b\b\\ \b\b| \b\b/ \b\b- \b\b\\ \b\b| \b\b/ \b\b- \b\b\\ \b\b| \b\b/ \b\b- \b\b\\ \b\b| \b\b/ \b\b- \b\b\\ \b\b| \b\b/ \b\b- \b\b\\ \b\b| \b\b/ \b\b- \b\b\\ \b\b| \b\b/ \b\b- \b\b\\ \b\b| \b\b/ \b\b- \b\b\\ \b\b| \b\b/ \b\b- \b\b\\ \b\b| \b\b/ \b\b- \b\b\\ \b\b| \b\b/ \b\b- \b\b\\ \b\b| \b\b/ \b\b- \b\b\\ \b\b| \b\b/ \b\b- \b\b\\ \b\b| \b\b/ \b\b- \b\b\\ \b\b| \b\b/ \b\b- \b\b\\ \b\b| \b\b/ \b\b- \b\b\\ \b\b| \b\b/ \b\b- \b\b\\ \b\b| \b\b/ \b\b- \b\b\\ \b\b| \b\b/ \b\b- \b\b\\ \b\b| \b\b/ \b\b- \b\b\\ \b\b| \b\b/ \b\b- \b\b\\ \b\b| \b\b/ \b\b- \b\b\\ \b\b| \b\b/ \b\b- \b\b\\ \b\b| \b\b/ \b\b- \b\b\\ \b\b| \b\b/ \b\b- \b\b\\ \b\b| \b\b/ \b\b- \b\b\\ \b\b| \b\b/ \b\b- \b\b\\ \b\b| \b\b/ \b\b- \b\b\\ \b\b| \b\b/ \b\b- \b\b\\ \b\b| \b\b/ \b\b- \b\b\\ \b\b| \b\b/ \b\b- \b\b\\ \b\b| \b\b/ \b\b- \b\b\\ \b\b| \b\b/ \b\b- \b\b\\ \b\b| \b\b/ \b\b- \b\b\\ \b\b| \b\b/ \b\b- \b\b\\ \b\b| \b\b/ \b\b- \b\b\\ \b\b| \b\b/ \b\b- \b\b\\ \b\b| \b\b/ \b\b- \b\b\\ \b\b| \b\b/ \b\b- \b\b\\ \b\b| \b\b/ \b\b- \b\b\\ \b\b| \b\b/ \b\b- \b\b\\ \b\b| \b\b/ \b\b- \b\b\\ \b\b| \b\b/ \b\b- \b\b\\ \b\b| \b\b/ \b\b- \b\b\\ \b\b| \b\b/ \b\b- \b\b\\ \b\b| \b\b/ \b\b- \b\b\\ \b\b| \b\b/ \b\b- \b\b\\ \b\b| \b\b/ \b\b- \b\b\\ \b\b| \b\b/ \b\b- \b\b\\ \b\b| \b\b/ \b\b- \b\b\\ \b\b| \b\b/ \b\b- \b\b\\ \b\b| \b\b/ \b\b- \b\b\\ \b\b| \b\b/ \b\b- \b\b\\ \b\b| \b\b/ \b\b- \b\b\\ \b\b| \b\b/ \b\b- \b\b\\ \b\b| \b\b/ \b\b- \b\b\\ \b\b| \b\b/ \b\b- \b\b\\ \b\b| \b\b/ \b\b- \b\b\\ \b\b| \b\b/ \b\b- \b\b\\ \b\b| \b\b/ \b\b- \b\b\\ \b\b| \b\b/ \b\b- \b\b\\ \b\b| \b\b/ \b\b- \b\b\\ \b\b| \b\b/ \b\b- \b\b\\ \b\b| \b\b/ \b\b- \b\b\\ \b\b| \b\b/ \b\b- \b\b\\ \b\b| \b\b/ \b\b- \b\b\\ \b\b| \b\b/ \b\b- \b\b\\ \b\b| \b\b/ \b\b- \b\b\\ \b\b| \b\b/ \b\b- \b\b\\ \b\b| \b\b/ \b\b- \b\b\\ \b\b| \b\b/ \b\b- \b\b\\ \b\b| \b\b/ \b\b- \b\b\\ \b\b| \b\b/ \b\b- \b\b\\ \b\b| \b\b/ \b\b- \b\b\\ \b\b| \b\b/ \b\b- \b\b\\ \b\b| \b\b/ \b\b- \b\b\\ \b\b| \b\b/ \b\b- \b\b\\ \b\b| \b\b/ \b\b- \b\b\\ \b\b| \b\b/ \b\b- \b\b\\ \b\b| \b\b/ \b\b- \b\b\\ \b\b| \b\b/ \b\b- \b\b\\ \b\b| \b\b/ \b\b- \b\b\\ \b\b| \b\b/ \b\b- \b\b\\ \b\b| \b\b/ \b\b- \b\b\\ \b\b| \b\b/ \b\b- \b\b\\ \b\b| \b\b/ \b\b- \b\b\\ \b\b| \b\b/ \b\b- \b\b\\ \b\b| \b\b/ \b\b- \b\b\\ \b\b| \b\b/ \b\b- \b\b\\ \b\b| \b\b/ \b\b- \b\b\\ \b\b| \b\b/ \b\b- \b\b\\ \b\b| \b\b/ \b\b- \b\b\\ \b\b| \b\b/ \b\b- \b\b\\ \b\b| \b\b/ \b\b- \b\b\\ \b\b| \b\b/ \b\b- \b\b\\ \b\b| \b\b/ \b\b- \b\b\\ \b\b| \b\b/ \b\b- \b\b\\ \b\b| \b\b/ \b\b- \b\b\\ \b\b| \b\b/ \b\b- \b\b\\ \b\b| \b\b/ \b\b- \b\b\\ \b\b| \b\b/ \b\b- \b\b\\ \b\b| \b\b/ \b\b- \b\b\\ \b\b| \b\b/ \b\b- \b\b\\ \b\b| \b\b/ \b\b- \b\b\\ \b\b| \b\b/ \b\b- \b\b\\ \b\b| \b\b/ \b\b- \b\b\\ \b\b| \b\b/ \b\b- \b\b\\ \b\b| \b\b/ \b\b- \b\b\\ \b\b| \b\b/ \b\b- \b\b\\ \b\b| \b\b/ \b\b- \b\b\\ \b\b| \b\b/ \b\b- \b\b\\ \b\b| \b\b/ \b\b- \b\b\\ \b\b| \b\b/ \b\b- \b\b\\ \b\b| \b\b/ \b\b- \b\b\\ \b\b| \b\b/ \b\b- \b\b\\ \b\b| \b\b/ \b\b- \b\b\\ \b\b| \b\b/ \b\b- \b\b\\ \b\b| \b\b/ \b\b- \b\b\\ \b\b| \b\b/ \b\b- \b\b\\ \b\b| \b\b/ \b\b- \b\b\\ \b\b| \b\b/ \b\b- \b\b\\ \b\b| \b\b/ \b\b- \b\b\\ \b\b| \b\b/ \b\b- \b\b\\ \b\b| \b\b/ \b\b- \b\b\\ \b\b| \b\b/ \b\b- \b\b\\ \b\b| \b\b/ \b\b- \b\b\\ \b\b| \b\b/ \b\b- \b\b\\ \b\b| \b\b/ \b\b- \b\b\\ \b\b| \b\b/ \b\b- \b\b\\ \b\b| \b\b/ \b\b- \b\b\\ \b\b| \b\b/ \b\b- \b\b\\ \b\b| \b\b/ \b\b- \b\b\\ \b\b| \b\b/ \b\b- \b\b\\ \b\b| \b\b/ \b\b- \b\b\\ \b\b| \b\b/ \b\b- \b\b\\ \b\b| \b\b/ \b\b- \b\b\\ \b\b| \b\b/ \b\b- \b\b\\ \b\b| \b\b/ \b\b- \b\b\\ \b\b| \b\b/ \b\b- \b\b\\ \b\b| \b\b/ \b\b- \b\b\\ \b\b| \b\b/ \b\b- \b\b\\ \b\b| \b\b/ \b\b- \b\b\\ \b\b| \b\b/ \b\b- \b\b\\ \b\b| \b\b/ \b\b- \b\b\\ \b\b| \b\b/ \b\b- \b\b\\ \b\b| \b\b/ \b\b- \b\b\\ \b\b| \b\b/ \b\b- \b\b\\ \b\b| \b\b/ \b\bdone\n",
            "Executing transaction: \\ \b\b| \b\b/ \b\b- \b\b\\ \b\b| \b\b/ \b\b- \b\b\\ \b\b| \b\b/ \b\b- \b\b\\ \b\b| \b\b/ \b\b- \b\b\\ \b\b| \b\b/ \b\b- \b\b\\ \b\b| \b\b/ \b\b- \b\b\\ \b\b| \b\b/ \b\b- \b\b\\ \b\b| \b\b/ \b\b- \b\b\\ \b\b| \b\b/ \b\b- By downloading and using the CUDA Toolkit conda packages, you accept the terms and conditions of the CUDA End User License Agreement (EULA): https://docs.nvidia.com/cuda/eula/index.html\n",
            "\n",
            "\b\b\\ \b\b| \b\b/ \b\b- \b\b\\ \b\b| \b\b/ \b\b- \b\b\\ By downloading and using the CubinLinker conda packages, you accept the terms and conditions of the CubinLinker License Agreement: https://docs.rapids.ai/licenses/CubinLinker.txt\n",
            "\n",
            "\b\b| \b\b/ \b\b- \b\b\\ \b\b| \b\b/ \b\b- \b\b\\ \b\b| \b\b/ \n",
            "\b\b- \b\b\\ \b\b| \b\b/ \b\b- \b\b\\ \b\b| \b\b/ \b\b- \b\b\\ \b\b| \b\b/ \b\b- \b\b\\ \b\b| \b\b/ \b\b- \b\b\\ \b\b| \b\b/ \b\b- \b\b\\ \b\b| \b\b/ \b\b- \b\b\\ \b\b| \b\b/ \b\b- \b\b\\ \b\b| \b\b/ \b\b- \b\b\\ \b\b| \b\b/ \b\b- \b\b\\ \b\b| \b\b/ \b\b- \b\b\\ \b\b| \b\b/ \b\b- \b\b\\ \b\b| \b\b/ \b\b- \b\b\\ \b\b| \b\b/ \b\b- \b\b\\ \b\b| \b\b/ \b\b- \b\b\\ \b\b| \b\b/ \b\b- \b\b\\ \b\b| \b\b/ \b\b- \b\b\\ \b\b| \b\b/ \b\b- \b\b\\ \b\b| \b\b/ \b\b- \b\b\\ \b\b| \b\b/ \b\b- \b\b\\ \b\b| \b\b/ \b\b- \b\b\\ \b\b| \b\b/ \b\b- \b\b\\ \b\b| \b\b/ \b\b- \b\b\\ \b\b| \b\b/ \b\b- \b\b\\ \b\b| \b\b/ \b\b- \b\b\\ \b\b| \b\b/ \b\b- \b\b\\ \b\b| \b\b/ \b\b- \b\b\\ \b\b| \b\b/ \b\b- \b\b\\ \b\b| \b\b/ \b\b- \b\b\\ \b\b| \b\b/ \b\b- \b\b\\ \b\b| \b\b/ \b\b- \b\b\\ \b\b| \b\b/ \b\b- \b\b\\ \b\b| \b\b/ \b\b- \b\b\\ \b\b| \b\b/ \b\b- \b\b\\ \b\b| \b\b/ \b\b- \b\b\\ \b\b| \b\b/ \b\b- \b\b\\ \b\b| \b\b/ \b\b- \b\b\\ \b\b| \b\b/ \b\b- \b\b\\ \b\b| \b\b/ \b\b- \b\b\\ \b\b| \b\b/ \b\b- \b\b\\ \b\b| \b\b/ \b\b- \b\b\\ \b\b| \b\b/ \b\b- \b\b\\ \b\b| \b\b/ \b\bdone\n"
          ]
        }
      ]
    },
    {
      "cell_type": "code",
      "source": [
        "!source activate rapidsai && python -c \"import cudf; print('RAPIDS version:', cudf.__version__)\""
      ],
      "metadata": {
        "colab": {
          "base_uri": "https://localhost:8080/"
        },
        "id": "w47bjXW8rGgu",
        "outputId": "a3ef605d-3f3a-4fc8-f9b2-5c6ac189180b"
      },
      "execution_count": 2,
      "outputs": [
        {
          "output_type": "stream",
          "name": "stdout",
          "text": [
            "RAPIDS version: 23.10.02\n"
          ]
        }
      ]
    },
    {
      "cell_type": "code",
      "source": [
        "import cudf\n",
        "import cuml\n",
        "import cupy\n",
        "\n",
        "print(\"cuDF version:\", cudf.__version__)\n",
        "print(\"cuML version:\", cuml.__version__)\n",
        "print(\"CuPy version:\", cupy.__version__)"
      ],
      "metadata": {
        "colab": {
          "base_uri": "https://localhost:8080/"
        },
        "id": "-yGOREiLrGZ0",
        "outputId": "7358c72a-6221-4618-9fc7-7b2952bc7171"
      },
      "execution_count": 3,
      "outputs": [
        {
          "output_type": "stream",
          "name": "stdout",
          "text": [
            "cuDF version: 25.02.01\n",
            "cuML version: 25.02.01\n",
            "CuPy version: 13.3.0\n"
          ]
        }
      ]
    },
    {
      "cell_type": "code",
      "source": [
        "import numpy as np\n",
        "import pandas as pd\n",
        "import matplotlib.pyplot as plt\n",
        "\n",
        "pd.options.display.float_format = '{:,.4f}'.format"
      ],
      "metadata": {
        "id": "EEtQcPfKaquY"
      },
      "execution_count": 4,
      "outputs": []
    },
    {
      "cell_type": "markdown",
      "source": [
        "## Question 5\n",
        "\n",
        "*from* ``0001-03-02-02_multinomial-regression_homework-q1.html``\n",
        "\n",
        "The ``mnist_784`` dataset can be used for classification tasks. The data and detail information can be found here: https://www.openml.org/search?type=data&sort=runs&id=554&status=active."
      ],
      "metadata": {
        "id": "EhTyd_YqWiJR"
      }
    },
    {
      "cell_type": "markdown",
      "source": [
        "### 0.\n",
        "\n",
        "Load the dataset. Make sure to load the features ($X$) and target ($y$) separately."
      ],
      "metadata": {
        "id": "aQkCZAFwYyLR"
      }
    },
    {
      "cell_type": "code",
      "source": [
        "from sklearn.datasets import fetch_openml\n",
        "\n",
        "mnist = fetch_openml('mnist_784')"
      ],
      "metadata": {
        "id": "2VUULfVMlpP3"
      },
      "execution_count": 5,
      "outputs": []
    },
    {
      "cell_type": "code",
      "source": [
        "X, y = mnist['data'], mnist['target']\n",
        "y = y.astype(int)"
      ],
      "metadata": {
        "id": "2Sg0o0l0ZLmt"
      },
      "execution_count": 6,
      "outputs": []
    },
    {
      "cell_type": "code",
      "source": [
        "X_cudf = cudf.DataFrame.from_records(X.to_numpy())\n",
        "y_cudf = cudf.Series(y)"
      ],
      "metadata": {
        "id": "7S9T56Pn4PGf"
      },
      "execution_count": 7,
      "outputs": []
    },
    {
      "cell_type": "markdown",
      "source": [
        "### 1.\n",
        "\n",
        "Normalize and split the data into training, validation, and testing datasets."
      ],
      "metadata": {
        "id": "fEih00cpZL5_"
      }
    },
    {
      "cell_type": "code",
      "source": [
        "X_train0, X_test0, y_train, y_test = cuml.model_selection.train_test_split(\n",
        "    X_cudf, y_cudf, train_size=0.7, random_state=23\n",
        ")"
      ],
      "metadata": {
        "id": "L-qPiyT-6dbW"
      },
      "execution_count": 8,
      "outputs": []
    },
    {
      "cell_type": "code",
      "source": [
        "scaler = cuml.preprocessing.StandardScaler()\n",
        "X_train = scaler.fit_transform(X_train0)\n",
        "X_test = scaler.transform(X_test0)"
      ],
      "metadata": {
        "id": "erXZuMLnTr3r"
      },
      "execution_count": 9,
      "outputs": []
    },
    {
      "cell_type": "markdown",
      "source": [
        "### 2.\n",
        "\n",
        "Initiate and configure ``LogisticRegression`` in ``sklearn`` for a multinomial regression. Select a range of values of ``C`` and ``l1_ratio`` (hyperparameter space), set up the ``GridSearchCV`` with ``cv`` and select a ``scoring`` to measure the model performance. Execute the model fit."
      ],
      "metadata": {
        "id": "BDr85cVqZNGs"
      }
    },
    {
      "cell_type": "markdown",
      "source": [
        "To use ``GridSearchCV`` with ``RAPIDS`` integration, a wrapper is necessary."
      ],
      "metadata": {
        "id": "npca_fDi8QIU"
      }
    },
    {
      "cell_type": "code",
      "source": [
        "from sklearn.base import BaseEstimator, ClassifierMixin\n",
        "from sklearn.metrics import accuracy_score\n",
        "\n",
        "class RAPIDSLogRegWrapper(BaseEstimator, ClassifierMixin):\n",
        "  def __init__(self, C=1.0, l1_ratio=0.5):\n",
        "    self.penalty = 'elasticnet'\n",
        "    self.C = C\n",
        "    self.l1_ratio = l1_ratio\n",
        "\n",
        "  def fit(self, X, y):\n",
        "    self.model_ = cuml.LogisticRegression(\n",
        "        penalty=self.penalty,\n",
        "        C=self.C,\n",
        "        l1_ratio=self.l1_ratio\n",
        "    )\n",
        "    self.model_.fit(X, y)\n",
        "    return self\n",
        "\n",
        "  def predict(self, X):\n",
        "    return self.model_.predict(X).to_numpy()\n",
        "\n",
        "  def predict_proba(self, X):\n",
        "    return self.model_.predict_proba(X).to_numpy()\n",
        "\n",
        "  def score(self, X, y):\n",
        "    y_pred = self.predict(X)\n",
        "    return accuracy_score(y.to_numpy(), y_pred)"
      ],
      "metadata": {
        "id": "_4V3mhpZAgo8"
      },
      "execution_count": 10,
      "outputs": []
    },
    {
      "cell_type": "code",
      "source": [
        "from sklearn.model_selection import GridSearchCV\n",
        "\n",
        "param_grid = {\n",
        "    'C': [0.01, 1, 100],\n",
        "    'l1_ratio': [0.0, 0.5, 1.0],\n",
        "}\n",
        "\n",
        "logreg = RAPIDSLogRegWrapper()\n",
        "logregCV = GridSearchCV(logreg, param_grid, cv=3)\n",
        "model = logregCV.fit(X_train, y_train)"
      ],
      "metadata": {
        "colab": {
          "base_uri": "https://localhost:8080/"
        },
        "id": "aJmeyOq4EkwR",
        "outputId": "3d5bb43a-ca82-4681-a2eb-1198f7c1be96"
      },
      "execution_count": 11,
      "outputs": [
        {
          "output_type": "stream",
          "name": "stderr",
          "text": [
            "/usr/local/lib/python3.11/dist-packages/cudf/core/dataframe.py:7737: FutureWarning: Using `__dataframe__` is deprecated\n",
            "  warnings.warn(\"Using `__dataframe__` is deprecated\", FutureWarning)\n",
            "/usr/local/lib/python3.11/dist-packages/cudf/core/dataframe.py:7737: FutureWarning: Using `__dataframe__` is deprecated\n",
            "  warnings.warn(\"Using `__dataframe__` is deprecated\", FutureWarning)\n",
            "/usr/local/lib/python3.11/dist-packages/cudf/core/dataframe.py:7737: FutureWarning: Using `__dataframe__` is deprecated\n",
            "  warnings.warn(\"Using `__dataframe__` is deprecated\", FutureWarning)\n",
            "/usr/local/lib/python3.11/dist-packages/cudf/core/dataframe.py:7737: FutureWarning: Using `__dataframe__` is deprecated\n",
            "  warnings.warn(\"Using `__dataframe__` is deprecated\", FutureWarning)\n",
            "/usr/local/lib/python3.11/dist-packages/cudf/core/dataframe.py:7737: FutureWarning: Using `__dataframe__` is deprecated\n",
            "  warnings.warn(\"Using `__dataframe__` is deprecated\", FutureWarning)\n",
            "/usr/local/lib/python3.11/dist-packages/cudf/core/dataframe.py:7737: FutureWarning: Using `__dataframe__` is deprecated\n",
            "  warnings.warn(\"Using `__dataframe__` is deprecated\", FutureWarning)\n",
            "/usr/local/lib/python3.11/dist-packages/cudf/core/dataframe.py:7737: FutureWarning: Using `__dataframe__` is deprecated\n",
            "  warnings.warn(\"Using `__dataframe__` is deprecated\", FutureWarning)\n",
            "/usr/local/lib/python3.11/dist-packages/cudf/core/dataframe.py:7737: FutureWarning: Using `__dataframe__` is deprecated\n",
            "  warnings.warn(\"Using `__dataframe__` is deprecated\", FutureWarning)\n",
            "/usr/local/lib/python3.11/dist-packages/cudf/core/dataframe.py:7737: FutureWarning: Using `__dataframe__` is deprecated\n",
            "  warnings.warn(\"Using `__dataframe__` is deprecated\", FutureWarning)\n",
            "/usr/local/lib/python3.11/dist-packages/cudf/core/dataframe.py:7737: FutureWarning: Using `__dataframe__` is deprecated\n",
            "  warnings.warn(\"Using `__dataframe__` is deprecated\", FutureWarning)\n",
            "/usr/local/lib/python3.11/dist-packages/cudf/core/dataframe.py:7737: FutureWarning: Using `__dataframe__` is deprecated\n",
            "  warnings.warn(\"Using `__dataframe__` is deprecated\", FutureWarning)\n",
            "/usr/local/lib/python3.11/dist-packages/cudf/core/dataframe.py:7737: FutureWarning: Using `__dataframe__` is deprecated\n",
            "  warnings.warn(\"Using `__dataframe__` is deprecated\", FutureWarning)\n",
            "/usr/local/lib/python3.11/dist-packages/cudf/core/dataframe.py:7737: FutureWarning: Using `__dataframe__` is deprecated\n",
            "  warnings.warn(\"Using `__dataframe__` is deprecated\", FutureWarning)\n"
          ]
        },
        {
          "output_type": "stream",
          "name": "stdout",
          "text": [
            "[2025-04-05 23:43:46.257] [CUML] [warning] QWL-QN: max iterations reached\n",
            "[2025-04-05 23:43:46.259] [CUML] [warning] Maximum iterations reached before solver is converged. To increase model accuracy you can increase the number of iterations (max_iter) or improve the scaling of the input data.\n"
          ]
        },
        {
          "output_type": "stream",
          "name": "stderr",
          "text": [
            "/usr/local/lib/python3.11/dist-packages/cudf/core/dataframe.py:7737: FutureWarning: Using `__dataframe__` is deprecated\n",
            "  warnings.warn(\"Using `__dataframe__` is deprecated\", FutureWarning)\n"
          ]
        },
        {
          "output_type": "stream",
          "name": "stdout",
          "text": [
            "[2025-04-05 23:44:18.631] [CUML] [warning] QWL-QN: max iterations reached\n",
            "[2025-04-05 23:44:18.632] [CUML] [warning] Maximum iterations reached before solver is converged. To increase model accuracy you can increase the number of iterations (max_iter) or improve the scaling of the input data.\n"
          ]
        },
        {
          "output_type": "stream",
          "name": "stderr",
          "text": [
            "/usr/local/lib/python3.11/dist-packages/cudf/core/dataframe.py:7737: FutureWarning: Using `__dataframe__` is deprecated\n",
            "  warnings.warn(\"Using `__dataframe__` is deprecated\", FutureWarning)\n"
          ]
        },
        {
          "output_type": "stream",
          "name": "stdout",
          "text": [
            "[2025-04-05 23:44:51.141] [CUML] [warning] QWL-QN: max iterations reached\n",
            "[2025-04-05 23:44:51.142] [CUML] [warning] Maximum iterations reached before solver is converged. To increase model accuracy you can increase the number of iterations (max_iter) or improve the scaling of the input data.\n"
          ]
        },
        {
          "output_type": "stream",
          "name": "stderr",
          "text": [
            "/usr/local/lib/python3.11/dist-packages/cudf/core/dataframe.py:7737: FutureWarning: Using `__dataframe__` is deprecated\n",
            "  warnings.warn(\"Using `__dataframe__` is deprecated\", FutureWarning)\n"
          ]
        },
        {
          "output_type": "stream",
          "name": "stdout",
          "text": [
            "[2025-04-05 23:45:24.964] [CUML] [warning] QWL-QN: max iterations reached\n",
            "[2025-04-05 23:45:24.970] [CUML] [warning] Maximum iterations reached before solver is converged. To increase model accuracy you can increase the number of iterations (max_iter) or improve the scaling of the input data.\n"
          ]
        },
        {
          "output_type": "stream",
          "name": "stderr",
          "text": [
            "/usr/local/lib/python3.11/dist-packages/cudf/core/dataframe.py:7737: FutureWarning: Using `__dataframe__` is deprecated\n",
            "  warnings.warn(\"Using `__dataframe__` is deprecated\", FutureWarning)\n"
          ]
        },
        {
          "output_type": "stream",
          "name": "stdout",
          "text": [
            "[2025-04-05 23:45:57.449] [CUML] [warning] QWL-QN: max iterations reached\n",
            "[2025-04-05 23:45:57.451] [CUML] [warning] Maximum iterations reached before solver is converged. To increase model accuracy you can increase the number of iterations (max_iter) or improve the scaling of the input data.\n"
          ]
        },
        {
          "output_type": "stream",
          "name": "stderr",
          "text": [
            "/usr/local/lib/python3.11/dist-packages/cudf/core/dataframe.py:7737: FutureWarning: Using `__dataframe__` is deprecated\n",
            "  warnings.warn(\"Using `__dataframe__` is deprecated\", FutureWarning)\n"
          ]
        },
        {
          "output_type": "stream",
          "name": "stdout",
          "text": [
            "[2025-04-05 23:46:29.819] [CUML] [warning] QWL-QN: max iterations reached\n",
            "[2025-04-05 23:46:29.820] [CUML] [warning] Maximum iterations reached before solver is converged. To increase model accuracy you can increase the number of iterations (max_iter) or improve the scaling of the input data.\n"
          ]
        },
        {
          "output_type": "stream",
          "name": "stderr",
          "text": [
            "/usr/local/lib/python3.11/dist-packages/cudf/core/dataframe.py:7737: FutureWarning: Using `__dataframe__` is deprecated\n",
            "  warnings.warn(\"Using `__dataframe__` is deprecated\", FutureWarning)\n"
          ]
        },
        {
          "output_type": "stream",
          "name": "stdout",
          "text": [
            "[2025-04-05 23:47:03.336] [CUML] [warning] L-BFGS: max iterations reached\n",
            "[2025-04-05 23:47:03.337] [CUML] [warning] Maximum iterations reached before solver is converged. To increase model accuracy you can increase the number of iterations (max_iter) or improve the scaling of the input data.\n"
          ]
        },
        {
          "output_type": "stream",
          "name": "stderr",
          "text": [
            "/usr/local/lib/python3.11/dist-packages/cudf/core/dataframe.py:7737: FutureWarning: Using `__dataframe__` is deprecated\n",
            "  warnings.warn(\"Using `__dataframe__` is deprecated\", FutureWarning)\n"
          ]
        },
        {
          "output_type": "stream",
          "name": "stdout",
          "text": [
            "[2025-04-05 23:47:37.025] [CUML] [warning] L-BFGS: max iterations reached\n",
            "[2025-04-05 23:47:37.030] [CUML] [warning] Maximum iterations reached before solver is converged. To increase model accuracy you can increase the number of iterations (max_iter) or improve the scaling of the input data.\n"
          ]
        },
        {
          "output_type": "stream",
          "name": "stderr",
          "text": [
            "/usr/local/lib/python3.11/dist-packages/cudf/core/dataframe.py:7737: FutureWarning: Using `__dataframe__` is deprecated\n",
            "  warnings.warn(\"Using `__dataframe__` is deprecated\", FutureWarning)\n"
          ]
        },
        {
          "output_type": "stream",
          "name": "stdout",
          "text": [
            "[2025-04-05 23:48:10.738] [CUML] [warning] L-BFGS: max iterations reached\n",
            "[2025-04-05 23:48:10.739] [CUML] [warning] Maximum iterations reached before solver is converged. To increase model accuracy you can increase the number of iterations (max_iter) or improve the scaling of the input data.\n"
          ]
        },
        {
          "output_type": "stream",
          "name": "stderr",
          "text": [
            "/usr/local/lib/python3.11/dist-packages/cudf/core/dataframe.py:7737: FutureWarning: Using `__dataframe__` is deprecated\n",
            "  warnings.warn(\"Using `__dataframe__` is deprecated\", FutureWarning)\n"
          ]
        },
        {
          "output_type": "stream",
          "name": "stdout",
          "text": [
            "[2025-04-05 23:48:44.468] [CUML] [warning] QWL-QN: max iterations reached\n",
            "[2025-04-05 23:48:44.469] [CUML] [warning] Maximum iterations reached before solver is converged. To increase model accuracy you can increase the number of iterations (max_iter) or improve the scaling of the input data.\n"
          ]
        },
        {
          "output_type": "stream",
          "name": "stderr",
          "text": [
            "/usr/local/lib/python3.11/dist-packages/cudf/core/dataframe.py:7737: FutureWarning: Using `__dataframe__` is deprecated\n",
            "  warnings.warn(\"Using `__dataframe__` is deprecated\", FutureWarning)\n"
          ]
        },
        {
          "output_type": "stream",
          "name": "stdout",
          "text": [
            "[2025-04-05 23:49:16.902] [CUML] [warning] QWL-QN: max iterations reached\n",
            "[2025-04-05 23:49:16.906] [CUML] [warning] Maximum iterations reached before solver is converged. To increase model accuracy you can increase the number of iterations (max_iter) or improve the scaling of the input data.\n"
          ]
        },
        {
          "output_type": "stream",
          "name": "stderr",
          "text": [
            "/usr/local/lib/python3.11/dist-packages/cudf/core/dataframe.py:7737: FutureWarning: Using `__dataframe__` is deprecated\n",
            "  warnings.warn(\"Using `__dataframe__` is deprecated\", FutureWarning)\n"
          ]
        },
        {
          "output_type": "stream",
          "name": "stdout",
          "text": [
            "[2025-04-05 23:49:49.309] [CUML] [warning] QWL-QN: max iterations reached\n",
            "[2025-04-05 23:49:49.311] [CUML] [warning] Maximum iterations reached before solver is converged. To increase model accuracy you can increase the number of iterations (max_iter) or improve the scaling of the input data.\n"
          ]
        },
        {
          "output_type": "stream",
          "name": "stderr",
          "text": [
            "/usr/local/lib/python3.11/dist-packages/cudf/core/dataframe.py:7737: FutureWarning: Using `__dataframe__` is deprecated\n",
            "  warnings.warn(\"Using `__dataframe__` is deprecated\", FutureWarning)\n"
          ]
        },
        {
          "output_type": "stream",
          "name": "stdout",
          "text": [
            "[2025-04-05 23:50:21.808] [CUML] [warning] QWL-QN: max iterations reached\n",
            "[2025-04-05 23:50:21.810] [CUML] [warning] Maximum iterations reached before solver is converged. To increase model accuracy you can increase the number of iterations (max_iter) or improve the scaling of the input data.\n"
          ]
        },
        {
          "output_type": "stream",
          "name": "stderr",
          "text": [
            "/usr/local/lib/python3.11/dist-packages/cudf/core/dataframe.py:7737: FutureWarning: Using `__dataframe__` is deprecated\n",
            "  warnings.warn(\"Using `__dataframe__` is deprecated\", FutureWarning)\n"
          ]
        },
        {
          "output_type": "stream",
          "name": "stdout",
          "text": [
            "[2025-04-05 23:50:54.363] [CUML] [warning] QWL-QN: max iterations reached\n",
            "[2025-04-05 23:50:54.364] [CUML] [warning] Maximum iterations reached before solver is converged. To increase model accuracy you can increase the number of iterations (max_iter) or improve the scaling of the input data.\n"
          ]
        },
        {
          "output_type": "stream",
          "name": "stderr",
          "text": [
            "/usr/local/lib/python3.11/dist-packages/cudf/core/dataframe.py:7737: FutureWarning: Using `__dataframe__` is deprecated\n",
            "  warnings.warn(\"Using `__dataframe__` is deprecated\", FutureWarning)\n"
          ]
        },
        {
          "output_type": "stream",
          "name": "stdout",
          "text": [
            "[2025-04-05 23:51:26.742] [CUML] [warning] QWL-QN: max iterations reached\n",
            "[2025-04-05 23:51:26.747] [CUML] [warning] Maximum iterations reached before solver is converged. To increase model accuracy you can increase the number of iterations (max_iter) or improve the scaling of the input data.\n"
          ]
        },
        {
          "output_type": "stream",
          "name": "stderr",
          "text": [
            "/usr/local/lib/python3.11/dist-packages/cudf/core/dataframe.py:7737: FutureWarning: Using `__dataframe__` is deprecated\n",
            "  warnings.warn(\"Using `__dataframe__` is deprecated\", FutureWarning)\n"
          ]
        }
      ]
    },
    {
      "cell_type": "markdown",
      "source": [
        "### 3.\n",
        "\n",
        "Report the cross-validation results"
      ],
      "metadata": {
        "id": "iAnHKGu0ZO9h"
      }
    },
    {
      "cell_type": "code",
      "source": [
        "model.cv_results_"
      ],
      "metadata": {
        "colab": {
          "base_uri": "https://localhost:8080/"
        },
        "id": "FQJF-ivfZP0L",
        "outputId": "dd7e8e4a-6d53-49d3-ff5d-e1f07091b30e"
      },
      "execution_count": 12,
      "outputs": [
        {
          "output_type": "execute_result",
          "data": {
            "text/plain": [
              "{'mean_fit_time': array([ 6.08302895,  6.38354667,  9.30438519, 15.17789793, 32.53114637,\n",
              "        32.78674444, 33.53706622, 32.76722725, 32.36833485]),\n",
              " 'std_fit_time': array([0.53244388, 0.14702949, 0.71273498, 1.221078  , 0.2646607 ,\n",
              "        0.66341259, 0.07797104, 0.61648529, 0.06385418]),\n",
              " 'mean_score_time': array([0.12010821, 0.0926168 , 0.09657462, 0.10342113, 0.09274507,\n",
              "        0.10076404, 0.10221926, 0.10333101, 0.10625076]),\n",
              " 'std_score_time': array([0.03486422, 0.00220499, 0.00089331, 0.02181814, 0.00245725,\n",
              "        0.01462698, 0.013675  , 0.01999819, 0.01762157]),\n",
              " 'param_C': masked_array(data=[0.01, 0.01, 0.01, 1.0, 1.0, 1.0, 100.0, 100.0, 100.0],\n",
              "              mask=[False, False, False, False, False, False, False, False,\n",
              "                    False],\n",
              "        fill_value=1e+20),\n",
              " 'param_l1_ratio': masked_array(data=[0.0, 0.5, 1.0, 0.0, 0.5, 1.0, 0.0, 0.5, 1.0],\n",
              "              mask=[False, False, False, False, False, False, False, False,\n",
              "                    False],\n",
              "        fill_value=1e+20),\n",
              " 'params': [{'C': 0.01, 'l1_ratio': 0.0},\n",
              "  {'C': 0.01, 'l1_ratio': 0.5},\n",
              "  {'C': 0.01, 'l1_ratio': 1.0},\n",
              "  {'C': 1, 'l1_ratio': 0.0},\n",
              "  {'C': 1, 'l1_ratio': 0.5},\n",
              "  {'C': 1, 'l1_ratio': 1.0},\n",
              "  {'C': 100, 'l1_ratio': 0.0},\n",
              "  {'C': 100, 'l1_ratio': 0.5},\n",
              "  {'C': 100, 'l1_ratio': 1.0}],\n",
              " 'split0_test_score': array([0.92126852, 0.91318722, 0.90302437, 0.9053508 , 0.90975879,\n",
              "        0.91294233, 0.8916983 , 0.89935105, 0.8997796 ]),\n",
              " 'split1_test_score': array([0.91948815, 0.91177371, 0.90050817, 0.90663075, 0.90810017,\n",
              "        0.91073287, 0.89567134, 0.90185514, 0.90154901]),\n",
              " 'split2_test_score': array([0.91979428, 0.911039  , 0.90118166, 0.90161024, 0.90644707,\n",
              "        0.90920223, 0.88954877, 0.89732444, 0.89689586]),\n",
              " 'mean_test_score': array([0.92018365, 0.91199998, 0.9015714 , 0.9045306 , 0.90810201,\n",
              "        0.91095914, 0.89230613, 0.89951021, 0.89940816]),\n",
              " 'std_test_score': array([0.00077723, 0.00089148, 0.00106356, 0.00213009, 0.001352  ,\n",
              "        0.00153525, 0.00253621, 0.00185307, 0.00191771]),\n",
              " 'rank_test_score': array([1, 2, 6, 5, 4, 3, 9, 7, 8], dtype=int32)}"
            ]
          },
          "metadata": {},
          "execution_count": 12
        }
      ]
    },
    {
      "cell_type": "markdown",
      "source": [
        "### 4.\n",
        "\n",
        "Which model was selected?"
      ],
      "metadata": {
        "id": "DKVByimIZQBt"
      }
    },
    {
      "cell_type": "code",
      "source": [
        "model.best_estimator_"
      ],
      "metadata": {
        "colab": {
          "base_uri": "https://localhost:8080/",
          "height": 80
        },
        "id": "4HEqqE4sZQ8E",
        "outputId": "019965a9-3dbb-4a73-9ab0-2b7a93c3a464"
      },
      "execution_count": 13,
      "outputs": [
        {
          "output_type": "execute_result",
          "data": {
            "text/plain": [
              "RAPIDSLogRegWrapper(C=0.01, l1_ratio=0.0)"
            ],
            "text/html": [
              "<style>#sk-container-id-1 {\n",
              "  /* Definition of color scheme common for light and dark mode */\n",
              "  --sklearn-color-text: #000;\n",
              "  --sklearn-color-text-muted: #666;\n",
              "  --sklearn-color-line: gray;\n",
              "  /* Definition of color scheme for unfitted estimators */\n",
              "  --sklearn-color-unfitted-level-0: #fff5e6;\n",
              "  --sklearn-color-unfitted-level-1: #f6e4d2;\n",
              "  --sklearn-color-unfitted-level-2: #ffe0b3;\n",
              "  --sklearn-color-unfitted-level-3: chocolate;\n",
              "  /* Definition of color scheme for fitted estimators */\n",
              "  --sklearn-color-fitted-level-0: #f0f8ff;\n",
              "  --sklearn-color-fitted-level-1: #d4ebff;\n",
              "  --sklearn-color-fitted-level-2: #b3dbfd;\n",
              "  --sklearn-color-fitted-level-3: cornflowerblue;\n",
              "\n",
              "  /* Specific color for light theme */\n",
              "  --sklearn-color-text-on-default-background: var(--sg-text-color, var(--theme-code-foreground, var(--jp-content-font-color1, black)));\n",
              "  --sklearn-color-background: var(--sg-background-color, var(--theme-background, var(--jp-layout-color0, white)));\n",
              "  --sklearn-color-border-box: var(--sg-text-color, var(--theme-code-foreground, var(--jp-content-font-color1, black)));\n",
              "  --sklearn-color-icon: #696969;\n",
              "\n",
              "  @media (prefers-color-scheme: dark) {\n",
              "    /* Redefinition of color scheme for dark theme */\n",
              "    --sklearn-color-text-on-default-background: var(--sg-text-color, var(--theme-code-foreground, var(--jp-content-font-color1, white)));\n",
              "    --sklearn-color-background: var(--sg-background-color, var(--theme-background, var(--jp-layout-color0, #111)));\n",
              "    --sklearn-color-border-box: var(--sg-text-color, var(--theme-code-foreground, var(--jp-content-font-color1, white)));\n",
              "    --sklearn-color-icon: #878787;\n",
              "  }\n",
              "}\n",
              "\n",
              "#sk-container-id-1 {\n",
              "  color: var(--sklearn-color-text);\n",
              "}\n",
              "\n",
              "#sk-container-id-1 pre {\n",
              "  padding: 0;\n",
              "}\n",
              "\n",
              "#sk-container-id-1 input.sk-hidden--visually {\n",
              "  border: 0;\n",
              "  clip: rect(1px 1px 1px 1px);\n",
              "  clip: rect(1px, 1px, 1px, 1px);\n",
              "  height: 1px;\n",
              "  margin: -1px;\n",
              "  overflow: hidden;\n",
              "  padding: 0;\n",
              "  position: absolute;\n",
              "  width: 1px;\n",
              "}\n",
              "\n",
              "#sk-container-id-1 div.sk-dashed-wrapped {\n",
              "  border: 1px dashed var(--sklearn-color-line);\n",
              "  margin: 0 0.4em 0.5em 0.4em;\n",
              "  box-sizing: border-box;\n",
              "  padding-bottom: 0.4em;\n",
              "  background-color: var(--sklearn-color-background);\n",
              "}\n",
              "\n",
              "#sk-container-id-1 div.sk-container {\n",
              "  /* jupyter's `normalize.less` sets `[hidden] { display: none; }`\n",
              "     but bootstrap.min.css set `[hidden] { display: none !important; }`\n",
              "     so we also need the `!important` here to be able to override the\n",
              "     default hidden behavior on the sphinx rendered scikit-learn.org.\n",
              "     See: https://github.com/scikit-learn/scikit-learn/issues/21755 */\n",
              "  display: inline-block !important;\n",
              "  position: relative;\n",
              "}\n",
              "\n",
              "#sk-container-id-1 div.sk-text-repr-fallback {\n",
              "  display: none;\n",
              "}\n",
              "\n",
              "div.sk-parallel-item,\n",
              "div.sk-serial,\n",
              "div.sk-item {\n",
              "  /* draw centered vertical line to link estimators */\n",
              "  background-image: linear-gradient(var(--sklearn-color-text-on-default-background), var(--sklearn-color-text-on-default-background));\n",
              "  background-size: 2px 100%;\n",
              "  background-repeat: no-repeat;\n",
              "  background-position: center center;\n",
              "}\n",
              "\n",
              "/* Parallel-specific style estimator block */\n",
              "\n",
              "#sk-container-id-1 div.sk-parallel-item::after {\n",
              "  content: \"\";\n",
              "  width: 100%;\n",
              "  border-bottom: 2px solid var(--sklearn-color-text-on-default-background);\n",
              "  flex-grow: 1;\n",
              "}\n",
              "\n",
              "#sk-container-id-1 div.sk-parallel {\n",
              "  display: flex;\n",
              "  align-items: stretch;\n",
              "  justify-content: center;\n",
              "  background-color: var(--sklearn-color-background);\n",
              "  position: relative;\n",
              "}\n",
              "\n",
              "#sk-container-id-1 div.sk-parallel-item {\n",
              "  display: flex;\n",
              "  flex-direction: column;\n",
              "}\n",
              "\n",
              "#sk-container-id-1 div.sk-parallel-item:first-child::after {\n",
              "  align-self: flex-end;\n",
              "  width: 50%;\n",
              "}\n",
              "\n",
              "#sk-container-id-1 div.sk-parallel-item:last-child::after {\n",
              "  align-self: flex-start;\n",
              "  width: 50%;\n",
              "}\n",
              "\n",
              "#sk-container-id-1 div.sk-parallel-item:only-child::after {\n",
              "  width: 0;\n",
              "}\n",
              "\n",
              "/* Serial-specific style estimator block */\n",
              "\n",
              "#sk-container-id-1 div.sk-serial {\n",
              "  display: flex;\n",
              "  flex-direction: column;\n",
              "  align-items: center;\n",
              "  background-color: var(--sklearn-color-background);\n",
              "  padding-right: 1em;\n",
              "  padding-left: 1em;\n",
              "}\n",
              "\n",
              "\n",
              "/* Toggleable style: style used for estimator/Pipeline/ColumnTransformer box that is\n",
              "clickable and can be expanded/collapsed.\n",
              "- Pipeline and ColumnTransformer use this feature and define the default style\n",
              "- Estimators will overwrite some part of the style using the `sk-estimator` class\n",
              "*/\n",
              "\n",
              "/* Pipeline and ColumnTransformer style (default) */\n",
              "\n",
              "#sk-container-id-1 div.sk-toggleable {\n",
              "  /* Default theme specific background. It is overwritten whether we have a\n",
              "  specific estimator or a Pipeline/ColumnTransformer */\n",
              "  background-color: var(--sklearn-color-background);\n",
              "}\n",
              "\n",
              "/* Toggleable label */\n",
              "#sk-container-id-1 label.sk-toggleable__label {\n",
              "  cursor: pointer;\n",
              "  display: flex;\n",
              "  width: 100%;\n",
              "  margin-bottom: 0;\n",
              "  padding: 0.5em;\n",
              "  box-sizing: border-box;\n",
              "  text-align: center;\n",
              "  align-items: start;\n",
              "  justify-content: space-between;\n",
              "  gap: 0.5em;\n",
              "}\n",
              "\n",
              "#sk-container-id-1 label.sk-toggleable__label .caption {\n",
              "  font-size: 0.6rem;\n",
              "  font-weight: lighter;\n",
              "  color: var(--sklearn-color-text-muted);\n",
              "}\n",
              "\n",
              "#sk-container-id-1 label.sk-toggleable__label-arrow:before {\n",
              "  /* Arrow on the left of the label */\n",
              "  content: \"▸\";\n",
              "  float: left;\n",
              "  margin-right: 0.25em;\n",
              "  color: var(--sklearn-color-icon);\n",
              "}\n",
              "\n",
              "#sk-container-id-1 label.sk-toggleable__label-arrow:hover:before {\n",
              "  color: var(--sklearn-color-text);\n",
              "}\n",
              "\n",
              "/* Toggleable content - dropdown */\n",
              "\n",
              "#sk-container-id-1 div.sk-toggleable__content {\n",
              "  max-height: 0;\n",
              "  max-width: 0;\n",
              "  overflow: hidden;\n",
              "  text-align: left;\n",
              "  /* unfitted */\n",
              "  background-color: var(--sklearn-color-unfitted-level-0);\n",
              "}\n",
              "\n",
              "#sk-container-id-1 div.sk-toggleable__content.fitted {\n",
              "  /* fitted */\n",
              "  background-color: var(--sklearn-color-fitted-level-0);\n",
              "}\n",
              "\n",
              "#sk-container-id-1 div.sk-toggleable__content pre {\n",
              "  margin: 0.2em;\n",
              "  border-radius: 0.25em;\n",
              "  color: var(--sklearn-color-text);\n",
              "  /* unfitted */\n",
              "  background-color: var(--sklearn-color-unfitted-level-0);\n",
              "}\n",
              "\n",
              "#sk-container-id-1 div.sk-toggleable__content.fitted pre {\n",
              "  /* unfitted */\n",
              "  background-color: var(--sklearn-color-fitted-level-0);\n",
              "}\n",
              "\n",
              "#sk-container-id-1 input.sk-toggleable__control:checked~div.sk-toggleable__content {\n",
              "  /* Expand drop-down */\n",
              "  max-height: 200px;\n",
              "  max-width: 100%;\n",
              "  overflow: auto;\n",
              "}\n",
              "\n",
              "#sk-container-id-1 input.sk-toggleable__control:checked~label.sk-toggleable__label-arrow:before {\n",
              "  content: \"▾\";\n",
              "}\n",
              "\n",
              "/* Pipeline/ColumnTransformer-specific style */\n",
              "\n",
              "#sk-container-id-1 div.sk-label input.sk-toggleable__control:checked~label.sk-toggleable__label {\n",
              "  color: var(--sklearn-color-text);\n",
              "  background-color: var(--sklearn-color-unfitted-level-2);\n",
              "}\n",
              "\n",
              "#sk-container-id-1 div.sk-label.fitted input.sk-toggleable__control:checked~label.sk-toggleable__label {\n",
              "  background-color: var(--sklearn-color-fitted-level-2);\n",
              "}\n",
              "\n",
              "/* Estimator-specific style */\n",
              "\n",
              "/* Colorize estimator box */\n",
              "#sk-container-id-1 div.sk-estimator input.sk-toggleable__control:checked~label.sk-toggleable__label {\n",
              "  /* unfitted */\n",
              "  background-color: var(--sklearn-color-unfitted-level-2);\n",
              "}\n",
              "\n",
              "#sk-container-id-1 div.sk-estimator.fitted input.sk-toggleable__control:checked~label.sk-toggleable__label {\n",
              "  /* fitted */\n",
              "  background-color: var(--sklearn-color-fitted-level-2);\n",
              "}\n",
              "\n",
              "#sk-container-id-1 div.sk-label label.sk-toggleable__label,\n",
              "#sk-container-id-1 div.sk-label label {\n",
              "  /* The background is the default theme color */\n",
              "  color: var(--sklearn-color-text-on-default-background);\n",
              "}\n",
              "\n",
              "/* On hover, darken the color of the background */\n",
              "#sk-container-id-1 div.sk-label:hover label.sk-toggleable__label {\n",
              "  color: var(--sklearn-color-text);\n",
              "  background-color: var(--sklearn-color-unfitted-level-2);\n",
              "}\n",
              "\n",
              "/* Label box, darken color on hover, fitted */\n",
              "#sk-container-id-1 div.sk-label.fitted:hover label.sk-toggleable__label.fitted {\n",
              "  color: var(--sklearn-color-text);\n",
              "  background-color: var(--sklearn-color-fitted-level-2);\n",
              "}\n",
              "\n",
              "/* Estimator label */\n",
              "\n",
              "#sk-container-id-1 div.sk-label label {\n",
              "  font-family: monospace;\n",
              "  font-weight: bold;\n",
              "  display: inline-block;\n",
              "  line-height: 1.2em;\n",
              "}\n",
              "\n",
              "#sk-container-id-1 div.sk-label-container {\n",
              "  text-align: center;\n",
              "}\n",
              "\n",
              "/* Estimator-specific */\n",
              "#sk-container-id-1 div.sk-estimator {\n",
              "  font-family: monospace;\n",
              "  border: 1px dotted var(--sklearn-color-border-box);\n",
              "  border-radius: 0.25em;\n",
              "  box-sizing: border-box;\n",
              "  margin-bottom: 0.5em;\n",
              "  /* unfitted */\n",
              "  background-color: var(--sklearn-color-unfitted-level-0);\n",
              "}\n",
              "\n",
              "#sk-container-id-1 div.sk-estimator.fitted {\n",
              "  /* fitted */\n",
              "  background-color: var(--sklearn-color-fitted-level-0);\n",
              "}\n",
              "\n",
              "/* on hover */\n",
              "#sk-container-id-1 div.sk-estimator:hover {\n",
              "  /* unfitted */\n",
              "  background-color: var(--sklearn-color-unfitted-level-2);\n",
              "}\n",
              "\n",
              "#sk-container-id-1 div.sk-estimator.fitted:hover {\n",
              "  /* fitted */\n",
              "  background-color: var(--sklearn-color-fitted-level-2);\n",
              "}\n",
              "\n",
              "/* Specification for estimator info (e.g. \"i\" and \"?\") */\n",
              "\n",
              "/* Common style for \"i\" and \"?\" */\n",
              "\n",
              ".sk-estimator-doc-link,\n",
              "a:link.sk-estimator-doc-link,\n",
              "a:visited.sk-estimator-doc-link {\n",
              "  float: right;\n",
              "  font-size: smaller;\n",
              "  line-height: 1em;\n",
              "  font-family: monospace;\n",
              "  background-color: var(--sklearn-color-background);\n",
              "  border-radius: 1em;\n",
              "  height: 1em;\n",
              "  width: 1em;\n",
              "  text-decoration: none !important;\n",
              "  margin-left: 0.5em;\n",
              "  text-align: center;\n",
              "  /* unfitted */\n",
              "  border: var(--sklearn-color-unfitted-level-1) 1pt solid;\n",
              "  color: var(--sklearn-color-unfitted-level-1);\n",
              "}\n",
              "\n",
              ".sk-estimator-doc-link.fitted,\n",
              "a:link.sk-estimator-doc-link.fitted,\n",
              "a:visited.sk-estimator-doc-link.fitted {\n",
              "  /* fitted */\n",
              "  border: var(--sklearn-color-fitted-level-1) 1pt solid;\n",
              "  color: var(--sklearn-color-fitted-level-1);\n",
              "}\n",
              "\n",
              "/* On hover */\n",
              "div.sk-estimator:hover .sk-estimator-doc-link:hover,\n",
              ".sk-estimator-doc-link:hover,\n",
              "div.sk-label-container:hover .sk-estimator-doc-link:hover,\n",
              ".sk-estimator-doc-link:hover {\n",
              "  /* unfitted */\n",
              "  background-color: var(--sklearn-color-unfitted-level-3);\n",
              "  color: var(--sklearn-color-background);\n",
              "  text-decoration: none;\n",
              "}\n",
              "\n",
              "div.sk-estimator.fitted:hover .sk-estimator-doc-link.fitted:hover,\n",
              ".sk-estimator-doc-link.fitted:hover,\n",
              "div.sk-label-container:hover .sk-estimator-doc-link.fitted:hover,\n",
              ".sk-estimator-doc-link.fitted:hover {\n",
              "  /* fitted */\n",
              "  background-color: var(--sklearn-color-fitted-level-3);\n",
              "  color: var(--sklearn-color-background);\n",
              "  text-decoration: none;\n",
              "}\n",
              "\n",
              "/* Span, style for the box shown on hovering the info icon */\n",
              ".sk-estimator-doc-link span {\n",
              "  display: none;\n",
              "  z-index: 9999;\n",
              "  position: relative;\n",
              "  font-weight: normal;\n",
              "  right: .2ex;\n",
              "  padding: .5ex;\n",
              "  margin: .5ex;\n",
              "  width: min-content;\n",
              "  min-width: 20ex;\n",
              "  max-width: 50ex;\n",
              "  color: var(--sklearn-color-text);\n",
              "  box-shadow: 2pt 2pt 4pt #999;\n",
              "  /* unfitted */\n",
              "  background: var(--sklearn-color-unfitted-level-0);\n",
              "  border: .5pt solid var(--sklearn-color-unfitted-level-3);\n",
              "}\n",
              "\n",
              ".sk-estimator-doc-link.fitted span {\n",
              "  /* fitted */\n",
              "  background: var(--sklearn-color-fitted-level-0);\n",
              "  border: var(--sklearn-color-fitted-level-3);\n",
              "}\n",
              "\n",
              ".sk-estimator-doc-link:hover span {\n",
              "  display: block;\n",
              "}\n",
              "\n",
              "/* \"?\"-specific style due to the `<a>` HTML tag */\n",
              "\n",
              "#sk-container-id-1 a.estimator_doc_link {\n",
              "  float: right;\n",
              "  font-size: 1rem;\n",
              "  line-height: 1em;\n",
              "  font-family: monospace;\n",
              "  background-color: var(--sklearn-color-background);\n",
              "  border-radius: 1rem;\n",
              "  height: 1rem;\n",
              "  width: 1rem;\n",
              "  text-decoration: none;\n",
              "  /* unfitted */\n",
              "  color: var(--sklearn-color-unfitted-level-1);\n",
              "  border: var(--sklearn-color-unfitted-level-1) 1pt solid;\n",
              "}\n",
              "\n",
              "#sk-container-id-1 a.estimator_doc_link.fitted {\n",
              "  /* fitted */\n",
              "  border: var(--sklearn-color-fitted-level-1) 1pt solid;\n",
              "  color: var(--sklearn-color-fitted-level-1);\n",
              "}\n",
              "\n",
              "/* On hover */\n",
              "#sk-container-id-1 a.estimator_doc_link:hover {\n",
              "  /* unfitted */\n",
              "  background-color: var(--sklearn-color-unfitted-level-3);\n",
              "  color: var(--sklearn-color-background);\n",
              "  text-decoration: none;\n",
              "}\n",
              "\n",
              "#sk-container-id-1 a.estimator_doc_link.fitted:hover {\n",
              "  /* fitted */\n",
              "  background-color: var(--sklearn-color-fitted-level-3);\n",
              "}\n",
              "</style><div id=\"sk-container-id-1\" class=\"sk-top-container\"><div class=\"sk-text-repr-fallback\"><pre>RAPIDSLogRegWrapper(C=0.01, l1_ratio=0.0)</pre><b>In a Jupyter environment, please rerun this cell to show the HTML representation or trust the notebook. <br />On GitHub, the HTML representation is unable to render, please try loading this page with nbviewer.org.</b></div><div class=\"sk-container\" hidden><div class=\"sk-item\"><div class=\"sk-estimator fitted sk-toggleable\"><input class=\"sk-toggleable__control sk-hidden--visually\" id=\"sk-estimator-id-1\" type=\"checkbox\" checked><label for=\"sk-estimator-id-1\" class=\"sk-toggleable__label fitted sk-toggleable__label-arrow\"><div><div>RAPIDSLogRegWrapper</div></div><div><span class=\"sk-estimator-doc-link fitted\">i<span>Fitted</span></span></div></label><div class=\"sk-toggleable__content fitted\"><pre>RAPIDSLogRegWrapper(C=0.01, l1_ratio=0.0)</pre></div> </div></div></div></div>"
            ]
          },
          "metadata": {},
          "execution_count": 13
        }
      ]
    },
    {
      "cell_type": "markdown",
      "source": [
        "### 5.\n",
        "\n",
        "Evaluate the model on the test dataset. Report the ``accuracy score``."
      ],
      "metadata": {
        "id": "yaDaXJUVZRKA"
      }
    },
    {
      "cell_type": "code",
      "source": [
        "test_preds = model.best_estimator_.predict(X_test)\n",
        "test_probs = model.best_estimator_.predict_proba(X_test)"
      ],
      "metadata": {
        "id": "wmPOa2ck5uc6"
      },
      "execution_count": 14,
      "outputs": []
    },
    {
      "cell_type": "code",
      "source": [
        "print(\"Test Accuracy:\", accuracy_score(y_test.to_numpy(), test_preds))"
      ],
      "metadata": {
        "colab": {
          "base_uri": "https://localhost:8080/"
        },
        "id": "wOnz7T27ZSDh",
        "outputId": "b41eaff3-7577-44cc-ff22-f33965c9cc9e"
      },
      "execution_count": 16,
      "outputs": [
        {
          "output_type": "stream",
          "name": "stdout",
          "text": [
            "Test Accuracy: 0.9216190476190477\n"
          ]
        }
      ]
    },
    {
      "cell_type": "markdown",
      "source": [
        "### 6.\n",
        "\n",
        "Display a small sample of the images from the testing dataset. Show the associated probability prediction vector for each."
      ],
      "metadata": {
        "id": "To0q7P2EZSUg"
      }
    },
    {
      "cell_type": "code",
      "source": [
        "num_samples = 5\n",
        "rand_i = np.random.choice(len(X_test0), size=num_samples, replace=False)\n",
        "images = X_test0.iloc[rand_i].to_numpy()\n",
        "labels = y_test.iloc[rand_i].to_numpy()\n",
        "\n",
        "for i in np.arange(num_samples):\n",
        "    plt.figure(figsize=(4, 2))\n",
        "\n",
        "    plt.subplot(1, 2, 1)\n",
        "    plt.imshow(images[i].reshape(28, 28), cmap='gray')\n",
        "    plt.axis('off')\n",
        "    plt.title(f'True: {labels[i]}  Pred: {test_preds[rand_i[i]]}')\n",
        "\n",
        "    plt.subplot(1, 2, 2)\n",
        "    plt.bar(range(10), test_probs[rand_i[i]])\n",
        "    plt.xticks(range(10))\n",
        "    plt.ylim(0, 1)\n",
        "    plt.title(\"Probability Prediction Vector\")\n",
        "\n",
        "    plt.tight_layout()\n",
        "    plt.show()"
      ],
      "metadata": {
        "colab": {
          "base_uri": "https://localhost:8080/",
          "height": 967
        },
        "id": "FCtB27ugZTX1",
        "outputId": "59a0abd9-c6e6-422f-f463-cddd4a842c10"
      },
      "execution_count": 42,
      "outputs": [
        {
          "output_type": "display_data",
          "data": {
            "text/plain": [
              "<Figure size 400x200 with 2 Axes>"
            ],
            "image/png": "[encoded data removed]"
          },
          "metadata": {}
        },
        {
          "output_type": "display_data",
          "data": {
            "text/plain": [
              "<Figure size 400x200 with 2 Axes>"
            ],
            "image/png": "[encoded data removed]"
          },
          "metadata": {}
        },
        {
          "output_type": "display_data",
          "data": {
            "text/plain": [
              "<Figure size 400x200 with 2 Axes>"
            ],
            "image/png": "[encoded data removed]"
          },
          "metadata": {}
        },
        {
          "output_type": "display_data",
          "data": {
            "text/plain": [
              "<Figure size 400x200 with 2 Axes>"
            ],
            "image/png": "[encoded data removed]"
          },
          "metadata": {}
        },
        {
          "output_type": "display_data",
          "data": {
            "text/plain": [
              "<Figure size 400x200 with 2 Axes>"
            ],
            "image/png": "[encoded data removed]"
          },
          "metadata": {}
        }
      ]
    }
  ]
}