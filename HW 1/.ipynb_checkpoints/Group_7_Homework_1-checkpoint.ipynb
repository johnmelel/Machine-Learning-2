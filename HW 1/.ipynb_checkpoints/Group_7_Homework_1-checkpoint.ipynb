{
 "cells": [
  {
   "cell_type": "code",
   "execution_count": null,
   "metadata": {},
   "outputs": [],
   "source": [
    "# Assignment 1\n",
    "\n",
    "__Team Members__\n",
    "Veera Anand\n",
    "Aarav Dewangan\n",
    "Samuel Martinez Koss\n",
    "John Melel\n",
    "\n",
    "Notes:\n",
    "- Questions 01, 02, 03, 04 from ``0001-01-02-02_performance-metrics_homework.html``\n",
    "- Bonus Question from ``0001-01-01-02_bias_vs_variance_homework.html``"
   ]
  },
  {
   "cell_type": "code",
   "execution_count": 1,
   "metadata": {},
   "outputs": [],
   "source": [
    "#All libraries are imported here\n",
    "import pandas as pd\n",
    "import numpy as np\n",
    "from sklearn.metrics import accuracy_score, precision_score, recall_score, f1_score, log_loss\n",
    "from sklearn.metrics import mean_absolute_error, mean_squared_error, r2_score, explained_variance_score, mean_absolute_percentage_error\n",
    "import tensorflow as tf\n",
    "import torch\n",
    "import torch.nn.functional as F\n",
    "from sklearn.linear_model import LassoLars\n",
    "from sklearn.preprocessing import StandardScaler\n",
    "import matplotlib.pyplot as plt"
   ]
  },
  {
   "cell_type": "markdown",
   "metadata": {},
   "source": [
    "## __Question 01__\n",
    "\n",
    "Datasets ``binomial-classification-v1.csv`` and ``binomial-classification-v2.csv`` contain actuals and predictions values from a binomial response variable.\n",
    "\n",
    "1. Print one record containing a true/positive, true/negative, false/positive, false/negative <br>\n",
    "2. Manually compute ``accuracy``, ``precision``, ``recall``, ``f1_Score``\n",
    "3. Compute the metrics in item 2 using ``sklearn`` and ``tensorflow``, and ``torch``\n",
    "4. Show the values matching across all three computing approaches"
   ]
  },
  {
   "cell_type": "markdown",
   "metadata": {},
   "source": [
    "### For binomial-classification-v1.csv (V1)"
   ]
  },
  {
   "cell_type": "code",
   "execution_count": 2,
   "metadata": {},
   "outputs": [
    {
     "name": "stdout",
     "output_type": "stream",
     "text": [
      "   actual  predicted\n",
      "0       1          0\n",
      "1       0          1\n",
      "2       1          0\n",
      "3       0          1\n",
      "4       1          0\n"
     ]
    }
   ],
   "source": [
    "v1_df = pd.read_csv('Data/binomial-classification-v1.csv')\n",
    "v1_df = v1_df[['actual', 'predicted']]\n",
    "\n",
    "print(v1_df.head())"
   ]
  },
  {
   "cell_type": "code",
   "execution_count": 3,
   "metadata": {},
   "outputs": [
    {
     "data": {
      "text/html": [
       "<div>\n",
       "<style scoped>\n",
       "    .dataframe tbody tr th:only-of-type {\n",
       "        vertical-align: middle;\n",
       "    }\n",
       "\n",
       "    .dataframe tbody tr th {\n",
       "        vertical-align: top;\n",
       "    }\n",
       "\n",
       "    .dataframe thead th {\n",
       "        text-align: right;\n",
       "    }\n",
       "</style>\n",
       "<table border=\"1\" class=\"dataframe\">\n",
       "  <thead>\n",
       "    <tr style=\"text-align: right;\">\n",
       "      <th></th>\n",
       "      <th>actual</th>\n",
       "      <th>predicted</th>\n",
       "      <th>TP</th>\n",
       "      <th>TN</th>\n",
       "      <th>FP</th>\n",
       "      <th>FN</th>\n",
       "    </tr>\n",
       "  </thead>\n",
       "  <tbody>\n",
       "    <tr>\n",
       "      <th>0</th>\n",
       "      <td>1</td>\n",
       "      <td>0</td>\n",
       "      <td>0</td>\n",
       "      <td>0</td>\n",
       "      <td>0</td>\n",
       "      <td>1</td>\n",
       "    </tr>\n",
       "    <tr>\n",
       "      <th>1</th>\n",
       "      <td>0</td>\n",
       "      <td>1</td>\n",
       "      <td>0</td>\n",
       "      <td>0</td>\n",
       "      <td>1</td>\n",
       "      <td>0</td>\n",
       "    </tr>\n",
       "    <tr>\n",
       "      <th>2</th>\n",
       "      <td>1</td>\n",
       "      <td>0</td>\n",
       "      <td>0</td>\n",
       "      <td>0</td>\n",
       "      <td>0</td>\n",
       "      <td>1</td>\n",
       "    </tr>\n",
       "    <tr>\n",
       "      <th>3</th>\n",
       "      <td>0</td>\n",
       "      <td>1</td>\n",
       "      <td>0</td>\n",
       "      <td>0</td>\n",
       "      <td>1</td>\n",
       "      <td>0</td>\n",
       "    </tr>\n",
       "    <tr>\n",
       "      <th>4</th>\n",
       "      <td>1</td>\n",
       "      <td>0</td>\n",
       "      <td>0</td>\n",
       "      <td>0</td>\n",
       "      <td>0</td>\n",
       "      <td>1</td>\n",
       "    </tr>\n",
       "  </tbody>\n",
       "</table>\n",
       "</div>"
      ],
      "text/plain": [
       "   actual  predicted  TP  TN  FP  FN\n",
       "0       1          0   0   0   0   1\n",
       "1       0          1   0   0   1   0\n",
       "2       1          0   0   0   0   1\n",
       "3       0          1   0   0   1   0\n",
       "4       1          0   0   0   0   1"
      ]
     },
     "metadata": {},
     "output_type": "display_data"
    }
   ],
   "source": [
    "def compute_metrics(actual, predicted):\n",
    "    TP = np.where((actual == 1) & (predicted == 1),1,0)\n",
    "    TN = np.where((actual == 0) & (predicted == 0),1,0)\n",
    "    FP = np.where((actual == 0) & (predicted == 1),1,0)\n",
    "    FN = np.where((actual == 1) & (predicted == 0),1,0)\n",
    "    metrics = pd.DataFrame()\n",
    "    metrics[\"actual\"] = actual\n",
    "    metrics[\"predicted\"] = predicted\n",
    "    metrics[\"TP\"] = TP\n",
    "    metrics[\"TN\"] = TN\n",
    "    metrics[\"FP\"] = FP\n",
    "    metrics[\"FN\"] = FN\n",
    "    return metrics, TP, TN, FP, FN\n",
    "\n",
    "v1_metrics, TP, TN, FP, FN = compute_metrics(v1_df['actual'], v1_df['predicted'])\n",
    "display(v1_metrics.head())"
   ]
  },
  {
   "cell_type": "code",
   "execution_count": 4,
   "metadata": {},
   "outputs": [
    {
     "data": {
      "text/html": [
       "<div>\n",
       "<style scoped>\n",
       "    .dataframe tbody tr th:only-of-type {\n",
       "        vertical-align: middle;\n",
       "    }\n",
       "\n",
       "    .dataframe tbody tr th {\n",
       "        vertical-align: top;\n",
       "    }\n",
       "\n",
       "    .dataframe thead th {\n",
       "        text-align: right;\n",
       "    }\n",
       "</style>\n",
       "<table border=\"1\" class=\"dataframe\">\n",
       "  <thead>\n",
       "    <tr style=\"text-align: right;\">\n",
       "      <th></th>\n",
       "      <th>actual</th>\n",
       "      <th>predicted</th>\n",
       "      <th>TP</th>\n",
       "      <th>TN</th>\n",
       "      <th>FP</th>\n",
       "      <th>FN</th>\n",
       "    </tr>\n",
       "  </thead>\n",
       "  <tbody>\n",
       "    <tr>\n",
       "      <th>10</th>\n",
       "      <td>0</td>\n",
       "      <td>0</td>\n",
       "      <td>0</td>\n",
       "      <td>1</td>\n",
       "      <td>0</td>\n",
       "      <td>0</td>\n",
       "    </tr>\n",
       "  </tbody>\n",
       "</table>\n",
       "</div>"
      ],
      "text/plain": [
       "    actual  predicted  TP  TN  FP  FN\n",
       "10       0          0   0   1   0   0"
      ]
     },
     "metadata": {},
     "output_type": "display_data"
    },
    {
     "data": {
      "text/html": [
       "<div>\n",
       "<style scoped>\n",
       "    .dataframe tbody tr th:only-of-type {\n",
       "        vertical-align: middle;\n",
       "    }\n",
       "\n",
       "    .dataframe tbody tr th {\n",
       "        vertical-align: top;\n",
       "    }\n",
       "\n",
       "    .dataframe thead th {\n",
       "        text-align: right;\n",
       "    }\n",
       "</style>\n",
       "<table border=\"1\" class=\"dataframe\">\n",
       "  <thead>\n",
       "    <tr style=\"text-align: right;\">\n",
       "      <th></th>\n",
       "      <th>actual</th>\n",
       "      <th>predicted</th>\n",
       "      <th>TP</th>\n",
       "      <th>TN</th>\n",
       "      <th>FP</th>\n",
       "      <th>FN</th>\n",
       "    </tr>\n",
       "  </thead>\n",
       "  <tbody>\n",
       "    <tr>\n",
       "      <th>20</th>\n",
       "      <td>1</td>\n",
       "      <td>1</td>\n",
       "      <td>1</td>\n",
       "      <td>0</td>\n",
       "      <td>0</td>\n",
       "      <td>0</td>\n",
       "    </tr>\n",
       "  </tbody>\n",
       "</table>\n",
       "</div>"
      ],
      "text/plain": [
       "    actual  predicted  TP  TN  FP  FN\n",
       "20       1          1   1   0   0   0"
      ]
     },
     "metadata": {},
     "output_type": "display_data"
    },
    {
     "data": {
      "text/html": [
       "<div>\n",
       "<style scoped>\n",
       "    .dataframe tbody tr th:only-of-type {\n",
       "        vertical-align: middle;\n",
       "    }\n",
       "\n",
       "    .dataframe tbody tr th {\n",
       "        vertical-align: top;\n",
       "    }\n",
       "\n",
       "    .dataframe thead th {\n",
       "        text-align: right;\n",
       "    }\n",
       "</style>\n",
       "<table border=\"1\" class=\"dataframe\">\n",
       "  <thead>\n",
       "    <tr style=\"text-align: right;\">\n",
       "      <th></th>\n",
       "      <th>actual</th>\n",
       "      <th>predicted</th>\n",
       "      <th>TP</th>\n",
       "      <th>TN</th>\n",
       "      <th>FP</th>\n",
       "      <th>FN</th>\n",
       "    </tr>\n",
       "  </thead>\n",
       "  <tbody>\n",
       "    <tr>\n",
       "      <th>0</th>\n",
       "      <td>1</td>\n",
       "      <td>0</td>\n",
       "      <td>0</td>\n",
       "      <td>0</td>\n",
       "      <td>0</td>\n",
       "      <td>1</td>\n",
       "    </tr>\n",
       "  </tbody>\n",
       "</table>\n",
       "</div>"
      ],
      "text/plain": [
       "   actual  predicted  TP  TN  FP  FN\n",
       "0       1          0   0   0   0   1"
      ]
     },
     "metadata": {},
     "output_type": "display_data"
    },
    {
     "data": {
      "text/html": [
       "<div>\n",
       "<style scoped>\n",
       "    .dataframe tbody tr th:only-of-type {\n",
       "        vertical-align: middle;\n",
       "    }\n",
       "\n",
       "    .dataframe tbody tr th {\n",
       "        vertical-align: top;\n",
       "    }\n",
       "\n",
       "    .dataframe thead th {\n",
       "        text-align: right;\n",
       "    }\n",
       "</style>\n",
       "<table border=\"1\" class=\"dataframe\">\n",
       "  <thead>\n",
       "    <tr style=\"text-align: right;\">\n",
       "      <th></th>\n",
       "      <th>actual</th>\n",
       "      <th>predicted</th>\n",
       "      <th>TP</th>\n",
       "      <th>TN</th>\n",
       "      <th>FP</th>\n",
       "      <th>FN</th>\n",
       "    </tr>\n",
       "  </thead>\n",
       "  <tbody>\n",
       "    <tr>\n",
       "      <th>1</th>\n",
       "      <td>0</td>\n",
       "      <td>1</td>\n",
       "      <td>0</td>\n",
       "      <td>0</td>\n",
       "      <td>1</td>\n",
       "      <td>0</td>\n",
       "    </tr>\n",
       "  </tbody>\n",
       "</table>\n",
       "</div>"
      ],
      "text/plain": [
       "   actual  predicted  TP  TN  FP  FN\n",
       "1       0          1   0   0   1   0"
      ]
     },
     "metadata": {},
     "output_type": "display_data"
    }
   ],
   "source": [
    "tn = v1_metrics.loc[v1_metrics['TN'] == 1][:1]\n",
    "display(tn)\n",
    "tp = v1_metrics.loc[v1_metrics['TP'] == 1][:1]\n",
    "display(tp)\n",
    "fn = v1_metrics.loc[v1_metrics['FN'] == 1][:1]\n",
    "display(fn)\n",
    "fp = v1_metrics.loc[v1_metrics['FP'] == 1][:1]\n",
    "display(fp)"
   ]
  },
  {
   "cell_type": "code",
   "execution_count": 5,
   "metadata": {},
   "outputs": [
    {
     "data": {
      "text/html": [
       "<div>\n",
       "<style scoped>\n",
       "    .dataframe tbody tr th:only-of-type {\n",
       "        vertical-align: middle;\n",
       "    }\n",
       "\n",
       "    .dataframe tbody tr th {\n",
       "        vertical-align: top;\n",
       "    }\n",
       "\n",
       "    .dataframe thead th {\n",
       "        text-align: right;\n",
       "    }\n",
       "</style>\n",
       "<table border=\"1\" class=\"dataframe\">\n",
       "  <thead>\n",
       "    <tr style=\"text-align: right;\">\n",
       "      <th></th>\n",
       "      <th>metric</th>\n",
       "      <th>manual</th>\n",
       "      <th>sklearn</th>\n",
       "      <th>tensorflow</th>\n",
       "      <th>torch</th>\n",
       "    </tr>\n",
       "  </thead>\n",
       "  <tbody>\n",
       "    <tr>\n",
       "      <th>0</th>\n",
       "      <td>accuracy</td>\n",
       "      <td>0.048605</td>\n",
       "      <td>0.048605</td>\n",
       "      <td>0.048605</td>\n",
       "      <td>0.048605</td>\n",
       "    </tr>\n",
       "    <tr>\n",
       "      <th>1</th>\n",
       "      <td>precision</td>\n",
       "      <td>0.046512</td>\n",
       "      <td>0.046512</td>\n",
       "      <td>0.046512</td>\n",
       "      <td>0.046512</td>\n",
       "    </tr>\n",
       "    <tr>\n",
       "      <th>2</th>\n",
       "      <td>recall</td>\n",
       "      <td>0.046502</td>\n",
       "      <td>0.046502</td>\n",
       "      <td>0.046502</td>\n",
       "      <td>0.046502</td>\n",
       "    </tr>\n",
       "    <tr>\n",
       "      <th>3</th>\n",
       "      <td>f1_score</td>\n",
       "      <td>0.046507</td>\n",
       "      <td>0.046507</td>\n",
       "      <td>0.046507</td>\n",
       "      <td>0.046507</td>\n",
       "    </tr>\n",
       "  </tbody>\n",
       "</table>\n",
       "</div>"
      ],
      "text/plain": [
       "      metric    manual   sklearn  tensorflow     torch\n",
       "0   accuracy  0.048605  0.048605    0.048605  0.048605\n",
       "1  precision  0.046512  0.046512    0.046512  0.046512\n",
       "2     recall  0.046502  0.046502    0.046502  0.046502\n",
       "3   f1_score  0.046507  0.046507    0.046507  0.046507"
      ]
     },
     "execution_count": 5,
     "metadata": {},
     "output_type": "execute_result"
    }
   ],
   "source": [
    "TP = np.sum(TP)\n",
    "TN = np.sum(TN)\n",
    "FP = np.sum(FP)\n",
    "FN = np.sum(FN)\n",
    "\n",
    "# manual\n",
    "accuracy_mn = (TP+TN)/(TP+TN+FP+FN)\n",
    "precision_mn = (TP)/(TP+FP)\n",
    "recall_mn = TP/(TP+FN)\n",
    "f1_score_mn = 2*(precision_mn*recall_mn)/(precision_mn+recall_mn)\n",
    "specificity_mn = TN/(TN+FP)\n",
    "\n",
    "# sklearn\n",
    "accuracy_skl = accuracy_score(v1_df['actual'], v1_df['predicted'])\n",
    "precision_skl = precision_score(v1_df['actual'], v1_df['predicted'])\n",
    "recall_skl = recall_score(v1_df['actual'], v1_df['predicted'])\n",
    "f1_score_skl = f1_score(v1_df['actual'], v1_df['predicted'])\n",
    "\n",
    "# tensorflow\n",
    "accuracy = tf.keras.metrics.Accuracy()\n",
    "accuracy.update_state(v1_df['actual'], v1_df['predicted'])\n",
    "accuracy_tf = accuracy.result().numpy()\n",
    "\n",
    "precision = tf.keras.metrics.Precision()\n",
    "precision.update_state(v1_df['actual'], v1_df['predicted'])\n",
    "precision_tf = precision.result().numpy()\n",
    "\n",
    "recall = tf.keras.metrics.Recall()\n",
    "recall.update_state(v1_df['actual'], v1_df['predicted'])\n",
    "recall_tf = recall.result().numpy()\n",
    "\n",
    "f1_score_TF = 2 * (precision_tf * recall_tf) / (precision_tf + recall_tf)\n",
    "\n",
    "\n",
    "# torch\n",
    "y_actual_tensor = torch.tensor(v1_df['actual'].values)\n",
    "y_predic_tensor = torch.tensor(v1_df['predicted'].values)\n",
    "\n",
    "TP_torch = ((y_actual_tensor == 1) & (y_predic_tensor == 1)).sum().item()\n",
    "TN_torch = ((y_actual_tensor == 0) & (y_predic_tensor == 0)).sum().item()\n",
    "FP_torch = ((y_actual_tensor == 0) & (y_predic_tensor == 1)).sum().item()\n",
    "FN_torch = ((y_actual_tensor == 1) & (y_predic_tensor == 0)).sum().item()\n",
    "\n",
    "accuracy_torch = (TP_torch + TN_torch) / (TP_torch + TN_torch + FP_torch + FN_torch)\n",
    "precision_torch = TP_torch / (TP_torch + FP_torch) if (TP_torch + FP_torch) > 0 else 0\n",
    "recall_torch = TP_torch / (TP_torch + FN_torch) if (TP_torch + FN_torch) > 0 else 0\n",
    "f1_score_torch = 2 * (precision_torch * recall_torch) / (precision_torch + recall_torch) if (precision_torch + recall_torch) > 0 else 0\n",
    "\n",
    "\n",
    "compareResults = \\\n",
    "    pd.DataFrame(\n",
    "    {\n",
    "     \"metric\": [\"accuracy\", \"precision\", \"recall\", \"f1_score\"],\n",
    "     \"manual\": [accuracy_mn, precision_mn, recall_mn, f1_score_mn],\n",
    "     \"sklearn\": [accuracy_skl, precision_skl, recall_skl, f1_score_skl],\n",
    "     \"tensorflow\": [accuracy_tf, precision_tf, recall_tf, f1_score_TF],\n",
    "     \"torch\": [accuracy_torch, precision_torch, recall_torch, f1_score_torch]\n",
    "    }\n",
    "    )\n",
    "\n",
    "compareResults"
   ]
  },
  {
   "cell_type": "markdown",
   "metadata": {},
   "source": [
    "### For binomial-classification-v2.csv (V2)"
   ]
  },
  {
   "cell_type": "code",
   "execution_count": 6,
   "metadata": {},
   "outputs": [
    {
     "name": "stdout",
     "output_type": "stream",
     "text": [
      "   actual  predicted\n",
      "0       0          0\n",
      "1       0          0\n",
      "2       0          0\n",
      "3       0          0\n",
      "4       0          0\n"
     ]
    },
    {
     "data": {
      "text/html": [
       "<div>\n",
       "<style scoped>\n",
       "    .dataframe tbody tr th:only-of-type {\n",
       "        vertical-align: middle;\n",
       "    }\n",
       "\n",
       "    .dataframe tbody tr th {\n",
       "        vertical-align: top;\n",
       "    }\n",
       "\n",
       "    .dataframe thead th {\n",
       "        text-align: right;\n",
       "    }\n",
       "</style>\n",
       "<table border=\"1\" class=\"dataframe\">\n",
       "  <thead>\n",
       "    <tr style=\"text-align: right;\">\n",
       "      <th></th>\n",
       "      <th>actual</th>\n",
       "      <th>predicted</th>\n",
       "      <th>TP</th>\n",
       "      <th>TN</th>\n",
       "      <th>FP</th>\n",
       "      <th>FN</th>\n",
       "    </tr>\n",
       "  </thead>\n",
       "  <tbody>\n",
       "    <tr>\n",
       "      <th>0</th>\n",
       "      <td>0</td>\n",
       "      <td>0</td>\n",
       "      <td>0</td>\n",
       "      <td>1</td>\n",
       "      <td>0</td>\n",
       "      <td>0</td>\n",
       "    </tr>\n",
       "    <tr>\n",
       "      <th>1</th>\n",
       "      <td>0</td>\n",
       "      <td>0</td>\n",
       "      <td>0</td>\n",
       "      <td>1</td>\n",
       "      <td>0</td>\n",
       "      <td>0</td>\n",
       "    </tr>\n",
       "    <tr>\n",
       "      <th>2</th>\n",
       "      <td>0</td>\n",
       "      <td>0</td>\n",
       "      <td>0</td>\n",
       "      <td>1</td>\n",
       "      <td>0</td>\n",
       "      <td>0</td>\n",
       "    </tr>\n",
       "    <tr>\n",
       "      <th>3</th>\n",
       "      <td>0</td>\n",
       "      <td>0</td>\n",
       "      <td>0</td>\n",
       "      <td>1</td>\n",
       "      <td>0</td>\n",
       "      <td>0</td>\n",
       "    </tr>\n",
       "    <tr>\n",
       "      <th>4</th>\n",
       "      <td>0</td>\n",
       "      <td>0</td>\n",
       "      <td>0</td>\n",
       "      <td>1</td>\n",
       "      <td>0</td>\n",
       "      <td>0</td>\n",
       "    </tr>\n",
       "  </tbody>\n",
       "</table>\n",
       "</div>"
      ],
      "text/plain": [
       "   actual  predicted  TP  TN  FP  FN\n",
       "0       0          0   0   1   0   0\n",
       "1       0          0   0   1   0   0\n",
       "2       0          0   0   1   0   0\n",
       "3       0          0   0   1   0   0\n",
       "4       0          0   0   1   0   0"
      ]
     },
     "metadata": {},
     "output_type": "display_data"
    }
   ],
   "source": [
    "v2_df = pd.read_csv('Data/binomial-classification-v2.csv')\n",
    "v2_df = v2_df[['actual', 'predicted']]\n",
    "\n",
    "print(v2_df.head())\n",
    "\n",
    "v2_metrics, TP, TN, FP, FN = compute_metrics(v2_df['actual'], v2_df['predicted'])\n",
    "display(v2_metrics.head())"
   ]
  },
  {
   "cell_type": "code",
   "execution_count": 7,
   "metadata": {},
   "outputs": [
    {
     "data": {
      "text/html": [
       "<div>\n",
       "<style scoped>\n",
       "    .dataframe tbody tr th:only-of-type {\n",
       "        vertical-align: middle;\n",
       "    }\n",
       "\n",
       "    .dataframe tbody tr th {\n",
       "        vertical-align: top;\n",
       "    }\n",
       "\n",
       "    .dataframe thead th {\n",
       "        text-align: right;\n",
       "    }\n",
       "</style>\n",
       "<table border=\"1\" class=\"dataframe\">\n",
       "  <thead>\n",
       "    <tr style=\"text-align: right;\">\n",
       "      <th></th>\n",
       "      <th>actual</th>\n",
       "      <th>predicted</th>\n",
       "      <th>TP</th>\n",
       "      <th>TN</th>\n",
       "      <th>FP</th>\n",
       "      <th>FN</th>\n",
       "    </tr>\n",
       "  </thead>\n",
       "  <tbody>\n",
       "    <tr>\n",
       "      <th>0</th>\n",
       "      <td>0</td>\n",
       "      <td>0</td>\n",
       "      <td>0</td>\n",
       "      <td>1</td>\n",
       "      <td>0</td>\n",
       "      <td>0</td>\n",
       "    </tr>\n",
       "  </tbody>\n",
       "</table>\n",
       "</div>"
      ],
      "text/plain": [
       "   actual  predicted  TP  TN  FP  FN\n",
       "0       0          0   0   1   0   0"
      ]
     },
     "metadata": {},
     "output_type": "display_data"
    },
    {
     "data": {
      "text/html": [
       "<div>\n",
       "<style scoped>\n",
       "    .dataframe tbody tr th:only-of-type {\n",
       "        vertical-align: middle;\n",
       "    }\n",
       "\n",
       "    .dataframe tbody tr th {\n",
       "        vertical-align: top;\n",
       "    }\n",
       "\n",
       "    .dataframe thead th {\n",
       "        text-align: right;\n",
       "    }\n",
       "</style>\n",
       "<table border=\"1\" class=\"dataframe\">\n",
       "  <thead>\n",
       "    <tr style=\"text-align: right;\">\n",
       "      <th></th>\n",
       "      <th>actual</th>\n",
       "      <th>predicted</th>\n",
       "      <th>TP</th>\n",
       "      <th>TN</th>\n",
       "      <th>FP</th>\n",
       "      <th>FN</th>\n",
       "    </tr>\n",
       "  </thead>\n",
       "  <tbody>\n",
       "    <tr>\n",
       "      <th>11</th>\n",
       "      <td>1</td>\n",
       "      <td>1</td>\n",
       "      <td>1</td>\n",
       "      <td>0</td>\n",
       "      <td>0</td>\n",
       "      <td>0</td>\n",
       "    </tr>\n",
       "  </tbody>\n",
       "</table>\n",
       "</div>"
      ],
      "text/plain": [
       "    actual  predicted  TP  TN  FP  FN\n",
       "11       1          1   1   0   0   0"
      ]
     },
     "metadata": {},
     "output_type": "display_data"
    },
    {
     "data": {
      "text/html": [
       "<div>\n",
       "<style scoped>\n",
       "    .dataframe tbody tr th:only-of-type {\n",
       "        vertical-align: middle;\n",
       "    }\n",
       "\n",
       "    .dataframe tbody tr th {\n",
       "        vertical-align: top;\n",
       "    }\n",
       "\n",
       "    .dataframe thead th {\n",
       "        text-align: right;\n",
       "    }\n",
       "</style>\n",
       "<table border=\"1\" class=\"dataframe\">\n",
       "  <thead>\n",
       "    <tr style=\"text-align: right;\">\n",
       "      <th></th>\n",
       "      <th>actual</th>\n",
       "      <th>predicted</th>\n",
       "      <th>TP</th>\n",
       "      <th>TN</th>\n",
       "      <th>FP</th>\n",
       "      <th>FN</th>\n",
       "    </tr>\n",
       "  </thead>\n",
       "  <tbody>\n",
       "    <tr>\n",
       "      <th>10</th>\n",
       "      <td>1</td>\n",
       "      <td>0</td>\n",
       "      <td>0</td>\n",
       "      <td>0</td>\n",
       "      <td>0</td>\n",
       "      <td>1</td>\n",
       "    </tr>\n",
       "  </tbody>\n",
       "</table>\n",
       "</div>"
      ],
      "text/plain": [
       "    actual  predicted  TP  TN  FP  FN\n",
       "10       1          0   0   0   0   1"
      ]
     },
     "metadata": {},
     "output_type": "display_data"
    },
    {
     "data": {
      "text/html": [
       "<div>\n",
       "<style scoped>\n",
       "    .dataframe tbody tr th:only-of-type {\n",
       "        vertical-align: middle;\n",
       "    }\n",
       "\n",
       "    .dataframe tbody tr th {\n",
       "        vertical-align: top;\n",
       "    }\n",
       "\n",
       "    .dataframe thead th {\n",
       "        text-align: right;\n",
       "    }\n",
       "</style>\n",
       "<table border=\"1\" class=\"dataframe\">\n",
       "  <thead>\n",
       "    <tr style=\"text-align: right;\">\n",
       "      <th></th>\n",
       "      <th>actual</th>\n",
       "      <th>predicted</th>\n",
       "      <th>TP</th>\n",
       "      <th>TN</th>\n",
       "      <th>FP</th>\n",
       "      <th>FN</th>\n",
       "    </tr>\n",
       "  </thead>\n",
       "  <tbody>\n",
       "    <tr>\n",
       "      <th>79</th>\n",
       "      <td>0</td>\n",
       "      <td>1</td>\n",
       "      <td>0</td>\n",
       "      <td>0</td>\n",
       "      <td>1</td>\n",
       "      <td>0</td>\n",
       "    </tr>\n",
       "  </tbody>\n",
       "</table>\n",
       "</div>"
      ],
      "text/plain": [
       "    actual  predicted  TP  TN  FP  FN\n",
       "79       0          1   0   0   1   0"
      ]
     },
     "metadata": {},
     "output_type": "display_data"
    }
   ],
   "source": [
    "tn = v2_metrics.loc[v2_metrics['TN'] == 1][:1]\n",
    "display(tn)\n",
    "tp = v2_metrics.loc[v2_metrics['TP'] == 1][:1]\n",
    "display(tp)\n",
    "fn = v2_metrics.loc[v2_metrics['FN'] == 1][:1]\n",
    "display(fn)\n",
    "fp = v2_metrics.loc[v2_metrics['FP'] == 1][:1]\n",
    "display(fp)"
   ]
  },
  {
   "cell_type": "code",
   "execution_count": 8,
   "metadata": {},
   "outputs": [
    {
     "data": {
      "text/html": [
       "<div>\n",
       "<style scoped>\n",
       "    .dataframe tbody tr th:only-of-type {\n",
       "        vertical-align: middle;\n",
       "    }\n",
       "\n",
       "    .dataframe tbody tr th {\n",
       "        vertical-align: top;\n",
       "    }\n",
       "\n",
       "    .dataframe thead th {\n",
       "        text-align: right;\n",
       "    }\n",
       "</style>\n",
       "<table border=\"1\" class=\"dataframe\">\n",
       "  <thead>\n",
       "    <tr style=\"text-align: right;\">\n",
       "      <th></th>\n",
       "      <th>metric</th>\n",
       "      <th>manual</th>\n",
       "      <th>sklearn</th>\n",
       "      <th>tensorflow</th>\n",
       "      <th>torch</th>\n",
       "    </tr>\n",
       "  </thead>\n",
       "  <tbody>\n",
       "    <tr>\n",
       "      <th>0</th>\n",
       "      <td>accuracy</td>\n",
       "      <td>0.948495</td>\n",
       "      <td>0.948495</td>\n",
       "      <td>0.948495</td>\n",
       "      <td>0.948495</td>\n",
       "    </tr>\n",
       "    <tr>\n",
       "      <th>1</th>\n",
       "      <td>precision</td>\n",
       "      <td>0.948876</td>\n",
       "      <td>0.948876</td>\n",
       "      <td>0.948876</td>\n",
       "      <td>0.948876</td>\n",
       "    </tr>\n",
       "    <tr>\n",
       "      <th>2</th>\n",
       "      <td>recall</td>\n",
       "      <td>0.948687</td>\n",
       "      <td>0.948687</td>\n",
       "      <td>0.948687</td>\n",
       "      <td>0.948687</td>\n",
       "    </tr>\n",
       "    <tr>\n",
       "      <th>3</th>\n",
       "      <td>f1_score</td>\n",
       "      <td>0.948782</td>\n",
       "      <td>0.948782</td>\n",
       "      <td>0.948782</td>\n",
       "      <td>0.948782</td>\n",
       "    </tr>\n",
       "  </tbody>\n",
       "</table>\n",
       "</div>"
      ],
      "text/plain": [
       "      metric    manual   sklearn  tensorflow     torch\n",
       "0   accuracy  0.948495  0.948495    0.948495  0.948495\n",
       "1  precision  0.948876  0.948876    0.948876  0.948876\n",
       "2     recall  0.948687  0.948687    0.948687  0.948687\n",
       "3   f1_score  0.948782  0.948782    0.948782  0.948782"
      ]
     },
     "execution_count": 8,
     "metadata": {},
     "output_type": "execute_result"
    }
   ],
   "source": [
    "TP = np.sum(TP)\n",
    "TN = np.sum(TN)\n",
    "FP = np.sum(FP)\n",
    "FN = np.sum(FN)\n",
    "\n",
    "# manual\n",
    "accuracy_mn = (TP+TN)/(TP+TN+FP+FN)\n",
    "precision_mn = (TP)/(TP+FP)\n",
    "recall_mn = TP/(TP+FN)\n",
    "f1_score_mn = 2*(precision_mn*recall_mn)/(precision_mn+recall_mn)\n",
    "specificity_mn = TN/(TN+FP)\n",
    "\n",
    "# sklearn\n",
    "accuracy_skl = accuracy_score(v2_df['actual'], v2_df['predicted'])\n",
    "precision_skl = precision_score(v2_df['actual'], v2_df['predicted'])\n",
    "recall_skl = recall_score(v2_df['actual'], v2_df['predicted'])\n",
    "f1_score_skl = f1_score(v2_df['actual'], v2_df['predicted'])\n",
    "\n",
    "# tensorflow\n",
    "accuracy = tf.keras.metrics.Accuracy()\n",
    "accuracy.update_state(v2_df['actual'], v2_df['predicted'])\n",
    "accuracy_tf = accuracy.result().numpy()\n",
    "\n",
    "precision = tf.keras.metrics.Precision()\n",
    "precision.update_state(v2_df['actual'], v2_df['predicted'])\n",
    "precision_tf = precision.result().numpy()\n",
    "\n",
    "recall = tf.keras.metrics.Recall()\n",
    "recall.update_state(v2_df['actual'], v2_df['predicted'])\n",
    "recall_tf = recall.result().numpy()\n",
    "\n",
    "f1_score_TF = 2 * (precision_tf * recall_tf) / (precision_tf + recall_tf)\n",
    "\n",
    "#torch\n",
    "y_true_tensor = torch.tensor(v2_df['actual'].values)\n",
    "y_pred_tensor = torch.tensor(v2_df['predicted'].values)\n",
    "\n",
    "TP_torch = ((y_true_tensor == 1) & (y_pred_tensor == 1)).sum().item()\n",
    "TN_torch = ((y_true_tensor == 0) & (y_pred_tensor == 0)).sum().item()\n",
    "FP_torch = ((y_true_tensor == 0) & (y_pred_tensor == 1)).sum().item()\n",
    "FN_torch = ((y_true_tensor == 1) & (y_pred_tensor == 0)).sum().item()\n",
    "\n",
    "accuracy_torch = (TP_torch + TN_torch) / (TP_torch + TN_torch + FP_torch + FN_torch)\n",
    "precision_torch = TP_torch / (TP_torch + FP_torch) if (TP_torch + FP_torch) > 0 else 0\n",
    "recall_torch = TP_torch / (TP_torch + FN_torch) if (TP_torch + FN_torch) > 0 else 0\n",
    "f1_score_torch = 2 * (precision_torch * recall_torch) / (precision_torch + recall_torch) if (precision_torch + recall_torch) > 0 else 0\n",
    "\n",
    "# Final comparison\n",
    "compareResults = pd.DataFrame({\n",
    "    \"metric\": [\"accuracy\", \"precision\", \"recall\", \"f1_score\"],\n",
    "    \"manual\": [accuracy_mn, precision_mn, recall_mn, f1_score_mn],\n",
    "    \"sklearn\": [accuracy_skl, precision_skl, recall_skl, f1_score_skl],\n",
    "    \"tensorflow\": [accuracy_tf, precision_tf, recall_tf, f1_score_TF],\n",
    "    \"torch\": [accuracy_torch, precision_torch, recall_torch, f1_score_torch]\n",
    "})\n",
    "\n",
    "compareResults"
   ]
  },
  {
   "cell_type": "markdown",
   "metadata": {},
   "source": [
    "## __Question 02__\n",
    "Dataset ``binomial-classification-v3.csv`` contain actuals and probability prediction values from a binomial response variable.\n",
    "\n",
    "1. Manually compute the ``log loss``\n",
    "2. Compute the ``log loss`` using ``sklearn``, ``tensorflow``, and ``torch``\n",
    "3. Show the values matching across all three computing approaches"
   ]
  },
  {
   "cell_type": "code",
   "execution_count": 9,
   "metadata": {},
   "outputs": [],
   "source": [
    "# Load the dataset\n",
    "df = pd.read_csv('Data/binomial-classification-v3.csv')\n",
    "\n",
    "y_true = df['y1'].values\n",
    "y_pred = df['p1'].values"
   ]
  },
  {
   "cell_type": "code",
   "execution_count": 10,
   "metadata": {},
   "outputs": [
    {
     "name": "stdout",
     "output_type": "stream",
     "text": [
      "Manual Log Loss: 0.31998196154710273\n"
     ]
    }
   ],
   "source": [
    "# Manual computation of log loss\n",
    "def manual_log_loss(y_true, y_pred):\n",
    "    epsilon = 1e-15  # To avoid log(0)\n",
    "    y_pred = np.clip(y_pred, epsilon, 1 - epsilon)\n",
    "    return -np.mean(y_true * np.log(y_pred) + (1 - y_true) * np.log(1 - y_pred))\n",
    "\n",
    "manual_result = manual_log_loss(y_true, y_pred)\n",
    "print(f\"Manual Log Loss: {manual_result}\")"
   ]
  },
  {
   "cell_type": "code",
   "execution_count": 11,
   "metadata": {},
   "outputs": [
    {
     "name": "stdout",
     "output_type": "stream",
     "text": [
      "Sklearn Log Loss: 0.31998196154710273\n"
     ]
    }
   ],
   "source": [
    "# Sklearn log loss\n",
    "sklearn_result = log_loss(y_true, y_pred)\n",
    "print(f\"Sklearn Log Loss: {sklearn_result}\")"
   ]
  },
  {
   "cell_type": "code",
   "execution_count": 12,
   "metadata": {},
   "outputs": [
    {
     "name": "stdout",
     "output_type": "stream",
     "text": [
      "TensorFlow Log Loss: 0.3199819326400757\n"
     ]
    }
   ],
   "source": [
    "# TensorFlow log loss\n",
    "y_true_tf = tf.constant(y_true, dtype=tf.float32)\n",
    "y_pred_tf = tf.constant(y_pred, dtype=tf.float32)\n",
    "\n",
    "loss_fn = tf.keras.losses.BinaryCrossentropy()\n",
    "tf_result = loss_fn(y_true_tf, y_pred_tf).numpy()\n",
    "print(f\"TensorFlow Log Loss: {tf_result}\")"
   ]
  },
  {
   "cell_type": "code",
   "execution_count": 13,
   "metadata": {},
   "outputs": [
    {
     "name": "stdout",
     "output_type": "stream",
     "text": [
      "PyTorch Log Loss: 0.3199819326400757\n"
     ]
    }
   ],
   "source": [
    "# PyTorch log loss\n",
    "y_true_torch = torch.tensor(y_true, dtype=torch.float32)\n",
    "y_pred_torch = torch.tensor(y_pred, dtype=torch.float32)\n",
    "\n",
    "loss_fn_torch = torch.nn.BCELoss()\n",
    "torch_result = loss_fn_torch(y_pred_torch, y_true_torch).item()\n",
    "print(f\"PyTorch Log Loss: {torch_result}\")"
   ]
  },
  {
   "cell_type": "code",
   "execution_count": 14,
   "metadata": {},
   "outputs": [
    {
     "name": "stdout",
     "output_type": "stream",
     "text": [
      "All values match across manual, sklearn, tensorflow, and torch.\n"
     ]
    },
    {
     "data": {
      "text/html": [
       "<div>\n",
       "<style scoped>\n",
       "    .dataframe tbody tr th:only-of-type {\n",
       "        vertical-align: middle;\n",
       "    }\n",
       "\n",
       "    .dataframe tbody tr th {\n",
       "        vertical-align: top;\n",
       "    }\n",
       "\n",
       "    .dataframe thead th {\n",
       "        text-align: right;\n",
       "    }\n",
       "</style>\n",
       "<table border=\"1\" class=\"dataframe\">\n",
       "  <thead>\n",
       "    <tr style=\"text-align: right;\">\n",
       "      <th></th>\n",
       "      <th>Method</th>\n",
       "      <th>Log Loss</th>\n",
       "    </tr>\n",
       "  </thead>\n",
       "  <tbody>\n",
       "    <tr>\n",
       "      <th>0</th>\n",
       "      <td>Manual</td>\n",
       "      <td>0.319982</td>\n",
       "    </tr>\n",
       "    <tr>\n",
       "      <th>1</th>\n",
       "      <td>Sklearn</td>\n",
       "      <td>0.319982</td>\n",
       "    </tr>\n",
       "    <tr>\n",
       "      <th>2</th>\n",
       "      <td>TensorFlow</td>\n",
       "      <td>0.319982</td>\n",
       "    </tr>\n",
       "    <tr>\n",
       "      <th>3</th>\n",
       "      <td>PyTorch</td>\n",
       "      <td>0.319982</td>\n",
       "    </tr>\n",
       "  </tbody>\n",
       "</table>\n",
       "</div>"
      ],
      "text/plain": [
       "       Method  Log Loss\n",
       "0      Manual  0.319982\n",
       "1     Sklearn  0.319982\n",
       "2  TensorFlow  0.319982\n",
       "3     PyTorch  0.319982"
      ]
     },
     "metadata": {},
     "output_type": "display_data"
    }
   ],
   "source": [
    "# Verify all results match\n",
    "assert np.isclose(manual_result, sklearn_result, atol=1e-6), \"Manual and Sklearn results do not match.\"\n",
    "assert np.isclose(manual_result, tf_result, atol=1e-6), \"Manual and TensorFlow results do not match.\"\n",
    "assert np.isclose(manual_result, torch_result, atol=1e-6), \"Manual and PyTorch results do not match.\"\n",
    "\n",
    "# Create a table to display the results\n",
    "results_table = pd.DataFrame({\n",
    "    \"Method\": [\"Manual\", \"Sklearn\", \"TensorFlow\", \"PyTorch\"],\n",
    "    \"Log Loss\": [manual_result, sklearn_result, tf_result, torch_result]\n",
    "})\n",
    "\n",
    "print(\"All values match across manual, sklearn, tensorflow, and torch.\")\n",
    "display(results_table)"
   ]
  },
  {
   "cell_type": "markdown",
   "metadata": {},
   "source": [
    "## __Question 03__\n",
    "Dataset ``regression-v1.csv`` contains actuals and predictions from a normally distributed response variable with a varying mean but constant variance.\n",
    "\n",
    "1. Manually compute ``mean absolute error``, ``mean squared error``, ``r2``, ``explained variance score``, and ``mean absolute percentage error``\n",
    "2. Compute the metrics in item 2 using ``sklearn`` and ``tensorflow``, and ``torch``\n",
    "3. Document that the values match across all three computing approaches"
   ]
  },
  {
   "cell_type": "code",
   "execution_count": 15,
   "metadata": {},
   "outputs": [
    {
     "name": "stdout",
     "output_type": "stream",
     "text": [
      "Mean Absolute Error: 0.12176198368693504\n",
      "Mean Squared Error: 0.022933380701432377\n",
      "R-squared: 0.9074006311244875\n",
      "Explained Variance Score: 0.9075476866547145\n",
      "Mean Absolute Percentage Error: 264.1838975226423 %\n"
     ]
    }
   ],
   "source": [
    "data4 = pd.read_csv(\"Data/regression-v1.csv\")\n",
    "\n",
    "n = len(data4)\n",
    "y = data4[\"y\"]\n",
    "yh = data4[\"yhat\"]\n",
    "ybar = np.mean(y)\n",
    "mse = (1/n) * np.sum((data4[\"y\"] - data4[\"yhat\"]) ** 2)\n",
    "mae = (1/n) * np.sum(np.abs(data4[\"y\"] - data4[\"yhat\"]))\n",
    "r2 = 1 - (np.sum((data4[\"y\"] - data4[\"yhat\"])**2)) / (np.sum((data4[\"y\"] - ybar)**2))\n",
    "ev = 1-((np.var(y-yh))/(np.var(y)))\n",
    "mape = (1/n)*np.sum(np.abs((y-yh)/y))*100\n",
    "\n",
    "print(\"Mean Absolute Error:\", mae)\n",
    "print(\"Mean Squared Error:\", mse)\n",
    "print(\"R-squared:\", r2)\n",
    "print(\"Explained Variance Score:\", ev)\n",
    "print(\"Mean Absolute Percentage Error:\", mape, \"%\")"
   ]
  },
  {
   "cell_type": "code",
   "execution_count": 16,
   "metadata": {},
   "outputs": [
    {
     "name": "stdout",
     "output_type": "stream",
     "text": [
      "Using Sklearn:\n",
      "Mean Absolute Error (MAE): 0.1218\n",
      "Mean Squared Error (MSE): 0.0229\n",
      "R-squared (R²): 0.9074\n",
      "Explained Variance Score: 0.9075\n",
      "Mean Absolute Percentage Error (MAPE): 264.1839%\n",
      "\n",
      "\n",
      "Using TensorFlow:\n",
      "Mean Absolute Error (MAE): 0.1218\n",
      "Mean Squared Error (MSE): 0.0229\n",
      "R2 Score: 0.9074\n",
      "Explained Variance Score: 0.9075\n",
      "Mean Absolute Percentage Error (MAPE): 264.1839\n"
     ]
    }
   ],
   "source": [
    "# Extract actual and predicted values\n",
    "y_true = data4['y'].values\n",
    "y_pred = data4['yhat'].values\n",
    "\n",
    "# Calculate metrics using Sklearn\n",
    "mse_sklearn = mean_squared_error(y_true, y_pred)\n",
    "mae_sklearn = mean_absolute_error(y_true, y_pred)\n",
    "r2_sklearn = r2_score(y_true, y_pred)\n",
    "explained_variance_sklearn = explained_variance_score(y_true, y_pred)\n",
    "mape_sklearn = mean_absolute_percentage_error(y_true, y_pred)*100\n",
    "\n",
    "# Print Sklearn results\n",
    "print(\"Using Sklearn:\")\n",
    "print(f\"Mean Absolute Error (MAE): {mae_sklearn:.4f}\")\n",
    "print(f\"Mean Squared Error (MSE): {mse_sklearn:.4f}\")\n",
    "print(f\"R-squared (R²): {r2_sklearn:.4f}\")\n",
    "print(f\"Explained Variance Score: {explained_variance_sklearn:.4f}\")\n",
    "print(f\"Mean Absolute Percentage Error (MAPE): {mape_sklearn:.4f}%\")\n",
    "print(\"\\n\")\n",
    "\n",
    "# Calculate metrics using TensorFlow\n",
    "mae_tf = tf.reduce_mean(tf.abs(y_true - y_pred)).numpy()\n",
    "mse_tf = tf.reduce_mean(tf.square(y_true - y_pred)).numpy()\n",
    "r2_tf = r2_score(y_true, y_pred)\n",
    "explained_variance_tf = explained_variance_score(y_true, y_pred)\n",
    "mape_tf = tf.reduce_mean(tf.abs((y_true - y_pred) / y_true)*100).numpy()\n",
    "\n",
    "# Prepare results\n",
    "metrics_tf = {\n",
    "    \"Mean Absolute Error (MAE)\": mae_tf,\n",
    "    \"Mean Squared Error (MSE)\": mse_tf,\n",
    "    \"R2 Score\": r2_tf,\n",
    "    \"Explained Variance Score\": explained_variance_tf,\n",
    "    \"Mean Absolute Percentage Error (MAPE)\": mape_tf,\n",
    "}\n",
    "\n",
    "# Print TensorFlow results\n",
    "print(\"Using TensorFlow:\")\n",
    "for metric, value in metrics_tf.items():\n",
    "    print(f\"{metric}: {value:.4f}\")"
   ]
  },
  {
   "cell_type": "code",
   "execution_count": 17,
   "metadata": {},
   "outputs": [
    {
     "data": {
      "text/html": [
       "<div>\n",
       "<style scoped>\n",
       "    .dataframe tbody tr th:only-of-type {\n",
       "        vertical-align: middle;\n",
       "    }\n",
       "\n",
       "    .dataframe tbody tr th {\n",
       "        vertical-align: top;\n",
       "    }\n",
       "\n",
       "    .dataframe thead th {\n",
       "        text-align: right;\n",
       "    }\n",
       "</style>\n",
       "<table border=\"1\" class=\"dataframe\">\n",
       "  <thead>\n",
       "    <tr style=\"text-align: right;\">\n",
       "      <th></th>\n",
       "      <th>Metric</th>\n",
       "      <th>Manual</th>\n",
       "      <th>Sklearn</th>\n",
       "      <th>TensorFlow</th>\n",
       "    </tr>\n",
       "  </thead>\n",
       "  <tbody>\n",
       "    <tr>\n",
       "      <th>0</th>\n",
       "      <td>Mean Absolute Error</td>\n",
       "      <td>0.121762</td>\n",
       "      <td>0.121762</td>\n",
       "      <td>0.121762</td>\n",
       "    </tr>\n",
       "    <tr>\n",
       "      <th>1</th>\n",
       "      <td>Mean Squared Error</td>\n",
       "      <td>0.022933</td>\n",
       "      <td>0.022933</td>\n",
       "      <td>0.022933</td>\n",
       "    </tr>\n",
       "    <tr>\n",
       "      <th>2</th>\n",
       "      <td>R2 Score</td>\n",
       "      <td>0.907401</td>\n",
       "      <td>0.907401</td>\n",
       "      <td>0.907401</td>\n",
       "    </tr>\n",
       "    <tr>\n",
       "      <th>3</th>\n",
       "      <td>Explained Variance Score</td>\n",
       "      <td>0.907548</td>\n",
       "      <td>0.907548</td>\n",
       "      <td>0.907548</td>\n",
       "    </tr>\n",
       "    <tr>\n",
       "      <th>4</th>\n",
       "      <td>Mean Absolute Percentage Error</td>\n",
       "      <td>264.183898</td>\n",
       "      <td>264.183898</td>\n",
       "      <td>264.183898</td>\n",
       "    </tr>\n",
       "  </tbody>\n",
       "</table>\n",
       "</div>"
      ],
      "text/plain": [
       "                           Metric      Manual     Sklearn  TensorFlow\n",
       "0             Mean Absolute Error    0.121762    0.121762    0.121762\n",
       "1              Mean Squared Error    0.022933    0.022933    0.022933\n",
       "2                        R2 Score    0.907401    0.907401    0.907401\n",
       "3        Explained Variance Score    0.907548    0.907548    0.907548\n",
       "4  Mean Absolute Percentage Error  264.183898  264.183898  264.183898"
      ]
     },
     "metadata": {},
     "output_type": "display_data"
    }
   ],
   "source": [
    "# Create a DataFrame to compare results\n",
    "comparison_table = pd.DataFrame({\n",
    "    \"Metric\": [\"Mean Absolute Error\", \"Mean Squared Error\", \"R2 Score\", \"Explained Variance Score\", \"Mean Absolute Percentage Error\"],\n",
    "    \"Manual\": [mae, mse, r2, ev, mape],\n",
    "    \"Sklearn\": [mae_sklearn, mse_sklearn, r2_sklearn, explained_variance_sklearn, mape_sklearn],\n",
    "    \"TensorFlow\": [mae_tf, mse_tf, r2_tf, explained_variance_tf, mape_tf]\n",
    "})\n",
    "\n",
    "# Display the table\n",
    "display(comparison_table)"
   ]
  },
  {
   "cell_type": "markdown",
   "metadata": {},
   "source": [
    "## __Question 04__\n",
    "Dataset ``multinomial-classification-v1.csv`` contains actuals and predictions for a multinomial response variable. Manually compute the performance and check that it matches in sklearn, tensorflow, and torch.\n",
    "\n",
    "Helper functions and other code modified from ``0001-01-02-01_performance-metrics_lecture.html``"
   ]
  },
  {
   "cell_type": "code",
   "execution_count": 18,
   "metadata": {},
   "outputs": [],
   "source": [
    "multinom1 = pd.read_csv('Data/multinomial-classification-v1.csv')"
   ]
  },
  {
   "cell_type": "code",
   "execution_count": 19,
   "metadata": {},
   "outputs": [],
   "source": [
    "actuals = multinom1[['y1', 'y2', 'y3']].to_numpy()\n",
    "predictions = multinom1[['p1', 'p2', 'p3']].to_numpy()\n",
    "num_classes = predictions.shape[1]\n",
    "\n",
    "actuals_pt = torch.tensor(actuals).clone().detach()\n",
    "predictions_pt = torch.tensor(predictions).clone().detach()\n",
    "\n",
    "actuals_tf = tf.convert_to_tensor(actuals, dtype=tf.float32)\n",
    "predictions_tf = tf.convert_to_tensor(predictions, dtype=tf.float32)"
   ]
  },
  {
   "cell_type": "markdown",
   "metadata": {},
   "source": [
    "### Accuracy By Category"
   ]
  },
  {
   "cell_type": "code",
   "execution_count": 20,
   "metadata": {},
   "outputs": [],
   "source": [
    "# Corrected Manual Accuracy per Class Calculation\n",
    "def accuracy_per_class(y_true, y_pred):\n",
    "    \"\"\"\n",
    "    Computes accuracy per class (class-wise accuracy) based on thresholded predictions.\n",
    "    \"\"\"\n",
    "    return np.array([np.mean(y_true[:, i] == np.round(y_pred[:, i])) for i in range(y_true.shape[1])])"
   ]
  },
  {
   "cell_type": "code",
   "execution_count": 21,
   "metadata": {},
   "outputs": [
    {
     "name": "stdout",
     "output_type": "stream",
     "text": [
      "Manually computed Accuracies by Category: [0.867, 0.871, 0.857]\n",
      "Scikit-learn Accuracies by Category     : [0.867, 0.871, 0.857]\n",
      "PyTorch Accuracies by Category          : [0.867, 0.871, 0.857]\n",
      "TensorFlow Accuracies by Category       : [0.867, 0.871, 0.857]\n"
     ]
    }
   ],
   "source": [
    "acc_per_class = accuracy_per_class(actuals, predictions)\n",
    "print(f\"Manually computed Accuracies by Category: {acc_per_class.tolist()}\")\n",
    "\n",
    "accuracies_sklearn = [accuracy_score(actuals[:, i], predictions[:, i].round()) for i in range(num_classes)]\n",
    "print(f\"Scikit-learn Accuracies by Category     : {accuracies_sklearn}\")\n",
    "\n",
    "accuracies_pt = []\n",
    "for i in range(num_classes):\n",
    "    # predicted_i >= 0.5 => predicted as \"1\" for class i\n",
    "    pred_binary = (predictions_pt[:, i] >= 0.5).float()\n",
    "    # actuals[:, i] is 1 or 0 if truly one-hot\n",
    "    acc_i = (pred_binary == actuals_pt[:, i]).float().mean()\n",
    "    accuracies_pt.append(acc_i.item())\n",
    "rounded_accuracies_pt = [round(acc, 4) for acc in accuracies_pt]\n",
    "print(f\"PyTorch Accuracies by Category          : {rounded_accuracies_pt}\")\n",
    "\n",
    "accuracies_tf = []\n",
    "for i in range(num_classes):\n",
    "    pred_binary = tf.cast(predictions_tf[:, i] >= 0.5, tf.float32)\n",
    "    acc = tf.reduce_mean(tf.cast(pred_binary == actuals_tf[:, i], tf.float32))\n",
    "    accuracies_tf.append(acc.numpy())\n",
    "converted_accuracies = [round(float(acc), 4) for acc in accuracies_tf]\n",
    "print(f\"TensorFlow Accuracies by Category       : {converted_accuracies}\")"
   ]
  },
  {
   "cell_type": "markdown",
   "metadata": {},
   "source": [
    "### Overall Accuracy"
   ]
  },
  {
   "cell_type": "code",
   "execution_count": 22,
   "metadata": {},
   "outputs": [],
   "source": [
    "# Corrected Manual Overall Accuracy\n",
    "def overall_accuracy(y_true, y_pred):\n",
    "    \"\"\"\n",
    "    Computes overall accuracy.\n",
    "    \"\"\"\n",
    "    correct = np.sum(np.argmax(y_true, axis=1) == np.argmax(y_pred, axis=1))\n",
    "    return correct / len(y_true)"
   ]
  },
  {
   "cell_type": "code",
   "execution_count": 23,
   "metadata": {},
   "outputs": [
    {
     "name": "stdout",
     "output_type": "stream",
     "text": [
      "Manually computed Overall Accuracy: 0.7940\n",
      "Scikit-learn Overall Accuracy     : 0.7940\n",
      "PyTorch Overall Accuracy          : 0.7940\n",
      "TensorFlow Overall Accuracy       : 0.7940\n"
     ]
    }
   ],
   "source": [
    "overall_acc = overall_accuracy(actuals, predictions)\n",
    "print(f\"Manually computed Overall Accuracy: {overall_acc:.4f}\")\n",
    "\n",
    "overall_accuracy_sklearn = accuracy_score(np.argmax(actuals, axis=1),\n",
    "                                          np.argmax(predictions, axis=1))\n",
    "print(f\"Scikit-learn Overall Accuracy     : {overall_accuracy_sklearn:.4f}\")\n",
    "\n",
    "pred_labels = predictions_pt.argmax(dim=1)\n",
    "true_labels = actuals_pt.argmax(dim=1)\n",
    "overall_accuracy_pt = (pred_labels == true_labels).float().mean().item()\n",
    "print(f\"PyTorch Overall Accuracy          : {overall_accuracy_pt:.4f}\")\n",
    "\n",
    "y_true_labels = tf.argmax(actuals_tf, axis=1)\n",
    "y_pred_labels = tf.argmax(predictions_tf, axis=1)\n",
    "accuracy_metric = tf.keras.metrics.Accuracy()\n",
    "accuracy_metric.update_state(y_true_labels, y_pred_labels)\n",
    "overall_accuracy_tf = accuracy_metric.result().numpy()\n",
    "\n",
    "print(f\"TensorFlow Overall Accuracy       : {overall_accuracy_tf:.4f}\")"
   ]
  },
  {
   "cell_type": "markdown",
   "metadata": {},
   "source": [
    "### Log Loss"
   ]
  },
  {
   "cell_type": "code",
   "execution_count": 24,
   "metadata": {},
   "outputs": [],
   "source": [
    "# Corrected Manual Log Loss\n",
    "def log_loss(y_true, y_pred):\n",
    "    \"\"\"\n",
    "    Computes log loss for multi-class classification.\n",
    "    \"\"\"\n",
    "    epsilon = 1e-15  # Small value to avoid log(0)\n",
    "    y_pred = np.clip(y_pred, epsilon, 1 - epsilon)\n",
    "    return -np.sum(y_true * np.log(y_pred)) / len(y_true)"
   ]
  },
  {
   "cell_type": "code",
   "execution_count": 25,
   "metadata": {},
   "outputs": [
    {
     "name": "stdout",
     "output_type": "stream",
     "text": [
      "Manually computed Log Loss: 0.5372\n",
      "Scikit-learn Log Loss     : 0.5372\n",
      "PyTorch Log Loss          : 0.5372\n",
      "TensorFlow Log Loss       : 0.5372\n"
     ]
    }
   ],
   "source": [
    "log_loss_value = log_loss(actuals, predictions)\n",
    "print(f\"Manually computed Log Loss: {log_loss_value:.4f}\")\n",
    "\n",
    "log_loss_sklearn = log_loss(actuals, predictions)\n",
    "print(f\"Scikit-learn Log Loss     : {log_loss_sklearn:.4f}\")\n",
    "\n",
    "labels_int = actuals_pt.argmax(dim=1)  # shape (N,)\n",
    "predictions_clamped = predictions_pt.clamp(min=1e-7, max=1.0 - 1e-7)  # avoid log(0)\n",
    "log_loss_pt = F.nll_loss(predictions_clamped.log(), labels_int)\n",
    "print(f\"PyTorch Log Loss          : {log_loss_pt.item():.4f}\")\n",
    "\n",
    "log_loss_metric = tf.keras.losses.CategoricalCrossentropy()\n",
    "log_loss_tf = log_loss_metric(actuals, predictions).numpy()\n",
    "print(f\"TensorFlow Log Loss       : {log_loss_tf:.4f}\")"
   ]
  },
  {
   "cell_type": "markdown",
   "metadata": {},
   "source": [
    "## __Question 01 [Bonus question 10 pts]__\n",
    "Replicate Figure 7.1 from the textbook _Elements of Statistical Learning_ in Python. Reference the available R code from the repository: https://github.com/alanjeffares/elements-of-statistical-learning. While it is acceptable to use Gen AI tools to generate the Python code, you must review the generated code for correctness and disclose the Gen AI tool used. Additionally, discuss any issues encountered and highlight errors that were present in the original or generated code. The final code should successfully reproduce the chart to closely resemble the original Figure 7.1."
   ]
  },
  {
   "cell_type": "code",
   "execution_count": 26,
   "metadata": {},
   "outputs": [
    {
     "data": {
      "image/png": "[encoded data removed]",
      "text/plain": [
       "<Figure size 640x480 with 1 Axes>"
      ]
     },
     "metadata": {},
     "output_type": "display_data"
    }
   ],
   "source": [
    "# Parameters\n",
    "train_size = 50\n",
    "test_size = 1000\n",
    "N = train_size + test_size\n",
    "num_variables = 35\n",
    "num_iterations = 100\n",
    "alpha_values = np.logspace(-6, 1, 100)\n",
    "\n",
    "np.random.seed(7)\n",
    "sd_X = 1\n",
    "sd_beta = 0.145\n",
    "sd_noise = 0.45\n",
    "\n",
    "train_RSS_all = []\n",
    "test_RSS_all = []\n",
    "complexities = []\n",
    "\n",
    "plt.ylim(0, 1.2)\n",
    "plt.xlim(0, num_variables)\n",
    "plt.xlabel('Model Complexity (DF)')\n",
    "plt.ylabel('Prediction Error')\n",
    "\n",
    "#population to draw from\n",
    "beta = np.random.normal(0, sd_beta, size=(num_variables, 1))\n",
    "\n",
    "for i in range(num_iterations):\n",
    "    noise = np.random.normal(0, sd_noise, size=(N, 1))\n",
    "    X = np.random.normal(0, sd_X, size=(N, num_variables))\n",
    "    Y = X @ beta + noise\n",
    "\n",
    "    train_X = X[:train_size, :]\n",
    "    test_X = X[train_size:, :]\n",
    "    train_Y = Y[:train_size]\n",
    "    test_Y = Y[train_size:]\n",
    "\n",
    "    scaler = StandardScaler()\n",
    "    train_X = scaler.fit_transform(train_X)\n",
    "    test_X = scaler.transform(test_X)\n",
    "\n",
    "    train_RSS = []\n",
    "    test_RSS = []\n",
    "    complexity = []\n",
    "\n",
    "    #fitting Lasso for each alpha and calculate RSS\n",
    "    for alpha in alpha_values:\n",
    "        model = LassoLars(alpha=alpha, fit_intercept=False)\n",
    "        model.fit(train_X, train_Y.ravel())\n",
    "\n",
    "        train_pred = model.predict(train_X)\n",
    "        test_pred = model.predict(test_X)\n",
    "\n",
    "        train_RSS.append(mean_squared_error(train_Y, train_pred))\n",
    "        test_RSS.append(mean_squared_error(test_Y, test_pred))\n",
    "\n",
    "        complexity.append(np.sum(model.coef_ != 0))\n",
    "\n",
    "    train_RSS_all.append(train_RSS)\n",
    "    test_RSS_all.append(test_RSS)\n",
    "    complexities.append(complexity)\n",
    "\n",
    "    plt.plot(complexity, train_RSS, alpha=0.1, color=\"blue\")\n",
    "    plt.plot(complexity, test_RSS, alpha=0.1, color=\"red\")\n",
    "\n",
    "#calculating average RSS values across all iterations\n",
    "train_RSS_avg = np.mean(train_RSS_all, axis=0)\n",
    "test_RSS_avg = np.mean(test_RSS_all, axis=0)\n",
    "complexity_avg = np.mean(complexities, axis=0)\n",
    "\n",
    "#plotting averages \n",
    "plt.plot(complexity_avg, train_RSS_avg, color=\"darkblue\", linewidth=2.5)\n",
    "plt.plot(complexity_avg, test_RSS_avg, color=\"red\", linewidth=2.5)\n",
    "\n",
    "#graph annotations \n",
    "plt.text(7.15, 1.08, 'High Bias\\nLow Variance', fontsize=8, ha='center')\n",
    "plt.arrow(8.9, 1.05, -3, 0, head_width=0.02, head_length=0.6, fc='black', ec='black')\n",
    "plt.text(29.5, 1.08, 'Low Bias\\nHigh Variance', fontsize=8, ha='center')\n",
    "plt.arrow(28, 1.05, 3, 0, head_width=0.02, head_length=0.6, fc='black', ec='black')\n",
    "\n",
    "plt.show()"
   ]
  }
 ],
 "metadata": {
  "kernelspec": {
   "display_name": "Python 3 (ipykernel)",
   "language": "python",
   "name": "python3"
  },
  "language_info": {
   "codemirror_mode": {
    "name": "ipython",
    "version": 3
   },
   "file_extension": ".py",
   "mimetype": "text/x-python",
   "name": "python",
   "nbconvert_exporter": "python",
   "pygments_lexer": "ipython3",
   "version": "3.12.4"
  }
 },
 "nbformat": 4,
 "nbformat_minor": 4
}
