{
 "cells": [
  {
   "cell_type": "code",
   "execution_count": 1,
   "metadata": {},
   "outputs": [],
   "source": [
    "import pandas as pd\n",
    "import numpy as np\n",
    "from sklearn.metrics import log_loss\n",
    "import tensorflow as tf\n",
    "import torch"
   ]
  },
  {
   "cell_type": "code",
   "execution_count": null,
   "metadata": {},
   "outputs": [],
   "source": [
    "# Load the dataset\n",
    "df = pd.read_csv('Data/binomial-classification-v3.csv')\n",
    "\n",
    "y_true = df['y1'].values\n",
    "y_pred = df['p1'].values"
   ]
  },
  {
   "cell_type": "code",
   "execution_count": 3,
   "metadata": {},
   "outputs": [
    {
     "name": "stdout",
     "output_type": "stream",
     "text": [
      "Manual Log Loss: 0.31998196154710273\n"
     ]
    }
   ],
   "source": [
    "# Manual computation of log loss\n",
    "def manual_log_loss(y_true, y_pred):\n",
    "    epsilon = 1e-15  # To avoid log(0)\n",
    "    y_pred = np.clip(y_pred, epsilon, 1 - epsilon)\n",
    "    return -np.mean(y_true * np.log(y_pred) + (1 - y_true) * np.log(1 - y_pred))\n",
    "\n",
    "manual_result = manual_log_loss(y_true, y_pred)\n",
    "print(f\"Manual Log Loss: {manual_result}\")"
   ]
  },
  {
   "cell_type": "code",
   "execution_count": 4,
   "metadata": {},
   "outputs": [
    {
     "name": "stdout",
     "output_type": "stream",
     "text": [
      "Sklearn Log Loss: 0.31998196154710273\n"
     ]
    }
   ],
   "source": [
    "# Sklearn log loss\n",
    "sklearn_result = log_loss(y_true, y_pred)\n",
    "print(f\"Sklearn Log Loss: {sklearn_result}\")"
   ]
  },
  {
   "cell_type": "code",
   "execution_count": 5,
   "metadata": {},
   "outputs": [
    {
     "name": "stdout",
     "output_type": "stream",
     "text": [
      "TensorFlow Log Loss: 0.3199819326400757\n"
     ]
    }
   ],
   "source": [
    "# TensorFlow log loss\n",
    "y_true_tf = tf.constant(y_true, dtype=tf.float32)\n",
    "y_pred_tf = tf.constant(y_pred, dtype=tf.float32)\n",
    "\n",
    "loss_fn = tf.keras.losses.BinaryCrossentropy()\n",
    "tf_result = loss_fn(y_true_tf, y_pred_tf).numpy()\n",
    "print(f\"TensorFlow Log Loss: {tf_result}\")"
   ]
  },
  {
   "cell_type": "code",
   "execution_count": 6,
   "metadata": {},
   "outputs": [
    {
     "name": "stdout",
     "output_type": "stream",
     "text": [
      "PyTorch Log Loss: 0.3199819326400757\n"
     ]
    }
   ],
   "source": [
    "# PyTorch log loss\n",
    "y_true_torch = torch.tensor(y_true, dtype=torch.float32)\n",
    "y_pred_torch = torch.tensor(y_pred, dtype=torch.float32)\n",
    "\n",
    "loss_fn_torch = torch.nn.BCELoss()\n",
    "torch_result = loss_fn_torch(y_pred_torch, y_true_torch).item()\n",
    "print(f\"PyTorch Log Loss: {torch_result}\")"
   ]
  },
  {
   "cell_type": "code",
   "execution_count": 7,
   "metadata": {},
   "outputs": [
    {
     "name": "stdout",
     "output_type": "stream",
     "text": [
      "All values match across manual, sklearn, tensorflow, and torch.\n"
     ]
    }
   ],
   "source": [
    "# Verify all results match\n",
    "assert np.isclose(manual_result, sklearn_result, atol=1e-6), \"Manual and Sklearn results do not match.\"\n",
    "assert np.isclose(manual_result, tf_result, atol=1e-6), \"Manual and TensorFlow results do not match.\"\n",
    "assert np.isclose(manual_result, torch_result, atol=1e-6), \"Manual and PyTorch results do not match.\"\n",
    "\n",
    "print(\"All values match across manual, sklearn, tensorflow, and torch.\")"
   ]
  }
 ],
 "metadata": {
  "kernelspec": {
   "display_name": "Python 3",
   "language": "python",
   "name": "python3"
  },
  "language_info": {
   "codemirror_mode": {
    "name": "ipython",
    "version": 3
   },
   "file_extension": ".py",
   "mimetype": "text/x-python",
   "name": "python",
   "nbconvert_exporter": "python",
   "pygments_lexer": "ipython3",
   "version": "3.12.5"
  }
 },
 "nbformat": 4,
 "nbformat_minor": 2
}
